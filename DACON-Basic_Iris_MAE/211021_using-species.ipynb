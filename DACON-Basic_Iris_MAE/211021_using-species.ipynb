{
 "cells": [
  {
   "cell_type": "markdown",
   "id": "d2382deb",
   "metadata": {},
   "source": [
    "## 분석 전략\n",
    "\n",
    "Baseline 코드를 통해 y=ax+b의 단순한 모델로도 어느정도 효과적인 성능을 확인하였다.\n",
    "여기서 가장 추가하고싶은 부분은 (1)**종 분류**이다. EDA 코드를 통해 종에대한 고려가 필수적임을 알 수 있다.\n",
    "\n",
    "다음으로 y=ax+b 보다 조금더 좋은 선(?)을 그리고 싶다.\n",
    "EDA를 통해서 2개의 인자를 통해 1개의 결과값을 확인하였다. (여기서 2개의 인자는 sepal length, petal length)\n",
    "따라서 2차원에서 직선이 아닌 (2)**3차원의 직선**을 그려서 각각의 결과를 구해보겠다.\n",
    "\n",
    "**[요약]**\n",
    "종분류, 3차원직선을 도입한다."
   ]
  },
  {
   "cell_type": "code",
   "execution_count": null,
   "id": "13e63f48",
   "metadata": {},
   "outputs": [],
   "source": []
  },
  {
   "cell_type": "code",
   "execution_count": null,
   "id": "226f5493",
   "metadata": {},
   "outputs": [],
   "source": []
  }
 ],
 "metadata": {
  "kernelspec": {
   "display_name": "Python 3 (ipykernel)",
   "language": "python",
   "name": "python3"
  },
  "language_info": {
   "codemirror_mode": {
    "name": "ipython",
    "version": 3
   },
   "file_extension": ".py",
   "mimetype": "text/x-python",
   "name": "python",
   "nbconvert_exporter": "python",
   "pygments_lexer": "ipython3",
   "version": "3.9.6"
  },
  "toc": {
   "base_numbering": 1,
   "nav_menu": {},
   "number_sections": true,
   "sideBar": true,
   "skip_h1_title": false,
   "title_cell": "Table of Contents",
   "title_sidebar": "Contents",
   "toc_cell": false,
   "toc_position": {},
   "toc_section_display": true,
   "toc_window_display": false
  }
 },
 "nbformat": 4,
 "nbformat_minor": 5
}
