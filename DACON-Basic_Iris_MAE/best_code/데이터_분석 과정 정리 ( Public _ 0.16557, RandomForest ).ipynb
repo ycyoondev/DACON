{
 "cells": [
  {
   "cell_type": "markdown",
   "id": "0f834a58",
   "metadata": {},
   "source": [
    "## [dacon basic] Iris 꽃받침 / 꽃잎 너비 예측 경진대회\n",
    "데이콘 베이직 Basic | 정형 | MAE\n",
    "\n",
    "https://dacon.io/competitions/official/235836/overview/description"
   ]
  },
  {
   "cell_type": "code",
   "execution_count": null,
   "id": "065f702d",
   "metadata": {},
   "outputs": [],
   "source": []
  },
  {
   "cell_type": "markdown",
   "id": "612122a9",
   "metadata": {},
   "source": [
    "### 1. Import Packages"
   ]
  },
  {
   "cell_type": "code",
   "execution_count": 5,
   "id": "236a7a99",
   "metadata": {},
   "outputs": [],
   "source": [
    "import pandas as pd\n",
    "import numpy as np\n",
    "import matplotlib.pyplot as plt\n",
    "import seaborn as sns"
   ]
  },
  {
   "cell_type": "code",
   "execution_count": 6,
   "id": "32e7c396",
   "metadata": {},
   "outputs": [],
   "source": [
    "import warnings\n",
    "warnings.filterwarnings(action='ignore')"
   ]
  },
  {
   "cell_type": "code",
   "execution_count": null,
   "id": "6a684d47",
   "metadata": {},
   "outputs": [],
   "source": []
  },
  {
   "cell_type": "markdown",
   "id": "abed6c09",
   "metadata": {},
   "source": [
    "### 2. Data Loading"
   ]
  },
  {
   "cell_type": "code",
   "execution_count": 7,
   "id": "2b0e3234",
   "metadata": {},
   "outputs": [
    {
     "name": "stdout",
     "output_type": "stream",
     "text": [
      "(75, 5)\n"
     ]
    },
    {
     "data": {
      "text/html": [
       "<div>\n",
       "<style scoped>\n",
       "    .dataframe tbody tr th:only-of-type {\n",
       "        vertical-align: middle;\n",
       "    }\n",
       "\n",
       "    .dataframe tbody tr th {\n",
       "        vertical-align: top;\n",
       "    }\n",
       "\n",
       "    .dataframe thead th {\n",
       "        text-align: right;\n",
       "    }\n",
       "</style>\n",
       "<table border=\"1\" class=\"dataframe\">\n",
       "  <thead>\n",
       "    <tr style=\"text-align: right;\">\n",
       "      <th></th>\n",
       "      <th>species</th>\n",
       "      <th>sepal length (cm)</th>\n",
       "      <th>petal length (cm)</th>\n",
       "      <th>sepal width (cm)</th>\n",
       "      <th>petal width (cm)</th>\n",
       "    </tr>\n",
       "    <tr>\n",
       "      <th>id</th>\n",
       "      <th></th>\n",
       "      <th></th>\n",
       "      <th></th>\n",
       "      <th></th>\n",
       "      <th></th>\n",
       "    </tr>\n",
       "  </thead>\n",
       "  <tbody>\n",
       "    <tr>\n",
       "      <th>0</th>\n",
       "      <td>setosa</td>\n",
       "      <td>4.4</td>\n",
       "      <td>1.4</td>\n",
       "      <td>2.9</td>\n",
       "      <td>0.2</td>\n",
       "    </tr>\n",
       "    <tr>\n",
       "      <th>1</th>\n",
       "      <td>versicolor</td>\n",
       "      <td>6.4</td>\n",
       "      <td>4.5</td>\n",
       "      <td>3.2</td>\n",
       "      <td>1.5</td>\n",
       "    </tr>\n",
       "  </tbody>\n",
       "</table>\n",
       "</div>"
      ],
      "text/plain": [
       "       species  sepal length (cm)  petal length (cm)  sepal width (cm)  \\\n",
       "id                                                                       \n",
       "0       setosa                4.4                1.4               2.9   \n",
       "1   versicolor                6.4                4.5               3.2   \n",
       "\n",
       "    petal width (cm)  \n",
       "id                    \n",
       "0                0.2  \n",
       "1                1.5  "
      ]
     },
     "execution_count": 7,
     "metadata": {},
     "output_type": "execute_result"
    }
   ],
   "source": [
    "train = pd.read_csv(\"data/iris_train.csv\", index_col='id')\n",
    "\n",
    "print(train.shape)\n",
    "train.head(2)"
   ]
  },
  {
   "cell_type": "code",
   "execution_count": 8,
   "id": "e80f5921",
   "metadata": {},
   "outputs": [
    {
     "name": "stdout",
     "output_type": "stream",
     "text": [
      "(75, 3)\n"
     ]
    },
    {
     "data": {
      "text/html": [
       "<div>\n",
       "<style scoped>\n",
       "    .dataframe tbody tr th:only-of-type {\n",
       "        vertical-align: middle;\n",
       "    }\n",
       "\n",
       "    .dataframe tbody tr th {\n",
       "        vertical-align: top;\n",
       "    }\n",
       "\n",
       "    .dataframe thead th {\n",
       "        text-align: right;\n",
       "    }\n",
       "</style>\n",
       "<table border=\"1\" class=\"dataframe\">\n",
       "  <thead>\n",
       "    <tr style=\"text-align: right;\">\n",
       "      <th></th>\n",
       "      <th>species</th>\n",
       "      <th>sepal length (cm)</th>\n",
       "      <th>petal length (cm)</th>\n",
       "    </tr>\n",
       "    <tr>\n",
       "      <th>id</th>\n",
       "      <th></th>\n",
       "      <th></th>\n",
       "      <th></th>\n",
       "    </tr>\n",
       "  </thead>\n",
       "  <tbody>\n",
       "    <tr>\n",
       "      <th>0</th>\n",
       "      <td>setosa</td>\n",
       "      <td>5.4</td>\n",
       "      <td>1.7</td>\n",
       "    </tr>\n",
       "    <tr>\n",
       "      <th>1</th>\n",
       "      <td>setosa</td>\n",
       "      <td>5.7</td>\n",
       "      <td>1.5</td>\n",
       "    </tr>\n",
       "  </tbody>\n",
       "</table>\n",
       "</div>"
      ],
      "text/plain": [
       "   species  sepal length (cm)  petal length (cm)\n",
       "id                                              \n",
       "0   setosa                5.4                1.7\n",
       "1   setosa                5.7                1.5"
      ]
     },
     "execution_count": 8,
     "metadata": {},
     "output_type": "execute_result"
    }
   ],
   "source": [
    "test = pd.read_csv(\"data/iris_test.csv\", index_col='id')\n",
    "\n",
    "print(test.shape)\n",
    "test.head(2)"
   ]
  },
  {
   "cell_type": "code",
   "execution_count": 9,
   "id": "ddd1503b",
   "metadata": {},
   "outputs": [
    {
     "name": "stdout",
     "output_type": "stream",
     "text": [
      "(75, 2)\n"
     ]
    },
    {
     "data": {
      "text/html": [
       "<div>\n",
       "<style scoped>\n",
       "    .dataframe tbody tr th:only-of-type {\n",
       "        vertical-align: middle;\n",
       "    }\n",
       "\n",
       "    .dataframe tbody tr th {\n",
       "        vertical-align: top;\n",
       "    }\n",
       "\n",
       "    .dataframe thead th {\n",
       "        text-align: right;\n",
       "    }\n",
       "</style>\n",
       "<table border=\"1\" class=\"dataframe\">\n",
       "  <thead>\n",
       "    <tr style=\"text-align: right;\">\n",
       "      <th></th>\n",
       "      <th>sepal width (cm)</th>\n",
       "      <th>petal width (cm)</th>\n",
       "    </tr>\n",
       "    <tr>\n",
       "      <th>id</th>\n",
       "      <th></th>\n",
       "      <th></th>\n",
       "    </tr>\n",
       "  </thead>\n",
       "  <tbody>\n",
       "    <tr>\n",
       "      <th>0</th>\n",
       "      <td>0</td>\n",
       "      <td>0</td>\n",
       "    </tr>\n",
       "    <tr>\n",
       "      <th>1</th>\n",
       "      <td>0</td>\n",
       "      <td>0</td>\n",
       "    </tr>\n",
       "  </tbody>\n",
       "</table>\n",
       "</div>"
      ],
      "text/plain": [
       "    sepal width (cm)  petal width (cm)\n",
       "id                                    \n",
       "0                  0                 0\n",
       "1                  0                 0"
      ]
     },
     "execution_count": 9,
     "metadata": {},
     "output_type": "execute_result"
    }
   ],
   "source": [
    "submission = pd.read_csv(\"data/sample_submission.csv\", index_col='id')\n",
    "\n",
    "print(submission.shape)\n",
    "submission.head(2)"
   ]
  },
  {
   "cell_type": "code",
   "execution_count": null,
   "id": "118f46b6",
   "metadata": {},
   "outputs": [],
   "source": []
  },
  {
   "cell_type": "markdown",
   "id": "111aace0",
   "metadata": {},
   "source": [
    "### 3. Preprocessing"
   ]
  },
  {
   "cell_type": "code",
   "execution_count": 9,
   "id": "8167f72f",
   "metadata": {},
   "outputs": [
    {
     "name": "stdout",
     "output_type": "stream",
     "text": [
      "<class 'pandas.core.frame.DataFrame'>\n",
      "Int64Index: 75 entries, 0 to 74\n",
      "Data columns (total 5 columns):\n",
      " #   Column             Non-Null Count  Dtype  \n",
      "---  ------             --------------  -----  \n",
      " 0   species            75 non-null     object \n",
      " 1   sepal length (cm)  75 non-null     float64\n",
      " 2   petal length (cm)  75 non-null     float64\n",
      " 3   sepal width (cm)   75 non-null     float64\n",
      " 4   petal width (cm)   75 non-null     float64\n",
      "dtypes: float64(4), object(1)\n",
      "memory usage: 3.5+ KB\n"
     ]
    },
    {
     "data": {
      "text/html": [
       "<div>\n",
       "<style scoped>\n",
       "    .dataframe tbody tr th:only-of-type {\n",
       "        vertical-align: middle;\n",
       "    }\n",
       "\n",
       "    .dataframe tbody tr th {\n",
       "        vertical-align: top;\n",
       "    }\n",
       "\n",
       "    .dataframe thead th {\n",
       "        text-align: right;\n",
       "    }\n",
       "</style>\n",
       "<table border=\"1\" class=\"dataframe\">\n",
       "  <thead>\n",
       "    <tr style=\"text-align: right;\">\n",
       "      <th></th>\n",
       "      <th>sepal length (cm)</th>\n",
       "      <th>petal length (cm)</th>\n",
       "      <th>sepal width (cm)</th>\n",
       "      <th>petal width (cm)</th>\n",
       "    </tr>\n",
       "  </thead>\n",
       "  <tbody>\n",
       "    <tr>\n",
       "      <th>count</th>\n",
       "      <td>75.000000</td>\n",
       "      <td>75.000000</td>\n",
       "      <td>75.000000</td>\n",
       "      <td>75.000000</td>\n",
       "    </tr>\n",
       "    <tr>\n",
       "      <th>mean</th>\n",
       "      <td>6.044000</td>\n",
       "      <td>4.258667</td>\n",
       "      <td>2.958667</td>\n",
       "      <td>1.384000</td>\n",
       "    </tr>\n",
       "    <tr>\n",
       "      <th>std</th>\n",
       "      <td>0.842653</td>\n",
       "      <td>1.615390</td>\n",
       "      <td>0.388376</td>\n",
       "      <td>0.697106</td>\n",
       "    </tr>\n",
       "    <tr>\n",
       "      <th>min</th>\n",
       "      <td>4.300000</td>\n",
       "      <td>1.100000</td>\n",
       "      <td>2.000000</td>\n",
       "      <td>0.100000</td>\n",
       "    </tr>\n",
       "    <tr>\n",
       "      <th>25%</th>\n",
       "      <td>5.550000</td>\n",
       "      <td>3.750000</td>\n",
       "      <td>2.800000</td>\n",
       "      <td>1.000000</td>\n",
       "    </tr>\n",
       "    <tr>\n",
       "      <th>50%</th>\n",
       "      <td>6.100000</td>\n",
       "      <td>4.700000</td>\n",
       "      <td>3.000000</td>\n",
       "      <td>1.500000</td>\n",
       "    </tr>\n",
       "    <tr>\n",
       "      <th>75%</th>\n",
       "      <td>6.600000</td>\n",
       "      <td>5.300000</td>\n",
       "      <td>3.200000</td>\n",
       "      <td>1.850000</td>\n",
       "    </tr>\n",
       "    <tr>\n",
       "      <th>max</th>\n",
       "      <td>7.700000</td>\n",
       "      <td>6.900000</td>\n",
       "      <td>4.000000</td>\n",
       "      <td>2.500000</td>\n",
       "    </tr>\n",
       "  </tbody>\n",
       "</table>\n",
       "</div>"
      ],
      "text/plain": [
       "       sepal length (cm)  petal length (cm)  sepal width (cm)  \\\n",
       "count          75.000000          75.000000         75.000000   \n",
       "mean            6.044000           4.258667          2.958667   \n",
       "std             0.842653           1.615390          0.388376   \n",
       "min             4.300000           1.100000          2.000000   \n",
       "25%             5.550000           3.750000          2.800000   \n",
       "50%             6.100000           4.700000          3.000000   \n",
       "75%             6.600000           5.300000          3.200000   \n",
       "max             7.700000           6.900000          4.000000   \n",
       "\n",
       "       petal width (cm)  \n",
       "count         75.000000  \n",
       "mean           1.384000  \n",
       "std            0.697106  \n",
       "min            0.100000  \n",
       "25%            1.000000  \n",
       "50%            1.500000  \n",
       "75%            1.850000  \n",
       "max            2.500000  "
      ]
     },
     "execution_count": 9,
     "metadata": {},
     "output_type": "execute_result"
    }
   ],
   "source": [
    "train.info()\n",
    "train.describe()"
   ]
  },
  {
   "cell_type": "code",
   "execution_count": 10,
   "id": "88210cdf",
   "metadata": {},
   "outputs": [
    {
     "name": "stdout",
     "output_type": "stream",
     "text": [
      "<class 'pandas.core.frame.DataFrame'>\n",
      "Int64Index: 75 entries, 0 to 74\n",
      "Data columns (total 3 columns):\n",
      " #   Column             Non-Null Count  Dtype  \n",
      "---  ------             --------------  -----  \n",
      " 0   species            75 non-null     object \n",
      " 1   sepal length (cm)  75 non-null     float64\n",
      " 2   petal length (cm)  75 non-null     float64\n",
      "dtypes: float64(2), object(1)\n",
      "memory usage: 2.3+ KB\n"
     ]
    },
    {
     "data": {
      "text/html": [
       "<div>\n",
       "<style scoped>\n",
       "    .dataframe tbody tr th:only-of-type {\n",
       "        vertical-align: middle;\n",
       "    }\n",
       "\n",
       "    .dataframe tbody tr th {\n",
       "        vertical-align: top;\n",
       "    }\n",
       "\n",
       "    .dataframe thead th {\n",
       "        text-align: right;\n",
       "    }\n",
       "</style>\n",
       "<table border=\"1\" class=\"dataframe\">\n",
       "  <thead>\n",
       "    <tr style=\"text-align: right;\">\n",
       "      <th></th>\n",
       "      <th>sepal length (cm)</th>\n",
       "      <th>petal length (cm)</th>\n",
       "    </tr>\n",
       "  </thead>\n",
       "  <tbody>\n",
       "    <tr>\n",
       "      <th>count</th>\n",
       "      <td>75.000000</td>\n",
       "      <td>75.000000</td>\n",
       "    </tr>\n",
       "    <tr>\n",
       "      <th>mean</th>\n",
       "      <td>5.642667</td>\n",
       "      <td>3.257333</td>\n",
       "    </tr>\n",
       "    <tr>\n",
       "      <th>std</th>\n",
       "      <td>0.767441</td>\n",
       "      <td>1.776816</td>\n",
       "    </tr>\n",
       "    <tr>\n",
       "      <th>min</th>\n",
       "      <td>4.400000</td>\n",
       "      <td>1.000000</td>\n",
       "    </tr>\n",
       "    <tr>\n",
       "      <th>25%</th>\n",
       "      <td>5.100000</td>\n",
       "      <td>1.500000</td>\n",
       "    </tr>\n",
       "    <tr>\n",
       "      <th>50%</th>\n",
       "      <td>5.500000</td>\n",
       "      <td>3.700000</td>\n",
       "    </tr>\n",
       "    <tr>\n",
       "      <th>75%</th>\n",
       "      <td>6.150000</td>\n",
       "      <td>5.050000</td>\n",
       "    </tr>\n",
       "    <tr>\n",
       "      <th>max</th>\n",
       "      <td>7.900000</td>\n",
       "      <td>6.400000</td>\n",
       "    </tr>\n",
       "  </tbody>\n",
       "</table>\n",
       "</div>"
      ],
      "text/plain": [
       "       sepal length (cm)  petal length (cm)\n",
       "count          75.000000          75.000000\n",
       "mean            5.642667           3.257333\n",
       "std             0.767441           1.776816\n",
       "min             4.400000           1.000000\n",
       "25%             5.100000           1.500000\n",
       "50%             5.500000           3.700000\n",
       "75%             6.150000           5.050000\n",
       "max             7.900000           6.400000"
      ]
     },
     "execution_count": 10,
     "metadata": {},
     "output_type": "execute_result"
    }
   ],
   "source": [
    "test.info()\n",
    "test.describe()"
   ]
  },
  {
   "cell_type": "code",
   "execution_count": null,
   "id": "f1330115",
   "metadata": {},
   "outputs": [],
   "source": []
  },
  {
   "cell_type": "markdown",
   "id": "165df046",
   "metadata": {},
   "source": [
    "##### Case 1 : Label encoding"
   ]
  },
  {
   "cell_type": "code",
   "execution_count": 11,
   "id": "45571081",
   "metadata": {},
   "outputs": [
    {
     "name": "stdout",
     "output_type": "stream",
     "text": [
      "0 1 setosa\n",
      "1 2 versicolor\n",
      "2 3 virginica\n"
     ]
    }
   ],
   "source": [
    "cnt = 0\n",
    "for i, u in enumerate(train['species'].unique()):\n",
    "    cnt = cnt + 1\n",
    "    print(i, cnt, u)\n",
    "    "
   ]
  },
  {
   "cell_type": "code",
   "execution_count": 12,
   "id": "3825229a",
   "metadata": {},
   "outputs": [
    {
     "data": {
      "text/html": [
       "<div>\n",
       "<style scoped>\n",
       "    .dataframe tbody tr th:only-of-type {\n",
       "        vertical-align: middle;\n",
       "    }\n",
       "\n",
       "    .dataframe tbody tr th {\n",
       "        vertical-align: top;\n",
       "    }\n",
       "\n",
       "    .dataframe thead th {\n",
       "        text-align: right;\n",
       "    }\n",
       "</style>\n",
       "<table border=\"1\" class=\"dataframe\">\n",
       "  <thead>\n",
       "    <tr style=\"text-align: right;\">\n",
       "      <th></th>\n",
       "      <th>species</th>\n",
       "      <th>sepal length (cm)</th>\n",
       "      <th>petal length (cm)</th>\n",
       "      <th>sepal width (cm)</th>\n",
       "      <th>petal width (cm)</th>\n",
       "      <th>species(label)</th>\n",
       "    </tr>\n",
       "    <tr>\n",
       "      <th>id</th>\n",
       "      <th></th>\n",
       "      <th></th>\n",
       "      <th></th>\n",
       "      <th></th>\n",
       "      <th></th>\n",
       "      <th></th>\n",
       "    </tr>\n",
       "  </thead>\n",
       "  <tbody>\n",
       "    <tr>\n",
       "      <th>0</th>\n",
       "      <td>setosa</td>\n",
       "      <td>4.4</td>\n",
       "      <td>1.4</td>\n",
       "      <td>2.9</td>\n",
       "      <td>0.2</td>\n",
       "      <td>1.0</td>\n",
       "    </tr>\n",
       "    <tr>\n",
       "      <th>1</th>\n",
       "      <td>versicolor</td>\n",
       "      <td>6.4</td>\n",
       "      <td>4.5</td>\n",
       "      <td>3.2</td>\n",
       "      <td>1.5</td>\n",
       "      <td>2.0</td>\n",
       "    </tr>\n",
       "  </tbody>\n",
       "</table>\n",
       "</div>"
      ],
      "text/plain": [
       "       species  sepal length (cm)  petal length (cm)  sepal width (cm)  \\\n",
       "id                                                                       \n",
       "0       setosa                4.4                1.4               2.9   \n",
       "1   versicolor                6.4                4.5               3.2   \n",
       "\n",
       "    petal width (cm)  species(label)  \n",
       "id                                    \n",
       "0                0.2             1.0  \n",
       "1                1.5             2.0  "
      ]
     },
     "execution_count": 12,
     "metadata": {},
     "output_type": "execute_result"
    }
   ],
   "source": [
    "train['species'].unique() #['setosa', 'versicolor', 'virginica']\n",
    "\n",
    "for i, u in enumerate(train['species'].unique()):\n",
    "    train.loc[train['species'] == u, 'species(label)'] = i+1\n",
    "    \n",
    "train.head(2)    "
   ]
  },
  {
   "cell_type": "code",
   "execution_count": 13,
   "id": "ff226bbf",
   "metadata": {
    "scrolled": true
   },
   "outputs": [
    {
     "data": {
      "text/html": [
       "<div>\n",
       "<style scoped>\n",
       "    .dataframe tbody tr th:only-of-type {\n",
       "        vertical-align: middle;\n",
       "    }\n",
       "\n",
       "    .dataframe tbody tr th {\n",
       "        vertical-align: top;\n",
       "    }\n",
       "\n",
       "    .dataframe thead th {\n",
       "        text-align: right;\n",
       "    }\n",
       "</style>\n",
       "<table border=\"1\" class=\"dataframe\">\n",
       "  <thead>\n",
       "    <tr style=\"text-align: right;\">\n",
       "      <th></th>\n",
       "      <th>species</th>\n",
       "      <th>sepal length (cm)</th>\n",
       "      <th>petal length (cm)</th>\n",
       "      <th>species(label)</th>\n",
       "    </tr>\n",
       "    <tr>\n",
       "      <th>id</th>\n",
       "      <th></th>\n",
       "      <th></th>\n",
       "      <th></th>\n",
       "      <th></th>\n",
       "    </tr>\n",
       "  </thead>\n",
       "  <tbody>\n",
       "    <tr>\n",
       "      <th>0</th>\n",
       "      <td>setosa</td>\n",
       "      <td>5.4</td>\n",
       "      <td>1.7</td>\n",
       "      <td>1.0</td>\n",
       "    </tr>\n",
       "    <tr>\n",
       "      <th>1</th>\n",
       "      <td>setosa</td>\n",
       "      <td>5.7</td>\n",
       "      <td>1.5</td>\n",
       "      <td>1.0</td>\n",
       "    </tr>\n",
       "  </tbody>\n",
       "</table>\n",
       "</div>"
      ],
      "text/plain": [
       "   species  sepal length (cm)  petal length (cm)  species(label)\n",
       "id                                                              \n",
       "0   setosa                5.4                1.7             1.0\n",
       "1   setosa                5.7                1.5             1.0"
      ]
     },
     "execution_count": 13,
     "metadata": {},
     "output_type": "execute_result"
    }
   ],
   "source": [
    "test.loc[test[\"species\"] == \"setosa\", 'species(label)'] = 1\n",
    "test.loc[test[\"species\"] == \"versicolor\", 'species(label)'] = 2\n",
    "test.loc[test[\"species\"] == \"virginica\", 'species(label)'] = 3\n",
    "\n",
    "test.head(2)"
   ]
  },
  {
   "cell_type": "markdown",
   "id": "0545c709",
   "metadata": {},
   "source": [
    "##### Case 2 : One-hot encoding"
   ]
  },
  {
   "cell_type": "code",
   "execution_count": 14,
   "id": "014cbd9a",
   "metadata": {},
   "outputs": [
    {
     "data": {
      "text/html": [
       "<div>\n",
       "<style scoped>\n",
       "    .dataframe tbody tr th:only-of-type {\n",
       "        vertical-align: middle;\n",
       "    }\n",
       "\n",
       "    .dataframe tbody tr th {\n",
       "        vertical-align: top;\n",
       "    }\n",
       "\n",
       "    .dataframe thead th {\n",
       "        text-align: right;\n",
       "    }\n",
       "</style>\n",
       "<table border=\"1\" class=\"dataframe\">\n",
       "  <thead>\n",
       "    <tr style=\"text-align: right;\">\n",
       "      <th></th>\n",
       "      <th>species</th>\n",
       "      <th>sepal length (cm)</th>\n",
       "      <th>petal length (cm)</th>\n",
       "      <th>sepal width (cm)</th>\n",
       "      <th>petal width (cm)</th>\n",
       "      <th>species(label)</th>\n",
       "      <th>setosa</th>\n",
       "      <th>versicolor</th>\n",
       "      <th>virginica</th>\n",
       "    </tr>\n",
       "    <tr>\n",
       "      <th>id</th>\n",
       "      <th></th>\n",
       "      <th></th>\n",
       "      <th></th>\n",
       "      <th></th>\n",
       "      <th></th>\n",
       "      <th></th>\n",
       "      <th></th>\n",
       "      <th></th>\n",
       "      <th></th>\n",
       "    </tr>\n",
       "  </thead>\n",
       "  <tbody>\n",
       "    <tr>\n",
       "      <th>0</th>\n",
       "      <td>setosa</td>\n",
       "      <td>4.4</td>\n",
       "      <td>1.4</td>\n",
       "      <td>2.9</td>\n",
       "      <td>0.2</td>\n",
       "      <td>1.0</td>\n",
       "      <td>1</td>\n",
       "      <td>0</td>\n",
       "      <td>0</td>\n",
       "    </tr>\n",
       "    <tr>\n",
       "      <th>1</th>\n",
       "      <td>versicolor</td>\n",
       "      <td>6.4</td>\n",
       "      <td>4.5</td>\n",
       "      <td>3.2</td>\n",
       "      <td>1.5</td>\n",
       "      <td>2.0</td>\n",
       "      <td>0</td>\n",
       "      <td>1</td>\n",
       "      <td>0</td>\n",
       "    </tr>\n",
       "    <tr>\n",
       "      <th>2</th>\n",
       "      <td>virginica</td>\n",
       "      <td>6.2</td>\n",
       "      <td>4.8</td>\n",
       "      <td>2.8</td>\n",
       "      <td>1.8</td>\n",
       "      <td>3.0</td>\n",
       "      <td>0</td>\n",
       "      <td>0</td>\n",
       "      <td>1</td>\n",
       "    </tr>\n",
       "  </tbody>\n",
       "</table>\n",
       "</div>"
      ],
      "text/plain": [
       "       species  sepal length (cm)  petal length (cm)  sepal width (cm)  \\\n",
       "id                                                                       \n",
       "0       setosa                4.4                1.4               2.9   \n",
       "1   versicolor                6.4                4.5               3.2   \n",
       "2    virginica                6.2                4.8               2.8   \n",
       "\n",
       "    petal width (cm)  species(label)  setosa  versicolor  virginica  \n",
       "id                                                                   \n",
       "0                0.2             1.0       1           0          0  \n",
       "1                1.5             2.0       0           1          0  \n",
       "2                1.8             3.0       0           0          1  "
      ]
     },
     "execution_count": 14,
     "metadata": {},
     "output_type": "execute_result"
    }
   ],
   "source": [
    "pd.get_dummies(train['species'])\n",
    "\n",
    "train = pd.concat([train, pd.get_dummies(train['species'])], axis=1)\n",
    "train.head(3)"
   ]
  },
  {
   "cell_type": "code",
   "execution_count": 15,
   "id": "e1eb2dd2",
   "metadata": {},
   "outputs": [
    {
     "data": {
      "text/html": [
       "<div>\n",
       "<style scoped>\n",
       "    .dataframe tbody tr th:only-of-type {\n",
       "        vertical-align: middle;\n",
       "    }\n",
       "\n",
       "    .dataframe tbody tr th {\n",
       "        vertical-align: top;\n",
       "    }\n",
       "\n",
       "    .dataframe thead th {\n",
       "        text-align: right;\n",
       "    }\n",
       "</style>\n",
       "<table border=\"1\" class=\"dataframe\">\n",
       "  <thead>\n",
       "    <tr style=\"text-align: right;\">\n",
       "      <th></th>\n",
       "      <th>species</th>\n",
       "      <th>sepal length (cm)</th>\n",
       "      <th>petal length (cm)</th>\n",
       "      <th>species(label)</th>\n",
       "      <th>setosa</th>\n",
       "      <th>versicolor</th>\n",
       "      <th>virginica</th>\n",
       "    </tr>\n",
       "    <tr>\n",
       "      <th>id</th>\n",
       "      <th></th>\n",
       "      <th></th>\n",
       "      <th></th>\n",
       "      <th></th>\n",
       "      <th></th>\n",
       "      <th></th>\n",
       "      <th></th>\n",
       "    </tr>\n",
       "  </thead>\n",
       "  <tbody>\n",
       "    <tr>\n",
       "      <th>0</th>\n",
       "      <td>setosa</td>\n",
       "      <td>5.4</td>\n",
       "      <td>1.7</td>\n",
       "      <td>1.0</td>\n",
       "      <td>1</td>\n",
       "      <td>0</td>\n",
       "      <td>0</td>\n",
       "    </tr>\n",
       "    <tr>\n",
       "      <th>1</th>\n",
       "      <td>setosa</td>\n",
       "      <td>5.7</td>\n",
       "      <td>1.5</td>\n",
       "      <td>1.0</td>\n",
       "      <td>1</td>\n",
       "      <td>0</td>\n",
       "      <td>0</td>\n",
       "    </tr>\n",
       "    <tr>\n",
       "      <th>2</th>\n",
       "      <td>setosa</td>\n",
       "      <td>5.3</td>\n",
       "      <td>1.5</td>\n",
       "      <td>1.0</td>\n",
       "      <td>1</td>\n",
       "      <td>0</td>\n",
       "      <td>0</td>\n",
       "    </tr>\n",
       "  </tbody>\n",
       "</table>\n",
       "</div>"
      ],
      "text/plain": [
       "   species  sepal length (cm)  petal length (cm)  species(label)  setosa  \\\n",
       "id                                                                         \n",
       "0   setosa                5.4                1.7             1.0       1   \n",
       "1   setosa                5.7                1.5             1.0       1   \n",
       "2   setosa                5.3                1.5             1.0       1   \n",
       "\n",
       "    versicolor  virginica  \n",
       "id                         \n",
       "0            0          0  \n",
       "1            0          0  \n",
       "2            0          0  "
      ]
     },
     "execution_count": 15,
     "metadata": {},
     "output_type": "execute_result"
    }
   ],
   "source": [
    "pd.get_dummies(test['species'])\n",
    "test = pd.concat([test, pd.get_dummies(test['species'])], axis=1)\n",
    "test.head(3)"
   ]
  },
  {
   "cell_type": "markdown",
   "id": "04749179",
   "metadata": {},
   "source": [
    "##### Case 3 : Standard Scaler"
   ]
  },
  {
   "cell_type": "code",
   "execution_count": 19,
   "id": "a019bd34",
   "metadata": {},
   "outputs": [],
   "source": [
    "from sklearn.preprocessing import StandardScaler"
   ]
  },
  {
   "cell_type": "code",
   "execution_count": 20,
   "id": "a267198e",
   "metadata": {},
   "outputs": [],
   "source": [
    "sscaler = StandardScaler()"
   ]
  },
  {
   "cell_type": "code",
   "execution_count": 98,
   "id": "77de5611",
   "metadata": {},
   "outputs": [],
   "source": [
    "train.head(1)\n",
    "s_col = \"sepal length (cm)\tpetal length (cm)\tsepal width (cm)\tpetal width (cm)\".split(\"\\t\")\n",
    "\n",
    "sscaler.fit(train[s_col])\n",
    "sscaled = sscaler.transform(train[s_col])"
   ]
  },
  {
   "cell_type": "code",
   "execution_count": 27,
   "id": "150de609",
   "metadata": {},
   "outputs": [
    {
     "data": {
      "text/html": [
       "<div>\n",
       "<style scoped>\n",
       "    .dataframe tbody tr th:only-of-type {\n",
       "        vertical-align: middle;\n",
       "    }\n",
       "\n",
       "    .dataframe tbody tr th {\n",
       "        vertical-align: top;\n",
       "    }\n",
       "\n",
       "    .dataframe thead th {\n",
       "        text-align: right;\n",
       "    }\n",
       "</style>\n",
       "<table border=\"1\" class=\"dataframe\">\n",
       "  <thead>\n",
       "    <tr style=\"text-align: right;\">\n",
       "      <th></th>\n",
       "      <th>species</th>\n",
       "      <th>sepal length (cm)</th>\n",
       "      <th>petal length (cm)</th>\n",
       "      <th>sepal width (cm)</th>\n",
       "      <th>petal width (cm)</th>\n",
       "      <th>species(label)</th>\n",
       "      <th>setosa</th>\n",
       "      <th>versicolor</th>\n",
       "      <th>virginica</th>\n",
       "      <th>ss_sepal length (cm)</th>\n",
       "      <th>ss_petal length (cm)</th>\n",
       "      <th>ss_sepal width (cm)</th>\n",
       "      <th>ss_petal width (cm)</th>\n",
       "    </tr>\n",
       "    <tr>\n",
       "      <th>id</th>\n",
       "      <th></th>\n",
       "      <th></th>\n",
       "      <th></th>\n",
       "      <th></th>\n",
       "      <th></th>\n",
       "      <th></th>\n",
       "      <th></th>\n",
       "      <th></th>\n",
       "      <th></th>\n",
       "      <th></th>\n",
       "      <th></th>\n",
       "      <th></th>\n",
       "      <th></th>\n",
       "    </tr>\n",
       "  </thead>\n",
       "  <tbody>\n",
       "    <tr>\n",
       "      <th>0</th>\n",
       "      <td>setosa</td>\n",
       "      <td>4.4</td>\n",
       "      <td>1.4</td>\n",
       "      <td>2.9</td>\n",
       "      <td>0.2</td>\n",
       "      <td>1.0</td>\n",
       "      <td>1</td>\n",
       "      <td>0</td>\n",
       "      <td>0</td>\n",
       "      <td>-1.964118</td>\n",
       "      <td>-1.781562</td>\n",
       "      <td>-0.152074</td>\n",
       "      <td>-1.709888</td>\n",
       "    </tr>\n",
       "  </tbody>\n",
       "</table>\n",
       "</div>"
      ],
      "text/plain": [
       "   species  sepal length (cm)  petal length (cm)  sepal width (cm)  \\\n",
       "id                                                                   \n",
       "0   setosa                4.4                1.4               2.9   \n",
       "\n",
       "    petal width (cm)  species(label)  setosa  versicolor  virginica  \\\n",
       "id                                                                    \n",
       "0                0.2             1.0       1           0          0   \n",
       "\n",
       "    ss_sepal length (cm)  ss_petal length (cm)  ss_sepal width (cm)  \\\n",
       "id                                                                    \n",
       "0              -1.964118             -1.781562            -0.152074   \n",
       "\n",
       "    ss_petal width (cm)  \n",
       "id                       \n",
       "0             -1.709888  "
      ]
     },
     "execution_count": 27,
     "metadata": {},
     "output_type": "execute_result"
    }
   ],
   "source": [
    "a_col = ['ss_sepal length (cm)', 'ss_petal length (cm)', 'ss_sepal width (cm)', 'ss_petal width (cm)']\n",
    "\n",
    "train[a_col] = sscaled\n",
    "train.head(1)"
   ]
  },
  {
   "cell_type": "code",
   "execution_count": 63,
   "id": "9b1a654a",
   "metadata": {},
   "outputs": [
    {
     "data": {
      "text/html": [
       "<div>\n",
       "<style scoped>\n",
       "    .dataframe tbody tr th:only-of-type {\n",
       "        vertical-align: middle;\n",
       "    }\n",
       "\n",
       "    .dataframe tbody tr th {\n",
       "        vertical-align: top;\n",
       "    }\n",
       "\n",
       "    .dataframe thead th {\n",
       "        text-align: right;\n",
       "    }\n",
       "</style>\n",
       "<table border=\"1\" class=\"dataframe\">\n",
       "  <thead>\n",
       "    <tr style=\"text-align: right;\">\n",
       "      <th></th>\n",
       "      <th>species</th>\n",
       "      <th>sepal length (cm)</th>\n",
       "      <th>petal length (cm)</th>\n",
       "      <th>species(label)</th>\n",
       "      <th>setosa</th>\n",
       "      <th>versicolor</th>\n",
       "      <th>virginica</th>\n",
       "      <th>ss_sepal length (cm)</th>\n",
       "      <th>ss_petal length (cm)</th>\n",
       "    </tr>\n",
       "    <tr>\n",
       "      <th>id</th>\n",
       "      <th></th>\n",
       "      <th></th>\n",
       "      <th></th>\n",
       "      <th></th>\n",
       "      <th></th>\n",
       "      <th></th>\n",
       "      <th></th>\n",
       "      <th></th>\n",
       "      <th></th>\n",
       "    </tr>\n",
       "  </thead>\n",
       "  <tbody>\n",
       "    <tr>\n",
       "      <th>0</th>\n",
       "      <td>setosa</td>\n",
       "      <td>5.4</td>\n",
       "      <td>1.7</td>\n",
       "      <td>1.0</td>\n",
       "      <td>1</td>\n",
       "      <td>0</td>\n",
       "      <td>0</td>\n",
       "      <td>-0.318332</td>\n",
       "      <td>-0.882377</td>\n",
       "    </tr>\n",
       "  </tbody>\n",
       "</table>\n",
       "</div>"
      ],
      "text/plain": [
       "   species  sepal length (cm)  petal length (cm)  species(label)  setosa  \\\n",
       "id                                                                         \n",
       "0   setosa                5.4                1.7             1.0       1   \n",
       "\n",
       "    versicolor  virginica  ss_sepal length (cm)  ss_petal length (cm)  \n",
       "id                                                                     \n",
       "0            0          0             -0.318332             -0.882377  "
      ]
     },
     "execution_count": 63,
     "metadata": {},
     "output_type": "execute_result"
    }
   ],
   "source": [
    "ts_col = \"sepal length (cm)\tpetal length (cm)\".split(\"\\t\")\n",
    "\n",
    "sscaler.fit(test[ts_col])\n",
    "sscaled = sscaler.transform(test[ts_col])\n",
    "\n",
    "ta_col = ['ss_sepal length (cm)', 'ss_petal length (cm)']\n",
    "\n",
    "test[ta_col] = sscaled\n",
    "test.head(1)"
   ]
  },
  {
   "cell_type": "code",
   "execution_count": null,
   "id": "5a1b445a",
   "metadata": {},
   "outputs": [],
   "source": []
  },
  {
   "cell_type": "code",
   "execution_count": null,
   "id": "259fb576",
   "metadata": {},
   "outputs": [],
   "source": [
    "train[a_col].describe()"
   ]
  },
  {
   "cell_type": "code",
   "execution_count": null,
   "id": "98a1f0d2",
   "metadata": {},
   "outputs": [],
   "source": [
    "## Inverse Scale exmaples :\n",
    "sscaler.inverse_transform(train[a_col])"
   ]
  },
  {
   "cell_type": "code",
   "execution_count": null,
   "id": "0c80feb9",
   "metadata": {},
   "outputs": [],
   "source": []
  },
  {
   "cell_type": "markdown",
   "id": "dab85d76",
   "metadata": {},
   "source": [
    "##### Extra-Case  : Min-Max Scaler"
   ]
  },
  {
   "cell_type": "code",
   "execution_count": 33,
   "id": "f224b1b1",
   "metadata": {},
   "outputs": [],
   "source": [
    "from sklearn.preprocessing import MinMaxScaler"
   ]
  },
  {
   "cell_type": "code",
   "execution_count": 34,
   "id": "408ac9d3",
   "metadata": {},
   "outputs": [],
   "source": [
    "mscaler = MinMaxScaler()"
   ]
  },
  {
   "cell_type": "code",
   "execution_count": 35,
   "id": "4628f0e6",
   "metadata": {},
   "outputs": [],
   "source": [
    "mscaler.fit(train[s_col])\n",
    "mscaled = mscaler.transform(train[s_col])"
   ]
  },
  {
   "cell_type": "code",
   "execution_count": 37,
   "id": "2c592a2d",
   "metadata": {},
   "outputs": [
    {
     "data": {
      "text/html": [
       "<div>\n",
       "<style scoped>\n",
       "    .dataframe tbody tr th:only-of-type {\n",
       "        vertical-align: middle;\n",
       "    }\n",
       "\n",
       "    .dataframe tbody tr th {\n",
       "        vertical-align: top;\n",
       "    }\n",
       "\n",
       "    .dataframe thead th {\n",
       "        text-align: right;\n",
       "    }\n",
       "</style>\n",
       "<table border=\"1\" class=\"dataframe\">\n",
       "  <thead>\n",
       "    <tr style=\"text-align: right;\">\n",
       "      <th></th>\n",
       "      <th>species</th>\n",
       "      <th>sepal length (cm)</th>\n",
       "      <th>petal length (cm)</th>\n",
       "      <th>sepal width (cm)</th>\n",
       "      <th>petal width (cm)</th>\n",
       "      <th>species(label)</th>\n",
       "      <th>setosa</th>\n",
       "      <th>versicolor</th>\n",
       "      <th>virginica</th>\n",
       "      <th>ss_sepal length (cm)</th>\n",
       "      <th>ss_petal length (cm)</th>\n",
       "      <th>ss_sepal width (cm)</th>\n",
       "      <th>ss_petal width (cm)</th>\n",
       "      <th>mm_sepal length (cm)</th>\n",
       "      <th>mm_petal length (cm)</th>\n",
       "      <th>mm_sepal width (cm)</th>\n",
       "      <th>mm_petal width (cm)</th>\n",
       "    </tr>\n",
       "    <tr>\n",
       "      <th>id</th>\n",
       "      <th></th>\n",
       "      <th></th>\n",
       "      <th></th>\n",
       "      <th></th>\n",
       "      <th></th>\n",
       "      <th></th>\n",
       "      <th></th>\n",
       "      <th></th>\n",
       "      <th></th>\n",
       "      <th></th>\n",
       "      <th></th>\n",
       "      <th></th>\n",
       "      <th></th>\n",
       "      <th></th>\n",
       "      <th></th>\n",
       "      <th></th>\n",
       "      <th></th>\n",
       "    </tr>\n",
       "  </thead>\n",
       "  <tbody>\n",
       "    <tr>\n",
       "      <th>0</th>\n",
       "      <td>setosa</td>\n",
       "      <td>4.4</td>\n",
       "      <td>1.4</td>\n",
       "      <td>2.9</td>\n",
       "      <td>0.2</td>\n",
       "      <td>1.0</td>\n",
       "      <td>1</td>\n",
       "      <td>0</td>\n",
       "      <td>0</td>\n",
       "      <td>-1.964118</td>\n",
       "      <td>-1.781562</td>\n",
       "      <td>-0.152074</td>\n",
       "      <td>-1.709888</td>\n",
       "      <td>0.029412</td>\n",
       "      <td>0.051724</td>\n",
       "      <td>0.45</td>\n",
       "      <td>0.041667</td>\n",
       "    </tr>\n",
       "  </tbody>\n",
       "</table>\n",
       "</div>"
      ],
      "text/plain": [
       "   species  sepal length (cm)  petal length (cm)  sepal width (cm)  \\\n",
       "id                                                                   \n",
       "0   setosa                4.4                1.4               2.9   \n",
       "\n",
       "    petal width (cm)  species(label)  setosa  versicolor  virginica  \\\n",
       "id                                                                    \n",
       "0                0.2             1.0       1           0          0   \n",
       "\n",
       "    ss_sepal length (cm)  ss_petal length (cm)  ss_sepal width (cm)  \\\n",
       "id                                                                    \n",
       "0              -1.964118             -1.781562            -0.152074   \n",
       "\n",
       "    ss_petal width (cm)  mm_sepal length (cm)  mm_petal length (cm)  \\\n",
       "id                                                                    \n",
       "0             -1.709888              0.029412              0.051724   \n",
       "\n",
       "    mm_sepal width (cm)  mm_petal width (cm)  \n",
       "id                                            \n",
       "0                  0.45             0.041667  "
      ]
     },
     "execution_count": 37,
     "metadata": {},
     "output_type": "execute_result"
    }
   ],
   "source": [
    "b_col = ['mm_sepal length (cm)', 'mm_petal length (cm)', 'mm_sepal width (cm)', 'mm_petal width (cm)']\n",
    "\n",
    "train[b_col] = mscaled\n",
    "train.head(1)"
   ]
  },
  {
   "cell_type": "code",
   "execution_count": null,
   "id": "32900376",
   "metadata": {},
   "outputs": [],
   "source": []
  },
  {
   "cell_type": "code",
   "execution_count": null,
   "id": "5dcb2285",
   "metadata": {},
   "outputs": [],
   "source": []
  },
  {
   "cell_type": "markdown",
   "id": "f910556f",
   "metadata": {},
   "source": [
    "### 4. Analysis"
   ]
  },
  {
   "cell_type": "markdown",
   "id": "428d278c",
   "metadata": {},
   "source": [
    "#### 4-1) All kinds of species"
   ]
  },
  {
   "cell_type": "code",
   "execution_count": 54,
   "id": "52bdcd68",
   "metadata": {},
   "outputs": [
    {
     "data": {
      "text/html": [
       "<div>\n",
       "<style scoped>\n",
       "    .dataframe tbody tr th:only-of-type {\n",
       "        vertical-align: middle;\n",
       "    }\n",
       "\n",
       "    .dataframe tbody tr th {\n",
       "        vertical-align: top;\n",
       "    }\n",
       "\n",
       "    .dataframe thead th {\n",
       "        text-align: right;\n",
       "    }\n",
       "</style>\n",
       "<table border=\"1\" class=\"dataframe\">\n",
       "  <thead>\n",
       "    <tr style=\"text-align: right;\">\n",
       "      <th></th>\n",
       "      <th>sepal width (cm)</th>\n",
       "      <th>petal width (cm)</th>\n",
       "    </tr>\n",
       "  </thead>\n",
       "  <tbody>\n",
       "    <tr>\n",
       "      <th>sepal length (cm)</th>\n",
       "      <td>0.027104</td>\n",
       "      <td>0.763597</td>\n",
       "    </tr>\n",
       "    <tr>\n",
       "      <th>petal length (cm)</th>\n",
       "      <td>-0.274590</td>\n",
       "      <td>0.953549</td>\n",
       "    </tr>\n",
       "    <tr>\n",
       "      <th>sepal width (cm)</th>\n",
       "      <td>1.000000</td>\n",
       "      <td>-0.217103</td>\n",
       "    </tr>\n",
       "    <tr>\n",
       "      <th>petal width (cm)</th>\n",
       "      <td>-0.217103</td>\n",
       "      <td>1.000000</td>\n",
       "    </tr>\n",
       "    <tr>\n",
       "      <th>species(label)</th>\n",
       "      <td>-0.303901</td>\n",
       "      <td>0.937646</td>\n",
       "    </tr>\n",
       "    <tr>\n",
       "      <th>setosa</th>\n",
       "      <td>0.502880</td>\n",
       "      <td>-0.854944</td>\n",
       "    </tr>\n",
       "    <tr>\n",
       "      <th>versicolor</th>\n",
       "      <td>-0.356982</td>\n",
       "      <td>-0.036161</td>\n",
       "    </tr>\n",
       "    <tr>\n",
       "      <th>virginica</th>\n",
       "      <td>-0.053618</td>\n",
       "      <td>0.734220</td>\n",
       "    </tr>\n",
       "    <tr>\n",
       "      <th>ss_sepal length (cm)</th>\n",
       "      <td>0.027104</td>\n",
       "      <td>0.763597</td>\n",
       "    </tr>\n",
       "    <tr>\n",
       "      <th>ss_petal length (cm)</th>\n",
       "      <td>-0.274590</td>\n",
       "      <td>0.953549</td>\n",
       "    </tr>\n",
       "    <tr>\n",
       "      <th>ss_sepal width (cm)</th>\n",
       "      <td>1.000000</td>\n",
       "      <td>-0.217103</td>\n",
       "    </tr>\n",
       "    <tr>\n",
       "      <th>ss_petal width (cm)</th>\n",
       "      <td>-0.217103</td>\n",
       "      <td>1.000000</td>\n",
       "    </tr>\n",
       "    <tr>\n",
       "      <th>mm_sepal length (cm)</th>\n",
       "      <td>0.027104</td>\n",
       "      <td>0.763597</td>\n",
       "    </tr>\n",
       "    <tr>\n",
       "      <th>mm_petal length (cm)</th>\n",
       "      <td>-0.274590</td>\n",
       "      <td>0.953549</td>\n",
       "    </tr>\n",
       "    <tr>\n",
       "      <th>mm_sepal width (cm)</th>\n",
       "      <td>1.000000</td>\n",
       "      <td>-0.217103</td>\n",
       "    </tr>\n",
       "    <tr>\n",
       "      <th>mm_petal width (cm)</th>\n",
       "      <td>-0.217103</td>\n",
       "      <td>1.000000</td>\n",
       "    </tr>\n",
       "  </tbody>\n",
       "</table>\n",
       "</div>"
      ],
      "text/plain": [
       "                      sepal width (cm)  petal width (cm)\n",
       "sepal length (cm)             0.027104          0.763597\n",
       "petal length (cm)            -0.274590          0.953549\n",
       "sepal width (cm)              1.000000         -0.217103\n",
       "petal width (cm)             -0.217103          1.000000\n",
       "species(label)               -0.303901          0.937646\n",
       "setosa                        0.502880         -0.854944\n",
       "versicolor                   -0.356982         -0.036161\n",
       "virginica                    -0.053618          0.734220\n",
       "ss_sepal length (cm)          0.027104          0.763597\n",
       "ss_petal length (cm)         -0.274590          0.953549\n",
       "ss_sepal width (cm)           1.000000         -0.217103\n",
       "ss_petal width (cm)          -0.217103          1.000000\n",
       "mm_sepal length (cm)          0.027104          0.763597\n",
       "mm_petal length (cm)         -0.274590          0.953549\n",
       "mm_sepal width (cm)           1.000000         -0.217103\n",
       "mm_petal width (cm)          -0.217103          1.000000"
      ]
     },
     "execution_count": 54,
     "metadata": {},
     "output_type": "execute_result"
    }
   ],
   "source": [
    "train.corr()#[[\"sepal width (cm)\",\"petal width (cm)\"]]"
   ]
  },
  {
   "cell_type": "markdown",
   "id": "dc5c1b64",
   "metadata": {},
   "source": [
    "#### 4-2-1) species each : setosa"
   ]
  },
  {
   "cell_type": "code",
   "execution_count": null,
   "id": "4ce18aca",
   "metadata": {},
   "outputs": [],
   "source": [
    "train.head(1)\n",
    "train[train['setosa'] == 1].corr()"
   ]
  },
  {
   "cell_type": "markdown",
   "id": "eebf7639",
   "metadata": {},
   "source": [
    "#### 4-2-2) species each : versicolor"
   ]
  },
  {
   "cell_type": "code",
   "execution_count": null,
   "id": "d03042b9",
   "metadata": {},
   "outputs": [],
   "source": [
    "train[train['versicolor'] == 2].corr()"
   ]
  },
  {
   "cell_type": "markdown",
   "id": "dcb2f3c3",
   "metadata": {},
   "source": [
    "#### 4-2-3) species each : virginica"
   ]
  },
  {
   "cell_type": "code",
   "execution_count": 15,
   "id": "76d29ef9",
   "metadata": {},
   "outputs": [
    {
     "data": {
      "text/html": [
       "<div>\n",
       "<style scoped>\n",
       "    .dataframe tbody tr th:only-of-type {\n",
       "        vertical-align: middle;\n",
       "    }\n",
       "\n",
       "    .dataframe tbody tr th {\n",
       "        vertical-align: top;\n",
       "    }\n",
       "\n",
       "    .dataframe thead th {\n",
       "        text-align: right;\n",
       "    }\n",
       "</style>\n",
       "<table border=\"1\" class=\"dataframe\">\n",
       "  <thead>\n",
       "    <tr style=\"text-align: right;\">\n",
       "      <th></th>\n",
       "      <th>sepal length (cm)</th>\n",
       "      <th>petal length (cm)</th>\n",
       "      <th>sepal width (cm)</th>\n",
       "      <th>petal width (cm)</th>\n",
       "      <th>species(label)</th>\n",
       "      <th>setosa</th>\n",
       "      <th>versicolor</th>\n",
       "      <th>virginica</th>\n",
       "    </tr>\n",
       "  </thead>\n",
       "  <tbody>\n",
       "    <tr>\n",
       "      <th>sepal length (cm)</th>\n",
       "      <td>1.000000</td>\n",
       "      <td>0.909107</td>\n",
       "      <td>0.473749</td>\n",
       "      <td>0.247149</td>\n",
       "      <td>NaN</td>\n",
       "      <td>NaN</td>\n",
       "      <td>NaN</td>\n",
       "      <td>NaN</td>\n",
       "    </tr>\n",
       "    <tr>\n",
       "      <th>petal length (cm)</th>\n",
       "      <td>0.909107</td>\n",
       "      <td>1.000000</td>\n",
       "      <td>0.418791</td>\n",
       "      <td>0.386929</td>\n",
       "      <td>NaN</td>\n",
       "      <td>NaN</td>\n",
       "      <td>NaN</td>\n",
       "      <td>NaN</td>\n",
       "    </tr>\n",
       "    <tr>\n",
       "      <th>sepal width (cm)</th>\n",
       "      <td>0.473749</td>\n",
       "      <td>0.418791</td>\n",
       "      <td>1.000000</td>\n",
       "      <td>0.549109</td>\n",
       "      <td>NaN</td>\n",
       "      <td>NaN</td>\n",
       "      <td>NaN</td>\n",
       "      <td>NaN</td>\n",
       "    </tr>\n",
       "    <tr>\n",
       "      <th>petal width (cm)</th>\n",
       "      <td>0.247149</td>\n",
       "      <td>0.386929</td>\n",
       "      <td>0.549109</td>\n",
       "      <td>1.000000</td>\n",
       "      <td>NaN</td>\n",
       "      <td>NaN</td>\n",
       "      <td>NaN</td>\n",
       "      <td>NaN</td>\n",
       "    </tr>\n",
       "    <tr>\n",
       "      <th>species(label)</th>\n",
       "      <td>NaN</td>\n",
       "      <td>NaN</td>\n",
       "      <td>NaN</td>\n",
       "      <td>NaN</td>\n",
       "      <td>NaN</td>\n",
       "      <td>NaN</td>\n",
       "      <td>NaN</td>\n",
       "      <td>NaN</td>\n",
       "    </tr>\n",
       "    <tr>\n",
       "      <th>setosa</th>\n",
       "      <td>NaN</td>\n",
       "      <td>NaN</td>\n",
       "      <td>NaN</td>\n",
       "      <td>NaN</td>\n",
       "      <td>NaN</td>\n",
       "      <td>NaN</td>\n",
       "      <td>NaN</td>\n",
       "      <td>NaN</td>\n",
       "    </tr>\n",
       "    <tr>\n",
       "      <th>versicolor</th>\n",
       "      <td>NaN</td>\n",
       "      <td>NaN</td>\n",
       "      <td>NaN</td>\n",
       "      <td>NaN</td>\n",
       "      <td>NaN</td>\n",
       "      <td>NaN</td>\n",
       "      <td>NaN</td>\n",
       "      <td>NaN</td>\n",
       "    </tr>\n",
       "    <tr>\n",
       "      <th>virginica</th>\n",
       "      <td>NaN</td>\n",
       "      <td>NaN</td>\n",
       "      <td>NaN</td>\n",
       "      <td>NaN</td>\n",
       "      <td>NaN</td>\n",
       "      <td>NaN</td>\n",
       "      <td>NaN</td>\n",
       "      <td>NaN</td>\n",
       "    </tr>\n",
       "  </tbody>\n",
       "</table>\n",
       "</div>"
      ],
      "text/plain": [
       "                   sepal length (cm)  petal length (cm)  sepal width (cm)  \\\n",
       "sepal length (cm)           1.000000           0.909107          0.473749   \n",
       "petal length (cm)           0.909107           1.000000          0.418791   \n",
       "sepal width (cm)            0.473749           0.418791          1.000000   \n",
       "petal width (cm)            0.247149           0.386929          0.549109   \n",
       "species(label)                   NaN                NaN               NaN   \n",
       "setosa                           NaN                NaN               NaN   \n",
       "versicolor                       NaN                NaN               NaN   \n",
       "virginica                        NaN                NaN               NaN   \n",
       "\n",
       "                   petal width (cm)  species(label)  setosa  versicolor  \\\n",
       "sepal length (cm)          0.247149             NaN     NaN         NaN   \n",
       "petal length (cm)          0.386929             NaN     NaN         NaN   \n",
       "sepal width (cm)           0.549109             NaN     NaN         NaN   \n",
       "petal width (cm)           1.000000             NaN     NaN         NaN   \n",
       "species(label)                  NaN             NaN     NaN         NaN   \n",
       "setosa                          NaN             NaN     NaN         NaN   \n",
       "versicolor                      NaN             NaN     NaN         NaN   \n",
       "virginica                       NaN             NaN     NaN         NaN   \n",
       "\n",
       "                   virginica  \n",
       "sepal length (cm)        NaN  \n",
       "petal length (cm)        NaN  \n",
       "sepal width (cm)         NaN  \n",
       "petal width (cm)         NaN  \n",
       "species(label)           NaN  \n",
       "setosa                   NaN  \n",
       "versicolor               NaN  \n",
       "virginica                NaN  "
      ]
     },
     "execution_count": 15,
     "metadata": {},
     "output_type": "execute_result"
    }
   ],
   "source": [
    "train[train['species(label)'] == 3].corr()"
   ]
  },
  {
   "cell_type": "code",
   "execution_count": null,
   "id": "b7163e0e",
   "metadata": {},
   "outputs": [],
   "source": []
  },
  {
   "cell_type": "code",
   "execution_count": 56,
   "id": "d19fe8af",
   "metadata": {},
   "outputs": [
    {
     "data": {
      "text/plain": [
       "Index(['species(label)', 'setosa', 'versicolor', 'virginica',\n",
       "       'ss_sepal length (cm)', 'ss_petal length (cm)', 'ss_sepal width (cm)',\n",
       "       'ss_petal width (cm)', 'mm_sepal length (cm)', 'mm_petal length (cm)',\n",
       "       'mm_sepal width (cm)', 'mm_petal width (cm)'],\n",
       "      dtype='object')"
      ]
     },
     "execution_count": 56,
     "metadata": {},
     "output_type": "execute_result"
    }
   ],
   "source": [
    "train.columns[5:]"
   ]
  },
  {
   "cell_type": "code",
   "execution_count": 57,
   "id": "e9751012",
   "metadata": {},
   "outputs": [
    {
     "data": {
      "text/plain": [
       "[(0, 30), (1, 30), (2, 15)]"
      ]
     },
     "execution_count": 57,
     "metadata": {},
     "output_type": "execute_result"
    }
   ],
   "source": [
    "list(enumerate(train['species'].value_counts()))"
   ]
  },
  {
   "cell_type": "code",
   "execution_count": 16,
   "id": "d21a7550",
   "metadata": {},
   "outputs": [
    {
     "data": {
      "image/png": "[encoded data removed]",
      "text/plain": [
       "<Figure size 1152x288 with 2 Axes>"
      ]
     },
     "metadata": {
      "needs_background": "light"
     },
     "output_type": "display_data"
    }
   ],
   "source": [
    "figure, ax = plt.subplots(1,2)\n",
    "figure.set_size_inches(16,4)\n",
    "\n",
    "sns.countplot(data=train, x='species', order=train['species'].value_counts().index, ax=ax[0]).set_title('Train')\n",
    "for i, s in enumerate(train['species'].value_counts()):\n",
    "#     print(train['species'].value_counts().index[i])\n",
    "    ax[0].text(i, s, s)\n",
    "\n",
    "    \n",
    "sns.countplot(data=test, x='species', order=test['species'].value_counts().index, ax=ax[1]).set_title('Test')\n",
    "for i, s in enumerate(test['species'].value_counts()):\n",
    "#     print(train['species'].value_counts().index[i])\n",
    "    ax[1].text(i, s, s)\n"
   ]
  },
  {
   "cell_type": "code",
   "execution_count": 67,
   "id": "ffa46bc3",
   "metadata": {},
   "outputs": [],
   "source": [
    "# figure, ax = plt.subplots(nrows=1, ncols=2)\n",
    "\n",
    "# sns.pairplot(data=train[train.columns[0:4]])\n",
    "# sns.pairplot(data=train[train.columns[5:]])"
   ]
  },
  {
   "cell_type": "code",
   "execution_count": 140,
   "id": "4259b12c",
   "metadata": {},
   "outputs": [
    {
     "data": {
      "text/plain": [
       "<seaborn.axisgrid.PairGrid at 0x1d9b3055dc0>"
      ]
     },
     "execution_count": 140,
     "metadata": {},
     "output_type": "execute_result"
    },
    {
     "data": {
      "image/png": "[encoded data removed]",
      "text/plain": [
       "<Figure size 804.75x720 with 20 Axes>"
      ]
     },
     "metadata": {
      "needs_background": "light"
     },
     "output_type": "display_data"
    }
   ],
   "source": [
    "sns.pairplot(data=train[train.columns[0:5]], hue='species')"
   ]
  },
  {
   "cell_type": "code",
   "execution_count": 73,
   "id": "f93a2374",
   "metadata": {},
   "outputs": [
    {
     "data": {
      "text/plain": [
       "<seaborn.axisgrid.PairGrid at 0x1d9ac2f5070>"
      ]
     },
     "execution_count": 73,
     "metadata": {},
     "output_type": "execute_result"
    },
    {
     "data": {
      "image/png": "[encoded data removed]",
      "text/plain": [
       "<Figure size 1337.38x1260 with 56 Axes>"
      ]
     },
     "metadata": {
      "needs_background": "light"
     },
     "output_type": "display_data"
    }
   ],
   "source": [
    "sns.pairplot(data=train, hue='species(label)', markers=[\"o\",\"s\",\"D\"])"
   ]
  },
  {
   "cell_type": "markdown",
   "id": "48e70772",
   "metadata": {},
   "source": [
    ">- sepal width (cm)\t: sepal length (cm) + species\n",
    ">- petal width (cm) : petal length (cm) + species"
   ]
  },
  {
   "cell_type": "code",
   "execution_count": 64,
   "id": "419c3c98",
   "metadata": {},
   "outputs": [
    {
     "data": {
      "text/plain": [
       "Index(['species', 'sepal length (cm)', 'petal length (cm)', 'sepal width (cm)',\n",
       "       'petal width (cm)', 'species(label)', 'setosa', 'versicolor',\n",
       "       'virginica', 'ss_sepal length (cm)', 'ss_petal length (cm)',\n",
       "       'ss_sepal width (cm)', 'ss_petal width (cm)', 'mm_sepal length (cm)',\n",
       "       'mm_petal length (cm)', 'mm_sepal width (cm)', 'mm_petal width (cm)'],\n",
       "      dtype='object')"
      ]
     },
     "execution_count": 64,
     "metadata": {},
     "output_type": "execute_result"
    }
   ],
   "source": [
    "train.columns"
   ]
  },
  {
   "cell_type": "code",
   "execution_count": 58,
   "id": "bb818f23",
   "metadata": {},
   "outputs": [
    {
     "data": {
      "text/html": [
       "<div>\n",
       "<style scoped>\n",
       "    .dataframe tbody tr th:only-of-type {\n",
       "        vertical-align: middle;\n",
       "    }\n",
       "\n",
       "    .dataframe tbody tr th {\n",
       "        vertical-align: top;\n",
       "    }\n",
       "\n",
       "    .dataframe thead th {\n",
       "        text-align: right;\n",
       "    }\n",
       "</style>\n",
       "<table border=\"1\" class=\"dataframe\">\n",
       "  <thead>\n",
       "    <tr style=\"text-align: right;\">\n",
       "      <th></th>\n",
       "      <th>species</th>\n",
       "      <th>sepal length (cm)</th>\n",
       "      <th>petal length (cm)</th>\n",
       "      <th>sepal width (cm)</th>\n",
       "      <th>petal width (cm)</th>\n",
       "      <th>species(label)</th>\n",
       "      <th>setosa</th>\n",
       "      <th>versicolor</th>\n",
       "      <th>virginica</th>\n",
       "      <th>ss_sepal length (cm)</th>\n",
       "      <th>ss_petal length (cm)</th>\n",
       "      <th>ss_sepal width (cm)</th>\n",
       "      <th>ss_petal width (cm)</th>\n",
       "      <th>mm_sepal length (cm)</th>\n",
       "      <th>mm_petal length (cm)</th>\n",
       "      <th>mm_sepal width (cm)</th>\n",
       "      <th>mm_petal width (cm)</th>\n",
       "    </tr>\n",
       "    <tr>\n",
       "      <th>id</th>\n",
       "      <th></th>\n",
       "      <th></th>\n",
       "      <th></th>\n",
       "      <th></th>\n",
       "      <th></th>\n",
       "      <th></th>\n",
       "      <th></th>\n",
       "      <th></th>\n",
       "      <th></th>\n",
       "      <th></th>\n",
       "      <th></th>\n",
       "      <th></th>\n",
       "      <th></th>\n",
       "      <th></th>\n",
       "      <th></th>\n",
       "      <th></th>\n",
       "      <th></th>\n",
       "    </tr>\n",
       "  </thead>\n",
       "  <tbody>\n",
       "    <tr>\n",
       "      <th>0</th>\n",
       "      <td>setosa</td>\n",
       "      <td>4.4</td>\n",
       "      <td>1.4</td>\n",
       "      <td>2.9</td>\n",
       "      <td>0.2</td>\n",
       "      <td>1.0</td>\n",
       "      <td>1</td>\n",
       "      <td>0</td>\n",
       "      <td>0</td>\n",
       "      <td>-1.964118</td>\n",
       "      <td>-1.781562</td>\n",
       "      <td>-0.152074</td>\n",
       "      <td>-1.709888</td>\n",
       "      <td>0.029412</td>\n",
       "      <td>0.051724</td>\n",
       "      <td>0.45</td>\n",
       "      <td>0.041667</td>\n",
       "    </tr>\n",
       "  </tbody>\n",
       "</table>\n",
       "</div>"
      ],
      "text/plain": [
       "   species  sepal length (cm)  petal length (cm)  sepal width (cm)  \\\n",
       "id                                                                   \n",
       "0   setosa                4.4                1.4               2.9   \n",
       "\n",
       "    petal width (cm)  species(label)  setosa  versicolor  virginica  \\\n",
       "id                                                                    \n",
       "0                0.2             1.0       1           0          0   \n",
       "\n",
       "    ss_sepal length (cm)  ss_petal length (cm)  ss_sepal width (cm)  \\\n",
       "id                                                                    \n",
       "0              -1.964118             -1.781562            -0.152074   \n",
       "\n",
       "    ss_petal width (cm)  mm_sepal length (cm)  mm_petal length (cm)  \\\n",
       "id                                                                    \n",
       "0             -1.709888              0.029412              0.051724   \n",
       "\n",
       "    mm_sepal width (cm)  mm_petal width (cm)  \n",
       "id                                            \n",
       "0                  0.45             0.041667  "
      ]
     },
     "execution_count": 58,
     "metadata": {},
     "output_type": "execute_result"
    }
   ],
   "source": [
    "train.head(1)"
   ]
  },
  {
   "cell_type": "code",
   "execution_count": 65,
   "id": "10ff5534",
   "metadata": {},
   "outputs": [
    {
     "data": {
      "text/plain": [
       "(75, 75)"
      ]
     },
     "execution_count": 65,
     "metadata": {},
     "output_type": "execute_result"
    }
   ],
   "source": [
    "train_1 = train.loc[train[\"species(label)\"] == 1]\n",
    "train_2 = train.loc[train[\"species(label)\"] == 2]\n",
    "train_3 = train.loc[train[\"species(label)\"] == 3]\n",
    "\n",
    "len(train), len(train_1)+len(train_2)+len(train_3)"
   ]
  },
  {
   "cell_type": "code",
   "execution_count": 60,
   "id": "4e5e90c4",
   "metadata": {},
   "outputs": [
    {
     "data": {
      "text/html": [
       "<div>\n",
       "<style scoped>\n",
       "    .dataframe tbody tr th:only-of-type {\n",
       "        vertical-align: middle;\n",
       "    }\n",
       "\n",
       "    .dataframe tbody tr th {\n",
       "        vertical-align: top;\n",
       "    }\n",
       "\n",
       "    .dataframe thead th {\n",
       "        text-align: right;\n",
       "    }\n",
       "</style>\n",
       "<table border=\"1\" class=\"dataframe\">\n",
       "  <thead>\n",
       "    <tr style=\"text-align: right;\">\n",
       "      <th></th>\n",
       "      <th>species</th>\n",
       "      <th>sepal length (cm)</th>\n",
       "      <th>petal length (cm)</th>\n",
       "      <th>species(label)</th>\n",
       "      <th>setosa</th>\n",
       "      <th>versicolor</th>\n",
       "      <th>virginica</th>\n",
       "    </tr>\n",
       "    <tr>\n",
       "      <th>id</th>\n",
       "      <th></th>\n",
       "      <th></th>\n",
       "      <th></th>\n",
       "      <th></th>\n",
       "      <th></th>\n",
       "      <th></th>\n",
       "      <th></th>\n",
       "    </tr>\n",
       "  </thead>\n",
       "  <tbody>\n",
       "    <tr>\n",
       "      <th>0</th>\n",
       "      <td>setosa</td>\n",
       "      <td>5.4</td>\n",
       "      <td>1.7</td>\n",
       "      <td>1.0</td>\n",
       "      <td>1</td>\n",
       "      <td>0</td>\n",
       "      <td>0</td>\n",
       "    </tr>\n",
       "  </tbody>\n",
       "</table>\n",
       "</div>"
      ],
      "text/plain": [
       "   species  sepal length (cm)  petal length (cm)  species(label)  setosa  \\\n",
       "id                                                                         \n",
       "0   setosa                5.4                1.7             1.0       1   \n",
       "\n",
       "    versicolor  virginica  \n",
       "id                         \n",
       "0            0          0  "
      ]
     },
     "execution_count": 60,
     "metadata": {},
     "output_type": "execute_result"
    }
   ],
   "source": [
    "test.head(1)"
   ]
  },
  {
   "cell_type": "code",
   "execution_count": 66,
   "id": "a76225f7",
   "metadata": {},
   "outputs": [
    {
     "data": {
      "text/plain": [
       "(75, 75)"
      ]
     },
     "execution_count": 66,
     "metadata": {},
     "output_type": "execute_result"
    }
   ],
   "source": [
    "test_1 = test.loc[test[\"species(label)\"] == 1]\n",
    "test_2 = test.loc[test[\"species(label)\"] == 2]\n",
    "test_3 = test.loc[test[\"species(label)\"] == 3]\n",
    "\n",
    "len(test), len(test_1)+len(test_2)+len(test_3)"
   ]
  },
  {
   "cell_type": "code",
   "execution_count": null,
   "id": "2166e658",
   "metadata": {},
   "outputs": [],
   "source": []
  },
  {
   "cell_type": "markdown",
   "id": "a44d04b7",
   "metadata": {},
   "source": [
    "### 5. Modeling : Case 1 - LinearRegression"
   ]
  },
  {
   "cell_type": "markdown",
   "id": "3bf39b85",
   "metadata": {},
   "source": [
    "#### 5-1) Feature selection"
   ]
  },
  {
   "cell_type": "code",
   "execution_count": 23,
   "id": "e56e6cee",
   "metadata": {},
   "outputs": [],
   "source": [
    "f_names1 = [\"sepal length (cm)\"]  # for \"sepal width (cm)\"\n",
    "f_names2 = [\"petal length (cm)\"]  # for \"petal width (cm)\"\n",
    "\n",
    "t_names1 = [\"sepal width (cm)\"]\n",
    "t_names2 = [\"petal width (cm)\"]"
   ]
  },
  {
   "cell_type": "code",
   "execution_count": 72,
   "id": "ac9e2ee8",
   "metadata": {},
   "outputs": [],
   "source": [
    "## Standard Scaler:\n",
    "f_names1 = [\"ss_sepal length (cm)\"]  # for \"sepal width (cm)\"\n",
    "f_names2 = [\"ss_petal length (cm)\"]  # for \"petal width (cm)\"\n",
    "\n",
    "t_names1 = [\"ss_sepal width (cm)\"]\n",
    "t_names2 = [\"ss_petal width (cm)\"]"
   ]
  },
  {
   "cell_type": "markdown",
   "id": "91fac8f5",
   "metadata": {},
   "source": [
    "#### 5-1-1) Species : Setosa"
   ]
  },
  {
   "cell_type": "code",
   "execution_count": 73,
   "id": "1f256bda",
   "metadata": {},
   "outputs": [],
   "source": [
    "X_train_11 = train_1[f_names1]\n",
    "y_train_11 = train_1[t_names1]\n",
    "\n",
    "X_test_11 = test_1[f_names1]"
   ]
  },
  {
   "cell_type": "code",
   "execution_count": 74,
   "id": "0f46b2ee",
   "metadata": {},
   "outputs": [],
   "source": [
    "X_train_12 = train_1[f_names2]\n",
    "y_train_12 = train_1[t_names2]\n",
    "\n",
    "X_test_12 = test_1[f_names2]"
   ]
  },
  {
   "cell_type": "markdown",
   "id": "15efcd4f",
   "metadata": {},
   "source": [
    "#### 5-1-2) Species : versicolor"
   ]
  },
  {
   "cell_type": "code",
   "execution_count": 75,
   "id": "5cac09de",
   "metadata": {},
   "outputs": [],
   "source": [
    "X_train_21 = train_2[f_names1]\n",
    "y_train_21 = train_2[t_names1]\n",
    "\n",
    "X_test_21 = test_2[f_names1]"
   ]
  },
  {
   "cell_type": "code",
   "execution_count": 76,
   "id": "da8140f7",
   "metadata": {},
   "outputs": [],
   "source": [
    "X_train_22 = train_2[f_names2]\n",
    "y_train_22 = train_2[t_names2]\n",
    "\n",
    "X_test_22 = test_2[f_names2]"
   ]
  },
  {
   "cell_type": "markdown",
   "id": "1fb2a14b",
   "metadata": {},
   "source": [
    "#### 5-1-3) Species : virginica"
   ]
  },
  {
   "cell_type": "code",
   "execution_count": 77,
   "id": "b8ec6c80",
   "metadata": {},
   "outputs": [],
   "source": [
    "X_train_31 = train_3[f_names1]\n",
    "y_train_31 = train_3[t_names1]\n",
    "\n",
    "X_test_31 = test_3[f_names1]"
   ]
  },
  {
   "cell_type": "code",
   "execution_count": 78,
   "id": "f6f40fef",
   "metadata": {},
   "outputs": [],
   "source": [
    "X_train_32 = train_3[f_names2]\n",
    "y_train_32 = train_3[t_names2]\n",
    "\n",
    "X_test_32 = test_3[f_names2]"
   ]
  },
  {
   "cell_type": "code",
   "execution_count": null,
   "id": "2ec6d315",
   "metadata": {},
   "outputs": [],
   "source": []
  },
  {
   "cell_type": "markdown",
   "id": "8ce67ca5",
   "metadata": {},
   "source": [
    "#### 5-2) Modeling"
   ]
  },
  {
   "cell_type": "code",
   "execution_count": 79,
   "id": "c81f1ea3",
   "metadata": {},
   "outputs": [],
   "source": [
    "from sklearn.linear_model import LinearRegression"
   ]
  },
  {
   "cell_type": "code",
   "execution_count": 80,
   "id": "fbfaafa0",
   "metadata": {},
   "outputs": [],
   "source": [
    "lr_1 = LinearRegression()    # For \"sepal width (cm)\"\n",
    "lr_2 = LinearRegression()    # For \"petal width (cm)\""
   ]
  },
  {
   "cell_type": "markdown",
   "id": "e0757bde",
   "metadata": {},
   "source": [
    "##### 5-2-1) \"sepal width (cm)\""
   ]
  },
  {
   "cell_type": "code",
   "execution_count": 81,
   "id": "138c5e5a",
   "metadata": {},
   "outputs": [
    {
     "data": {
      "text/plain": [
       "(array([[1.61519459]]), array([3.1876106]))"
      ]
     },
     "execution_count": 81,
     "metadata": {},
     "output_type": "execute_result"
    }
   ],
   "source": [
    "# lr_1.fit(np.array(X_train_1).reshape(-1, 1), np.array(y_train_1).reshape(-1, 1))\n",
    "lr_1.fit(X_train_11.values.reshape(-1, 1), y_train_11.values.reshape(-1, 1))\n",
    "\n",
    "lr_1.coef_, lr_1.intercept_  #   y = 0.7444..* x  -  0.3110..."
   ]
  },
  {
   "cell_type": "code",
   "execution_count": 82,
   "id": "60a37569",
   "metadata": {},
   "outputs": [
    {
     "data": {
      "text/plain": [
       "array([[2.67344298],\n",
       "       [3.30908976],\n",
       "       [2.46156072],\n",
       "       [2.03779619],\n",
       "       [2.67344298]])"
      ]
     },
     "execution_count": 82,
     "metadata": {},
     "output_type": "execute_result"
    }
   ],
   "source": [
    "pred1_1 = lr_1.predict(np.array(X_test_11).reshape(-1, 1))\n",
    "pred1_1[0:5]"
   ]
  },
  {
   "cell_type": "code",
   "execution_count": 83,
   "id": "be0b0326",
   "metadata": {},
   "outputs": [
    {
     "name": "stdout",
     "output_type": "stream",
     "text": [
      "[[0.74331064]] [-0.46030063]\n"
     ]
    }
   ],
   "source": [
    "lr_1.fit(np.array(X_train_21).reshape(-1, 1), np.array(y_train_21).reshape(-1, 1))\n",
    "\n",
    "print(lr_1.coef_, lr_1.intercept_) # [0.34258938] [0.71048247]"
   ]
  },
  {
   "cell_type": "code",
   "execution_count": 84,
   "id": "657bdba2",
   "metadata": {},
   "outputs": [
    {
     "data": {
      "text/plain": [
       "array([[-0.11187217],\n",
       "       [-0.50190403],\n",
       "       [-0.0143642 ],\n",
       "       [-0.40439606],\n",
       "       [-0.599412  ]])"
      ]
     },
     "execution_count": 84,
     "metadata": {},
     "output_type": "execute_result"
    }
   ],
   "source": [
    "pred1_2 = lr_1.predict(np.array(X_test_21).reshape(-1, 1))\n",
    "pred1_2[0:5]"
   ]
  },
  {
   "cell_type": "code",
   "execution_count": 85,
   "id": "dbf8344d",
   "metadata": {},
   "outputs": [
    {
     "name": "stdout",
     "output_type": "stream",
     "text": [
      "[[0.49926115]] [-0.38736792]\n"
     ]
    }
   ],
   "source": [
    "lr_1.fit(np.array(X_train_31).reshape(-1, 1), np.array(y_train_31).reshape(-1, 1))\n",
    "\n",
    "print(lr_1.coef_, lr_1.intercept_) # [0.23010779] [1.41845707]"
   ]
  },
  {
   "cell_type": "code",
   "execution_count": 86,
   "id": "2c9efb69",
   "metadata": {},
   "outputs": [
    {
     "data": {
      "text/plain": [
       "array([[-0.15333818],\n",
       "       [-0.28432497],\n",
       "       [ 0.04314201],\n",
       "       [ 1.09103637],\n",
       "       [ 0.04314201]])"
      ]
     },
     "execution_count": 86,
     "metadata": {},
     "output_type": "execute_result"
    }
   ],
   "source": [
    "pred1_3 = lr_1.predict(np.array(X_test_31).reshape(-1, 1))\n",
    "pred1_3[0:5]"
   ]
  },
  {
   "cell_type": "code",
   "execution_count": null,
   "id": "90bbd1e7",
   "metadata": {},
   "outputs": [],
   "source": []
  },
  {
   "cell_type": "markdown",
   "id": "a06b42af",
   "metadata": {},
   "source": [
    "##### 5-2-2) \"petal width (cm)\""
   ]
  },
  {
   "cell_type": "code",
   "execution_count": 87,
   "id": "349721d8",
   "metadata": {},
   "outputs": [
    {
     "name": "stdout",
     "output_type": "stream",
     "text": [
      "[[0.6098106]] [-0.63107352]\n"
     ]
    }
   ],
   "source": [
    "lr_2.fit(np.array(X_train_12).reshape(-1, 1), np.array(y_train_12).reshape(-1, 1))\n",
    "\n",
    "print(lr_2.coef_, lr_2.intercept_)  #    y = 0.2631.. * x - 0.1736..."
   ]
  },
  {
   "cell_type": "code",
   "execution_count": 88,
   "id": "c9657ee9",
   "metadata": {},
   "outputs": [
    {
     "data": {
      "text/plain": [
       "array([[-1.16915612],\n",
       "       [-1.2382592 ],\n",
       "       [-1.2382592 ],\n",
       "       [-1.10005305],\n",
       "       [-1.2382592 ]])"
      ]
     },
     "execution_count": 88,
     "metadata": {},
     "output_type": "execute_result"
    }
   ],
   "source": [
    "pred2_1 = lr_2.predict(np.array(X_test_12).reshape(-1, 1))\n",
    "pred2_1[0:5]"
   ]
  },
  {
   "cell_type": "code",
   "execution_count": 89,
   "id": "a74e80c5",
   "metadata": {},
   "outputs": [
    {
     "name": "stdout",
     "output_type": "stream",
     "text": [
      "[[0.80058377]] [-0.08154147]\n"
     ]
    }
   ],
   "source": [
    "lr_2.fit(np.array(X_train_22).reshape(-1, 1), np.array(y_train_22).reshape(-1, 1))\n",
    "\n",
    "print(lr_2.coef_, lr_2.intercept_) # [0.34548422] [-0.14376496]"
   ]
  },
  {
   "cell_type": "code",
   "execution_count": 90,
   "id": "3fc5150e",
   "metadata": {},
   "outputs": [
    {
     "data": {
      "text/plain": [
       "array([[0.48214009],\n",
       "       [0.34605817],\n",
       "       [0.52750073],\n",
       "       [0.30069753],\n",
       "       [0.11925497]])"
      ]
     },
     "execution_count": 90,
     "metadata": {},
     "output_type": "execute_result"
    }
   ],
   "source": [
    "pred2_2 = lr_2.predict(np.array(X_test_22).reshape(-1, 1))\n",
    "pred2_2[0:5]"
   ]
  },
  {
   "cell_type": "code",
   "execution_count": 91,
   "id": "2d58c0cc",
   "metadata": {},
   "outputs": [
    {
     "name": "stdout",
     "output_type": "stream",
     "text": [
      "[[0.36608267]] [0.59244869]\n"
     ]
    }
   ],
   "source": [
    "lr_2.fit(np.array(X_train_32).reshape(-1, 1), np.array(y_train_32).reshape(-1, 1))\n",
    "\n",
    "print(lr_2.coef_, lr_2.intercept_) # [0.15797946] [1.12145512]"
   ]
  },
  {
   "cell_type": "code",
   "execution_count": 92,
   "id": "6c0176c3",
   "metadata": {},
   "outputs": [
    {
     "data": {
      "text/plain": [
       "array([[0.91242931],\n",
       "       [0.97465544],\n",
       "       [0.97465544],\n",
       "       [1.24430203],\n",
       "       [0.9539134 ]])"
      ]
     },
     "execution_count": 92,
     "metadata": {},
     "output_type": "execute_result"
    }
   ],
   "source": [
    "pred2_3 = lr_2.predict(np.array(X_test_32).reshape(-1, 1))\n",
    "pred2_3[0:5]"
   ]
  },
  {
   "cell_type": "code",
   "execution_count": null,
   "id": "bb5e48ed",
   "metadata": {},
   "outputs": [],
   "source": []
  },
  {
   "cell_type": "markdown",
   "id": "47344a52",
   "metadata": {},
   "source": [
    "### 5. Modeling : Case 2 - RandomForest"
   ]
  },
  {
   "cell_type": "code",
   "execution_count": 137,
   "id": "40a77ec9",
   "metadata": {},
   "outputs": [],
   "source": [
    "from sklearn.ensemble import RandomForestRegressor"
   ]
  },
  {
   "cell_type": "code",
   "execution_count": 138,
   "id": "d9cbff36",
   "metadata": {},
   "outputs": [],
   "source": [
    "rf_reg = RandomForestRegressor(n_estimators=200, criterion='mae', random_state=28)"
   ]
  },
  {
   "cell_type": "markdown",
   "id": "a57c02c8",
   "metadata": {},
   "source": [
    "##### After tunning"
   ]
  },
  {
   "cell_type": "code",
   "execution_count": 157,
   "id": "7ee440bf",
   "metadata": {},
   "outputs": [],
   "source": [
    "# for y1_train:\n",
    "rf_reg = RandomForestRegressor(bootstrap=False, criterion='mae', max_depth=8,\n",
    "                               min_samples_leaf=4, min_samples_split=4, n_estimators=120,\n",
    "                               random_state=29)    "
   ]
  },
  {
   "cell_type": "code",
   "execution_count": 163,
   "id": "47401db5",
   "metadata": {},
   "outputs": [],
   "source": [
    "# for y2_train:\n",
    "rf_reg = RandomForestRegressor(criterion='mae', max_depth=8, min_samples_leaf=6,\n",
    "                               min_samples_split=4, random_state=29)"
   ]
  },
  {
   "cell_type": "code",
   "execution_count": null,
   "id": "90d3e264",
   "metadata": {},
   "outputs": [],
   "source": []
  },
  {
   "cell_type": "code",
   "execution_count": 151,
   "id": "d25c1c59",
   "metadata": {},
   "outputs": [
    {
     "data": {
      "text/plain": [
       "['sepal length (cm)', 'petal length (cm)', 'setosa', 'versicolor', 'virginica']"
      ]
     },
     "execution_count": 151,
     "metadata": {},
     "output_type": "execute_result"
    }
   ],
   "source": [
    "f_names = \"sepal length (cm)\tpetal length (cm)\tsetosa\tversicolor\tvirginica\".split(\"\\t\")\n",
    "f_names"
   ]
  },
  {
   "cell_type": "code",
   "execution_count": 158,
   "id": "0ef32a45",
   "metadata": {},
   "outputs": [],
   "source": [
    "X_train = train[f_names]\n",
    "y_train_1 = train[\"sepal width (cm)\"]\n",
    "y_train_2 = train[\"petal width (cm)\"]"
   ]
  },
  {
   "cell_type": "code",
   "execution_count": 159,
   "id": "f883345e",
   "metadata": {},
   "outputs": [],
   "source": [
    "X_test = test[f_names]"
   ]
  },
  {
   "cell_type": "markdown",
   "id": "02e0fb88",
   "metadata": {},
   "source": [
    "##### for sepal width (cm)"
   ]
  },
  {
   "cell_type": "code",
   "execution_count": 160,
   "id": "923f9b85",
   "metadata": {},
   "outputs": [
    {
     "data": {
      "text/plain": [
       "RandomForestRegressor(bootstrap=False, criterion='mae', max_depth=8,\n",
       "                      min_samples_leaf=4, min_samples_split=4, n_estimators=120,\n",
       "                      random_state=29)"
      ]
     },
     "execution_count": 160,
     "metadata": {},
     "output_type": "execute_result"
    }
   ],
   "source": [
    "rf_reg.fit(X_train, y_train_1)"
   ]
  },
  {
   "cell_type": "code",
   "execution_count": 143,
   "id": "38a18283",
   "metadata": {},
   "outputs": [
    {
     "data": {
      "text/html": [
       "<div>\n",
       "<style scoped>\n",
       "    .dataframe tbody tr th:only-of-type {\n",
       "        vertical-align: middle;\n",
       "    }\n",
       "\n",
       "    .dataframe tbody tr th {\n",
       "        vertical-align: top;\n",
       "    }\n",
       "\n",
       "    .dataframe thead th {\n",
       "        text-align: right;\n",
       "    }\n",
       "</style>\n",
       "<table border=\"1\" class=\"dataframe\">\n",
       "  <thead>\n",
       "    <tr style=\"text-align: right;\">\n",
       "      <th></th>\n",
       "      <th>sepal length (cm)</th>\n",
       "      <th>petal length (cm)</th>\n",
       "      <th>setosa</th>\n",
       "      <th>versicolor</th>\n",
       "      <th>virginica</th>\n",
       "    </tr>\n",
       "    <tr>\n",
       "      <th>id</th>\n",
       "      <th></th>\n",
       "      <th></th>\n",
       "      <th></th>\n",
       "      <th></th>\n",
       "      <th></th>\n",
       "    </tr>\n",
       "  </thead>\n",
       "  <tbody>\n",
       "    <tr>\n",
       "      <th>0</th>\n",
       "      <td>4.4</td>\n",
       "      <td>1.4</td>\n",
       "      <td>1</td>\n",
       "      <td>0</td>\n",
       "      <td>0</td>\n",
       "    </tr>\n",
       "  </tbody>\n",
       "</table>\n",
       "</div>"
      ],
      "text/plain": [
       "    sepal length (cm)  petal length (cm)  setosa  versicolor  virginica\n",
       "id                                                                     \n",
       "0                 4.4                1.4       1           0          0"
      ]
     },
     "execution_count": 143,
     "metadata": {},
     "output_type": "execute_result"
    }
   ],
   "source": [
    "X_train.head(1)"
   ]
  },
  {
   "cell_type": "code",
   "execution_count": 161,
   "id": "20194b6f",
   "metadata": {},
   "outputs": [
    {
     "data": {
      "text/plain": [
       "array([6.88085208e-01, 1.81608954e-01, 1.29640758e-01, 2.84090909e-04,\n",
       "       3.80990134e-04])"
      ]
     },
     "execution_count": 161,
     "metadata": {},
     "output_type": "execute_result"
    }
   ],
   "source": [
    "rf_reg.feature_importances_"
   ]
  },
  {
   "cell_type": "code",
   "execution_count": 162,
   "id": "129e25b6",
   "metadata": {},
   "outputs": [
    {
     "data": {
      "text/plain": [
       "array([3.65      , 3.65      , 3.65      , 3.65      , 2.89583333,\n",
       "       2.66666667, 3.65      , 3.65      , 3.1       , 2.89958333,\n",
       "       3.1       , 3.1       , 2.845     , 2.9       , 2.80333333,\n",
       "       2.845     , 3.05      , 3.2       , 2.89958333, 2.705     ,\n",
       "       2.89666667, 3.1       , 2.80333333, 3.65      , 2.4       ,\n",
       "       3.1       , 3.65      , 3.65      , 3.65      , 3.2       ,\n",
       "       2.6       , 3.65      , 3.05      , 3.        , 3.00333333,\n",
       "       3.65      , 3.05      , 2.80333333, 3.65      , 2.9       ,\n",
       "       3.65      , 3.65      , 3.0425    , 3.65      , 3.0425    ,\n",
       "       3.05      , 2.67333333, 2.4       , 3.65      , 2.86916667,\n",
       "       3.65      , 2.4       , 2.4       , 2.4       , 3.65      ,\n",
       "       2.70291667, 3.65      , 2.80333333, 3.65      , 2.91833333,\n",
       "       3.        , 2.4       , 3.        , 2.89666667, 3.1       ,\n",
       "       3.65      , 3.00333333, 3.65      , 3.65      , 2.80333333,\n",
       "       2.6       , 3.05      , 2.8525    , 2.4       , 2.6975    ])"
      ]
     },
     "execution_count": 162,
     "metadata": {},
     "output_type": "execute_result"
    }
   ],
   "source": [
    "pred_1 = rf_reg.predict(X_test)\n",
    "pred_1"
   ]
  },
  {
   "cell_type": "markdown",
   "id": "5e3c3e52",
   "metadata": {},
   "source": [
    "##### for petal width (cm)"
   ]
  },
  {
   "cell_type": "code",
   "execution_count": 164,
   "id": "59b9da92",
   "metadata": {},
   "outputs": [
    {
     "data": {
      "text/plain": [
       "RandomForestRegressor(criterion='mae', max_depth=8, min_samples_leaf=6,\n",
       "                      min_samples_split=4, random_state=29)"
      ]
     },
     "execution_count": 164,
     "metadata": {},
     "output_type": "execute_result"
    }
   ],
   "source": [
    "rf_reg.fit(X_train, y_train_2)"
   ]
  },
  {
   "cell_type": "code",
   "execution_count": 145,
   "id": "a512f095",
   "metadata": {},
   "outputs": [
    {
     "data": {
      "text/html": [
       "<div>\n",
       "<style scoped>\n",
       "    .dataframe tbody tr th:only-of-type {\n",
       "        vertical-align: middle;\n",
       "    }\n",
       "\n",
       "    .dataframe tbody tr th {\n",
       "        vertical-align: top;\n",
       "    }\n",
       "\n",
       "    .dataframe thead th {\n",
       "        text-align: right;\n",
       "    }\n",
       "</style>\n",
       "<table border=\"1\" class=\"dataframe\">\n",
       "  <thead>\n",
       "    <tr style=\"text-align: right;\">\n",
       "      <th></th>\n",
       "      <th>sepal length (cm)</th>\n",
       "      <th>petal length (cm)</th>\n",
       "      <th>setosa</th>\n",
       "      <th>versicolor</th>\n",
       "      <th>virginica</th>\n",
       "    </tr>\n",
       "    <tr>\n",
       "      <th>id</th>\n",
       "      <th></th>\n",
       "      <th></th>\n",
       "      <th></th>\n",
       "      <th></th>\n",
       "      <th></th>\n",
       "    </tr>\n",
       "  </thead>\n",
       "  <tbody>\n",
       "    <tr>\n",
       "      <th>0</th>\n",
       "      <td>4.4</td>\n",
       "      <td>1.4</td>\n",
       "      <td>1</td>\n",
       "      <td>0</td>\n",
       "      <td>0</td>\n",
       "    </tr>\n",
       "  </tbody>\n",
       "</table>\n",
       "</div>"
      ],
      "text/plain": [
       "    sepal length (cm)  petal length (cm)  setosa  versicolor  virginica\n",
       "id                                                                     \n",
       "0                 4.4                1.4       1           0          0"
      ]
     },
     "execution_count": 145,
     "metadata": {},
     "output_type": "execute_result"
    }
   ],
   "source": [
    "X_train.head(1)"
   ]
  },
  {
   "cell_type": "code",
   "execution_count": 165,
   "id": "57250ad4",
   "metadata": {},
   "outputs": [
    {
     "data": {
      "text/plain": [
       "array([0.0179487 , 0.4723895 , 0.25400105, 0.1306508 , 0.12500996])"
      ]
     },
     "execution_count": 165,
     "metadata": {},
     "output_type": "execute_result"
    }
   ],
   "source": [
    "rf_reg.feature_importances_"
   ]
  },
  {
   "cell_type": "code",
   "execution_count": 166,
   "id": "3c2557a9",
   "metadata": {},
   "outputs": [
    {
     "data": {
      "text/plain": [
       "array([0.202 , 0.202 , 0.202 , 0.202 , 1.863 , 1.9245, 0.202 , 0.202 ,\n",
       "       0.199 , 1.452 , 0.199 , 0.199 , 1.9255, 2.0675, 1.3025, 1.864 ,\n",
       "       0.199 , 1.989 , 1.454 , 1.954 , 2.011 , 0.199 , 1.1775, 0.202 ,\n",
       "       1.143 , 0.199 , 0.202 , 0.202 , 0.202 , 1.9965, 1.179 , 0.202 ,\n",
       "       0.199 , 2.066 , 1.9775, 0.202 , 0.199 , 1.3025, 0.202 , 1.447 ,\n",
       "       0.202 , 0.202 , 2.0675, 0.202 , 2.0675, 0.199 , 1.93  , 1.078 ,\n",
       "       0.202 , 1.391 , 0.202 , 1.399 , 1.175 , 1.433 , 0.202 , 1.5525,\n",
       "       0.202 , 1.1775, 0.202 , 1.4215, 2.0375, 1.1775, 2.0015, 1.998 ,\n",
       "       0.199 , 0.202 , 1.972 , 0.202 , 0.202 , 1.3025, 1.1815, 0.199 ,\n",
       "       1.955 , 1.078 , 1.9245])"
      ]
     },
     "execution_count": 166,
     "metadata": {},
     "output_type": "execute_result"
    }
   ],
   "source": [
    "pred_2 = rf_reg.predict(X_test)\n",
    "pred_2"
   ]
  },
  {
   "cell_type": "code",
   "execution_count": null,
   "id": "88c8d87f",
   "metadata": {},
   "outputs": [],
   "source": []
  },
  {
   "cell_type": "code",
   "execution_count": null,
   "id": "fce6b8b1",
   "metadata": {},
   "outputs": [],
   "source": []
  },
  {
   "cell_type": "markdown",
   "id": "9451a814",
   "metadata": {},
   "source": [
    "### 6. Evaluation & Tuning"
   ]
  },
  {
   "cell_type": "markdown",
   "id": "c344539c",
   "metadata": {},
   "source": [
    "#### 6-1) Evaluation :"
   ]
  },
  {
   "cell_type": "code",
   "execution_count": 74,
   "id": "4a7ec69f",
   "metadata": {},
   "outputs": [],
   "source": [
    "def MAE(true, pred):\n",
    "    score = np.mean(np.abs(true-pred))\n",
    "    return score"
   ]
  },
  {
   "cell_type": "code",
   "execution_count": 1,
   "id": "54cf1af8",
   "metadata": {},
   "outputs": [],
   "source": [
    "from sklearn.ensemble import RandomForestRegressor\n",
    "\n",
    "from sklearn.model_selection import KFold # StratifiedKFold\n",
    "from sklearn.metrics import mean_absolute_error"
   ]
  },
  {
   "cell_type": "code",
   "execution_count": 170,
   "id": "3f90b18e",
   "metadata": {},
   "outputs": [],
   "source": [
    "rf_reg_1 = RandomForestRegressor(bootstrap=False, criterion='mae', max_depth=8,\n",
    "                                 min_samples_leaf=4, min_samples_split=4, n_estimators=120,\n",
    "                                 random_state=29)                      # For \"sepal width (cm)\"\n",
    "rf_reg_2 = RandomForestRegressor(criterion='mae', max_depth=8, min_samples_leaf=6,\n",
    "                                 min_samples_split=4, random_state=29) # For \"petal width (cm)\""
   ]
  },
  {
   "cell_type": "code",
   "execution_count": 171,
   "id": "794b4fa2",
   "metadata": {},
   "outputs": [],
   "source": [
    "# sfold = StratifiedKFold(n_splits=3, shuffle=True, random_state=26)\n",
    "kfold = KFold(n_splits=5, shuffle=True, random_state=26)"
   ]
  },
  {
   "cell_type": "code",
   "execution_count": null,
   "id": "04814e07",
   "metadata": {},
   "outputs": [],
   "source": []
  },
  {
   "cell_type": "code",
   "execution_count": 172,
   "id": "47232aad",
   "metadata": {},
   "outputs": [],
   "source": [
    "f_names1 = \"sepal length (cm)\tpetal length (cm)\tsetosa\tversicolor\tvirginica\".split(\"\\t\")\n",
    "f_names2 = \"petal length (cm)\tsetosa\tversicolor\tvirginica\".split(\"\\t\")\n",
    "t_names1 = \"sepal width (cm)\"\n",
    "t_names2 = \"petal width (cm)\""
   ]
  },
  {
   "cell_type": "code",
   "execution_count": 173,
   "id": "27f1b008",
   "metadata": {},
   "outputs": [],
   "source": [
    "X1_train = train[f_names1]\n",
    "y1_train = train[t_names1]\n",
    "\n",
    "X2_train = train[f_names2]\n",
    "y2_train = train[t_names2]"
   ]
  },
  {
   "cell_type": "code",
   "execution_count": 174,
   "id": "eae57065",
   "metadata": {},
   "outputs": [
    {
     "name": "stdout",
     "output_type": "stream",
     "text": [
      "0.2342499999999997\n",
      "0.2521666666666653\n",
      "0.28127777777777824\n",
      "0.268083333333333\n",
      "0.26822222222221986\n"
     ]
    }
   ],
   "source": [
    "for i, (tr_val, te_val) in enumerate(kfold.split(X1_train, y1_train)):\n",
    "    rf_reg_1.fit(X1_train.iloc[tr_val], y1_train.iloc[tr_val])\n",
    "    pred_val = rf_reg_1.predict(X1_train.iloc[te_val])\n",
    "    \n",
    "    print(mean_absolute_error(pred_val, y1_train[te_val]))"
   ]
  },
  {
   "cell_type": "code",
   "execution_count": 175,
   "id": "44ecb91c",
   "metadata": {},
   "outputs": [
    {
     "name": "stdout",
     "output_type": "stream",
     "text": [
      "0.15570000000000003\n",
      "0.12346666666666652\n",
      "0.09189999999999966\n",
      "0.176866666666667\n",
      "0.16696666666666662\n"
     ]
    }
   ],
   "source": [
    "for i, (tr_val, te_val) in enumerate(kfold.split(X2_train, y2_train)):\n",
    "    rf_reg_2.fit(X2_train.iloc[tr_val], y2_train.iloc[tr_val])\n",
    "    pred_val = rf_reg_2.predict(X2_train.iloc[te_val])\n",
    "    \n",
    "    print(mean_absolute_error(pred_val, y2_train[te_val])) "
   ]
  },
  {
   "cell_type": "code",
   "execution_count": null,
   "id": "7c04d991",
   "metadata": {},
   "outputs": [],
   "source": []
  },
  {
   "cell_type": "markdown",
   "id": "bd85d8e7",
   "metadata": {},
   "source": [
    "#### 6-2) Tuning :"
   ]
  },
  {
   "cell_type": "code",
   "execution_count": 145,
   "id": "1f37ef9d",
   "metadata": {},
   "outputs": [],
   "source": [
    "from sklearn.model_selection import GridSearchCV, RandomizedSearchCV"
   ]
  },
  {
   "cell_type": "code",
   "execution_count": 146,
   "id": "144d16dd",
   "metadata": {},
   "outputs": [],
   "source": [
    "rf_reg = RandomForestRegressor(criterion='mae', random_state=29)"
   ]
  },
  {
   "cell_type": "code",
   "execution_count": 147,
   "id": "bc807610",
   "metadata": {},
   "outputs": [],
   "source": [
    "params = {\n",
    "    \"n_estimators\" : [80,90,100,120],\n",
    "    \"max_depth\" :  [8,10,12],\n",
    "    \"min_samples_split\" : [4,6,8],\n",
    "    \"min_samples_leaf\" : [4,6,8],\n",
    "    \"bootstrap\" : [True, False]\n",
    "}"
   ]
  },
  {
   "cell_type": "code",
   "execution_count": 148,
   "id": "0f421b32",
   "metadata": {},
   "outputs": [],
   "source": [
    "grid_rf = GridSearchCV(rf_reg, param_grid=params, cv=4, scoring='neg_mean_absolute_error', verbose=1)"
   ]
  },
  {
   "cell_type": "code",
   "execution_count": 154,
   "id": "178cc383",
   "metadata": {},
   "outputs": [
    {
     "name": "stdout",
     "output_type": "stream",
     "text": [
      "Fitting 4 folds for each of 216 candidates, totalling 864 fits\n",
      "-0.24009046052631558\n",
      "RandomForestRegressor(bootstrap=False, criterion='mae', max_depth=8,\n",
      "                      min_samples_leaf=4, min_samples_split=4, n_estimators=120,\n",
      "                      random_state=29)\n"
     ]
    }
   ],
   "source": [
    "grid_rf.fit(X_train, y1_train)\n",
    "\n",
    "print(grid_rf.best_score_)\n",
    "print(grid_rf.best_estimator_)"
   ]
  },
  {
   "cell_type": "code",
   "execution_count": 156,
   "id": "4634f4c9",
   "metadata": {},
   "outputs": [
    {
     "name": "stdout",
     "output_type": "stream",
     "text": [
      "Fitting 4 folds for each of 216 candidates, totalling 864 fits\n",
      "-0.15951315789473677\n",
      "RandomForestRegressor(criterion='mae', max_depth=8, min_samples_leaf=6,\n",
      "                      min_samples_split=4, random_state=29)\n"
     ]
    }
   ],
   "source": [
    "grid_rf.fit(X_train, y2_train)\n",
    "\n",
    "print(grid_rf.best_score_)\n",
    "print(grid_rf.best_estimator_)"
   ]
  },
  {
   "cell_type": "code",
   "execution_count": null,
   "id": "714faa57",
   "metadata": {},
   "outputs": [],
   "source": []
  },
  {
   "cell_type": "code",
   "execution_count": null,
   "id": "b27c5e01",
   "metadata": {},
   "outputs": [],
   "source": []
  },
  {
   "cell_type": "markdown",
   "id": "773ede0b",
   "metadata": {},
   "source": [
    "### 7. Submission"
   ]
  },
  {
   "cell_type": "markdown",
   "id": "20f5e716",
   "metadata": {},
   "source": [
    "#### 7-1 Aggregation (Result from LinearRegression)"
   ]
  },
  {
   "cell_type": "code",
   "execution_count": 122,
   "id": "3e9ea2f4",
   "metadata": {},
   "outputs": [
    {
     "data": {
      "text/html": [
       "<div>\n",
       "<style scoped>\n",
       "    .dataframe tbody tr th:only-of-type {\n",
       "        vertical-align: middle;\n",
       "    }\n",
       "\n",
       "    .dataframe tbody tr th {\n",
       "        vertical-align: top;\n",
       "    }\n",
       "\n",
       "    .dataframe thead th {\n",
       "        text-align: right;\n",
       "    }\n",
       "</style>\n",
       "<table border=\"1\" class=\"dataframe\">\n",
       "  <thead>\n",
       "    <tr style=\"text-align: right;\">\n",
       "      <th></th>\n",
       "      <th>species</th>\n",
       "      <th>sepal length (cm)</th>\n",
       "      <th>petal length (cm)</th>\n",
       "      <th>sepal width (cm)</th>\n",
       "      <th>petal width (cm)</th>\n",
       "      <th>species(label)</th>\n",
       "      <th>setosa</th>\n",
       "      <th>versicolor</th>\n",
       "      <th>virginica</th>\n",
       "      <th>ss_sepal length (cm)</th>\n",
       "      <th>ss_petal length (cm)</th>\n",
       "      <th>ss_sepal width (cm)</th>\n",
       "      <th>ss_petal width (cm)</th>\n",
       "      <th>mm_sepal length (cm)</th>\n",
       "      <th>mm_petal length (cm)</th>\n",
       "      <th>mm_sepal width (cm)</th>\n",
       "      <th>mm_petal width (cm)</th>\n",
       "    </tr>\n",
       "    <tr>\n",
       "      <th>id</th>\n",
       "      <th></th>\n",
       "      <th></th>\n",
       "      <th></th>\n",
       "      <th></th>\n",
       "      <th></th>\n",
       "      <th></th>\n",
       "      <th></th>\n",
       "      <th></th>\n",
       "      <th></th>\n",
       "      <th></th>\n",
       "      <th></th>\n",
       "      <th></th>\n",
       "      <th></th>\n",
       "      <th></th>\n",
       "      <th></th>\n",
       "      <th></th>\n",
       "      <th></th>\n",
       "    </tr>\n",
       "  </thead>\n",
       "  <tbody>\n",
       "    <tr>\n",
       "      <th>0</th>\n",
       "      <td>setosa</td>\n",
       "      <td>4.4</td>\n",
       "      <td>1.4</td>\n",
       "      <td>2.9</td>\n",
       "      <td>0.2</td>\n",
       "      <td>1.0</td>\n",
       "      <td>1</td>\n",
       "      <td>0</td>\n",
       "      <td>0</td>\n",
       "      <td>-1.964118</td>\n",
       "      <td>-1.781562</td>\n",
       "      <td>-0.152074</td>\n",
       "      <td>-1.709888</td>\n",
       "      <td>0.029412</td>\n",
       "      <td>0.051724</td>\n",
       "      <td>0.45</td>\n",
       "      <td>0.041667</td>\n",
       "    </tr>\n",
       "  </tbody>\n",
       "</table>\n",
       "</div>"
      ],
      "text/plain": [
       "   species  sepal length (cm)  petal length (cm)  sepal width (cm)  \\\n",
       "id                                                                   \n",
       "0   setosa                4.4                1.4               2.9   \n",
       "\n",
       "    petal width (cm)  species(label)  setosa  versicolor  virginica  \\\n",
       "id                                                                    \n",
       "0                0.2             1.0       1           0          0   \n",
       "\n",
       "    ss_sepal length (cm)  ss_petal length (cm)  ss_sepal width (cm)  \\\n",
       "id                                                                    \n",
       "0              -1.964118             -1.781562            -0.152074   \n",
       "\n",
       "    ss_petal width (cm)  mm_sepal length (cm)  mm_petal length (cm)  \\\n",
       "id                                                                    \n",
       "0             -1.709888              0.029412              0.051724   \n",
       "\n",
       "    mm_sepal width (cm)  mm_petal width (cm)  \n",
       "id                                            \n",
       "0                  0.45             0.041667  "
      ]
     },
     "execution_count": 122,
     "metadata": {},
     "output_type": "execute_result"
    }
   ],
   "source": [
    "train.head(1)"
   ]
  },
  {
   "cell_type": "markdown",
   "id": "12796b66",
   "metadata": {},
   "source": [
    "##### 7-1-1) setosa + sepal width (cm) + petal width (cm)"
   ]
  },
  {
   "cell_type": "code",
   "execution_count": 123,
   "id": "da0d1320",
   "metadata": {},
   "outputs": [
    {
     "data": {
      "text/html": [
       "<div>\n",
       "<style scoped>\n",
       "    .dataframe tbody tr th:only-of-type {\n",
       "        vertical-align: middle;\n",
       "    }\n",
       "\n",
       "    .dataframe tbody tr th {\n",
       "        vertical-align: top;\n",
       "    }\n",
       "\n",
       "    .dataframe thead th {\n",
       "        text-align: right;\n",
       "    }\n",
       "</style>\n",
       "<table border=\"1\" class=\"dataframe\">\n",
       "  <thead>\n",
       "    <tr style=\"text-align: right;\">\n",
       "      <th></th>\n",
       "      <th>ss_sepal length (cm)</th>\n",
       "      <th>sepal width (cm)</th>\n",
       "      <th>petal length (cm)</th>\n",
       "      <th>petal width (cm)</th>\n",
       "    </tr>\n",
       "    <tr>\n",
       "      <th>id</th>\n",
       "      <th></th>\n",
       "      <th></th>\n",
       "      <th></th>\n",
       "      <th></th>\n",
       "    </tr>\n",
       "  </thead>\n",
       "  <tbody>\n",
       "    <tr>\n",
       "      <th>0</th>\n",
       "      <td>-0.318332</td>\n",
       "      <td>2.673443</td>\n",
       "      <td>-0.882377</td>\n",
       "      <td>-1.169156</td>\n",
       "    </tr>\n",
       "    <tr>\n",
       "      <th>1</th>\n",
       "      <td>0.075210</td>\n",
       "      <td>3.309090</td>\n",
       "      <td>-0.995696</td>\n",
       "      <td>-1.238259</td>\n",
       "    </tr>\n",
       "    <tr>\n",
       "      <th>2</th>\n",
       "      <td>-0.449512</td>\n",
       "      <td>2.461561</td>\n",
       "      <td>-0.995696</td>\n",
       "      <td>-1.238259</td>\n",
       "    </tr>\n",
       "  </tbody>\n",
       "</table>\n",
       "</div>"
      ],
      "text/plain": [
       "    ss_sepal length (cm)  sepal width (cm)  petal length (cm)  \\\n",
       "id                                                              \n",
       "0              -0.318332          2.673443          -0.882377   \n",
       "1               0.075210          3.309090          -0.995696   \n",
       "2              -0.449512          2.461561          -0.995696   \n",
       "\n",
       "    petal width (cm)  \n",
       "id                    \n",
       "0          -1.169156  \n",
       "1          -1.238259  \n",
       "2          -1.238259  "
      ]
     },
     "execution_count": 123,
     "metadata": {},
     "output_type": "execute_result"
    }
   ],
   "source": [
    "df_1 = pd.DataFrame(X_test_11)\n",
    "df_1['sepal width (cm)'] = pred1_1\n",
    "df_1[\"petal length (cm)\"]= X_test_12\n",
    "df_1['petal width (cm)'] = pred2_1\n",
    "\n",
    "df_1.head(3)"
   ]
  },
  {
   "cell_type": "markdown",
   "id": "33020541",
   "metadata": {},
   "source": [
    "##### 7-1-2) versicolor + sepal width (cm) + petal width (cm)"
   ]
  },
  {
   "cell_type": "code",
   "execution_count": 124,
   "id": "eb2cfca2",
   "metadata": {},
   "outputs": [
    {
     "data": {
      "text/html": [
       "<div>\n",
       "<style scoped>\n",
       "    .dataframe tbody tr th:only-of-type {\n",
       "        vertical-align: middle;\n",
       "    }\n",
       "\n",
       "    .dataframe tbody tr th {\n",
       "        vertical-align: top;\n",
       "    }\n",
       "\n",
       "    .dataframe thead th {\n",
       "        text-align: right;\n",
       "    }\n",
       "</style>\n",
       "<table border=\"1\" class=\"dataframe\">\n",
       "  <thead>\n",
       "    <tr style=\"text-align: right;\">\n",
       "      <th></th>\n",
       "      <th>ss_sepal length (cm)</th>\n",
       "      <th>petal length (cm)</th>\n",
       "      <th>sepal width (cm)</th>\n",
       "      <th>petal width (cm)</th>\n",
       "    </tr>\n",
       "    <tr>\n",
       "      <th>id</th>\n",
       "      <th></th>\n",
       "      <th></th>\n",
       "      <th></th>\n",
       "      <th></th>\n",
       "    </tr>\n",
       "  </thead>\n",
       "  <tbody>\n",
       "    <tr>\n",
       "      <th>9</th>\n",
       "      <td>0.468752</td>\n",
       "      <td>0.704088</td>\n",
       "      <td>-0.111872</td>\n",
       "      <td>0.482140</td>\n",
       "    </tr>\n",
       "    <tr>\n",
       "      <th>14</th>\n",
       "      <td>-0.055970</td>\n",
       "      <td>0.534110</td>\n",
       "      <td>-0.501904</td>\n",
       "      <td>0.346058</td>\n",
       "    </tr>\n",
       "    <tr>\n",
       "      <th>18</th>\n",
       "      <td>0.599933</td>\n",
       "      <td>0.760748</td>\n",
       "      <td>-0.014364</td>\n",
       "      <td>0.527501</td>\n",
       "    </tr>\n",
       "  </tbody>\n",
       "</table>\n",
       "</div>"
      ],
      "text/plain": [
       "    ss_sepal length (cm)  petal length (cm)  sepal width (cm)  \\\n",
       "id                                                              \n",
       "9               0.468752           0.704088         -0.111872   \n",
       "14             -0.055970           0.534110         -0.501904   \n",
       "18              0.599933           0.760748         -0.014364   \n",
       "\n",
       "    petal width (cm)  \n",
       "id                    \n",
       "9           0.482140  \n",
       "14          0.346058  \n",
       "18          0.527501  "
      ]
     },
     "execution_count": 124,
     "metadata": {},
     "output_type": "execute_result"
    }
   ],
   "source": [
    "df_2 = pd.DataFrame(X_test_21)\n",
    "df_2[\"petal length (cm)\"]= X_test_22\n",
    "df_2['sepal width (cm)'] = pred1_2\n",
    "df_2['petal width (cm)'] = pred2_2\n",
    "\n",
    "df_2.head(3)"
   ]
  },
  {
   "cell_type": "markdown",
   "id": "b4a7e105",
   "metadata": {},
   "source": [
    "##### 7-1-3) virginica + sepal width (cm) + petal width (cm)"
   ]
  },
  {
   "cell_type": "code",
   "execution_count": 125,
   "id": "84799037",
   "metadata": {},
   "outputs": [
    {
     "data": {
      "text/html": [
       "<div>\n",
       "<style scoped>\n",
       "    .dataframe tbody tr th:only-of-type {\n",
       "        vertical-align: middle;\n",
       "    }\n",
       "\n",
       "    .dataframe tbody tr th {\n",
       "        vertical-align: top;\n",
       "    }\n",
       "\n",
       "    .dataframe thead th {\n",
       "        text-align: right;\n",
       "    }\n",
       "</style>\n",
       "<table border=\"1\" class=\"dataframe\">\n",
       "  <thead>\n",
       "    <tr style=\"text-align: right;\">\n",
       "      <th></th>\n",
       "      <th>ss_sepal length (cm)</th>\n",
       "      <th>petal length (cm)</th>\n",
       "      <th>sepal width (cm)</th>\n",
       "      <th>petal width (cm)</th>\n",
       "    </tr>\n",
       "    <tr>\n",
       "      <th>id</th>\n",
       "      <th></th>\n",
       "      <th></th>\n",
       "      <th></th>\n",
       "      <th></th>\n",
       "    </tr>\n",
       "  </thead>\n",
       "  <tbody>\n",
       "    <tr>\n",
       "      <th>4</th>\n",
       "      <td>0.468752</td>\n",
       "      <td>0.874067</td>\n",
       "      <td>-0.153338</td>\n",
       "      <td>0.912429</td>\n",
       "    </tr>\n",
       "    <tr>\n",
       "      <th>5</th>\n",
       "      <td>0.206391</td>\n",
       "      <td>1.044045</td>\n",
       "      <td>-0.284325</td>\n",
       "      <td>0.974655</td>\n",
       "    </tr>\n",
       "    <tr>\n",
       "      <th>12</th>\n",
       "      <td>0.862294</td>\n",
       "      <td>1.044045</td>\n",
       "      <td>0.043142</td>\n",
       "      <td>0.974655</td>\n",
       "    </tr>\n",
       "  </tbody>\n",
       "</table>\n",
       "</div>"
      ],
      "text/plain": [
       "    ss_sepal length (cm)  petal length (cm)  sepal width (cm)  \\\n",
       "id                                                              \n",
       "4               0.468752           0.874067         -0.153338   \n",
       "5               0.206391           1.044045         -0.284325   \n",
       "12              0.862294           1.044045          0.043142   \n",
       "\n",
       "    petal width (cm)  \n",
       "id                    \n",
       "4           0.912429  \n",
       "5           0.974655  \n",
       "12          0.974655  "
      ]
     },
     "execution_count": 125,
     "metadata": {},
     "output_type": "execute_result"
    }
   ],
   "source": [
    "df_3 = pd.DataFrame(X_test_31)\n",
    "df_3[\"petal length (cm)\"]= X_test_32\n",
    "df_3['sepal width (cm)'] = pred1_3\n",
    "df_3['petal width (cm)'] = pred2_3\n",
    "\n",
    "df_3.head(3)"
   ]
  },
  {
   "cell_type": "code",
   "execution_count": null,
   "id": "5a9685b4",
   "metadata": {},
   "outputs": [],
   "source": []
  },
  {
   "cell_type": "markdown",
   "id": "f9f492ad",
   "metadata": {},
   "source": [
    "##### 7-1-4) Making file"
   ]
  },
  {
   "cell_type": "code",
   "execution_count": 100,
   "id": "eaf8ca3d",
   "metadata": {},
   "outputs": [
    {
     "data": {
      "text/html": [
       "<div>\n",
       "<style scoped>\n",
       "    .dataframe tbody tr th:only-of-type {\n",
       "        vertical-align: middle;\n",
       "    }\n",
       "\n",
       "    .dataframe tbody tr th {\n",
       "        vertical-align: top;\n",
       "    }\n",
       "\n",
       "    .dataframe thead th {\n",
       "        text-align: right;\n",
       "    }\n",
       "</style>\n",
       "<table border=\"1\" class=\"dataframe\">\n",
       "  <thead>\n",
       "    <tr style=\"text-align: right;\">\n",
       "      <th></th>\n",
       "      <th>sepal width (cm)</th>\n",
       "      <th>petal width (cm)</th>\n",
       "    </tr>\n",
       "    <tr>\n",
       "      <th>id</th>\n",
       "      <th></th>\n",
       "      <th></th>\n",
       "    </tr>\n",
       "  </thead>\n",
       "  <tbody>\n",
       "    <tr>\n",
       "      <th>0</th>\n",
       "      <td>0</td>\n",
       "      <td>0</td>\n",
       "    </tr>\n",
       "  </tbody>\n",
       "</table>\n",
       "</div>"
      ],
      "text/plain": [
       "    sepal width (cm)  petal width (cm)\n",
       "id                                    \n",
       "0                  0                 0"
      ]
     },
     "execution_count": 100,
     "metadata": {},
     "output_type": "execute_result"
    }
   ],
   "source": [
    "submission.head(1)"
   ]
  },
  {
   "cell_type": "code",
   "execution_count": 128,
   "id": "b071be84",
   "metadata": {},
   "outputs": [
    {
     "name": "stdout",
     "output_type": "stream",
     "text": [
      "(75, 4)\n"
     ]
    },
    {
     "data": {
      "text/html": [
       "<div>\n",
       "<style scoped>\n",
       "    .dataframe tbody tr th:only-of-type {\n",
       "        vertical-align: middle;\n",
       "    }\n",
       "\n",
       "    .dataframe tbody tr th {\n",
       "        vertical-align: top;\n",
       "    }\n",
       "\n",
       "    .dataframe thead th {\n",
       "        text-align: right;\n",
       "    }\n",
       "</style>\n",
       "<table border=\"1\" class=\"dataframe\">\n",
       "  <thead>\n",
       "    <tr style=\"text-align: right;\">\n",
       "      <th></th>\n",
       "      <th>ss_sepal length (cm)</th>\n",
       "      <th>sepal width (cm)</th>\n",
       "      <th>petal length (cm)</th>\n",
       "      <th>petal width (cm)</th>\n",
       "    </tr>\n",
       "    <tr>\n",
       "      <th>id</th>\n",
       "      <th></th>\n",
       "      <th></th>\n",
       "      <th></th>\n",
       "      <th></th>\n",
       "    </tr>\n",
       "  </thead>\n",
       "  <tbody>\n",
       "    <tr>\n",
       "      <th>0</th>\n",
       "      <td>-0.318332</td>\n",
       "      <td>2.673443</td>\n",
       "      <td>-0.882377</td>\n",
       "      <td>-1.169156</td>\n",
       "    </tr>\n",
       "    <tr>\n",
       "      <th>1</th>\n",
       "      <td>0.075210</td>\n",
       "      <td>3.309090</td>\n",
       "      <td>-0.995696</td>\n",
       "      <td>-1.238259</td>\n",
       "    </tr>\n",
       "    <tr>\n",
       "      <th>2</th>\n",
       "      <td>-0.449512</td>\n",
       "      <td>2.461561</td>\n",
       "      <td>-0.995696</td>\n",
       "      <td>-1.238259</td>\n",
       "    </tr>\n",
       "    <tr>\n",
       "      <th>3</th>\n",
       "      <td>-0.711874</td>\n",
       "      <td>2.037796</td>\n",
       "      <td>-0.769058</td>\n",
       "      <td>-1.100053</td>\n",
       "    </tr>\n",
       "    <tr>\n",
       "      <th>4</th>\n",
       "      <td>0.468752</td>\n",
       "      <td>-0.153338</td>\n",
       "      <td>0.874067</td>\n",
       "      <td>0.912429</td>\n",
       "    </tr>\n",
       "  </tbody>\n",
       "</table>\n",
       "</div>"
      ],
      "text/plain": [
       "    ss_sepal length (cm)  sepal width (cm)  petal length (cm)  \\\n",
       "id                                                              \n",
       "0              -0.318332          2.673443          -0.882377   \n",
       "1               0.075210          3.309090          -0.995696   \n",
       "2              -0.449512          2.461561          -0.995696   \n",
       "3              -0.711874          2.037796          -0.769058   \n",
       "4               0.468752         -0.153338           0.874067   \n",
       "\n",
       "    petal width (cm)  \n",
       "id                    \n",
       "0          -1.169156  \n",
       "1          -1.238259  \n",
       "2          -1.238259  \n",
       "3          -1.100053  \n",
       "4           0.912429  "
      ]
     },
     "execution_count": 128,
     "metadata": {},
     "output_type": "execute_result"
    }
   ],
   "source": [
    "df_result = pd.concat([df_1, df_2, df_3]).sort_values(by='id')\n",
    "print(df_result.shape)\n",
    "df_result.head(5)"
   ]
  },
  {
   "cell_type": "code",
   "execution_count": null,
   "id": "1eac72b6",
   "metadata": {},
   "outputs": [],
   "source": []
  },
  {
   "cell_type": "markdown",
   "id": "dd586815",
   "metadata": {},
   "source": [
    "#### 7-2 Submission for RandomForest"
   ]
  },
  {
   "cell_type": "code",
   "execution_count": 168,
   "id": "a7136d72",
   "metadata": {},
   "outputs": [
    {
     "data": {
      "text/html": [
       "<div>\n",
       "<style scoped>\n",
       "    .dataframe tbody tr th:only-of-type {\n",
       "        vertical-align: middle;\n",
       "    }\n",
       "\n",
       "    .dataframe tbody tr th {\n",
       "        vertical-align: top;\n",
       "    }\n",
       "\n",
       "    .dataframe thead th {\n",
       "        text-align: right;\n",
       "    }\n",
       "</style>\n",
       "<table border=\"1\" class=\"dataframe\">\n",
       "  <thead>\n",
       "    <tr style=\"text-align: right;\">\n",
       "      <th></th>\n",
       "      <th>sepal width (cm)</th>\n",
       "      <th>petal width (cm)</th>\n",
       "    </tr>\n",
       "    <tr>\n",
       "      <th>id</th>\n",
       "      <th></th>\n",
       "      <th></th>\n",
       "    </tr>\n",
       "  </thead>\n",
       "  <tbody>\n",
       "    <tr>\n",
       "      <th>0</th>\n",
       "      <td>3.65</td>\n",
       "      <td>0.202</td>\n",
       "    </tr>\n",
       "    <tr>\n",
       "      <th>1</th>\n",
       "      <td>3.65</td>\n",
       "      <td>0.202</td>\n",
       "    </tr>\n",
       "    <tr>\n",
       "      <th>2</th>\n",
       "      <td>3.65</td>\n",
       "      <td>0.202</td>\n",
       "    </tr>\n",
       "  </tbody>\n",
       "</table>\n",
       "</div>"
      ],
      "text/plain": [
       "    sepal width (cm)  petal width (cm)\n",
       "id                                    \n",
       "0               3.65             0.202\n",
       "1               3.65             0.202\n",
       "2               3.65             0.202"
      ]
     },
     "execution_count": 168,
     "metadata": {},
     "output_type": "execute_result"
    }
   ],
   "source": [
    "submission[\"sepal width (cm)\"] = pred_1\n",
    "submission[\"petal width (cm)\"] = pred_2\n",
    "\n",
    "submission.head(3)"
   ]
  },
  {
   "cell_type": "code",
   "execution_count": null,
   "id": "cc66fd4a",
   "metadata": {},
   "outputs": [],
   "source": []
  },
  {
   "cell_type": "code",
   "execution_count": 169,
   "id": "f4fd15cc",
   "metadata": {},
   "outputs": [],
   "source": [
    "submission.to_csv('dacon-211029_1445.csv')"
   ]
  },
  {
   "cell_type": "code",
   "execution_count": null,
   "id": "53936c82",
   "metadata": {},
   "outputs": [],
   "source": []
  }
 ],
 "metadata": {
  "kernelspec": {
   "display_name": "Python 3",
   "language": "python",
   "name": "python3"
  },
  "language_info": {
   "codemirror_mode": {
    "name": "ipython",
    "version": 3
   },
   "file_extension": ".py",
   "mimetype": "text/x-python",
   "name": "python",
   "nbconvert_exporter": "python",
   "pygments_lexer": "ipython3",
   "version": "3.8.8"
  }
 },
 "nbformat": 4,
 "nbformat_minor": 5
}
