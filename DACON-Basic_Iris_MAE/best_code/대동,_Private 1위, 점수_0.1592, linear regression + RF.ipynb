{
 "cells": [
  {
   "cell_type": "code",
   "execution_count": null,
   "metadata": {
    "colab": {
     "base_uri": "https://localhost:8080/"
    },
    "executionInfo": {
     "elapsed": 20072,
     "status": "ok",
     "timestamp": 1635729758493,
     "user": {
      "displayName": "정재용",
      "photoUrl": "https://lh3.googleusercontent.com/a/default-user=s64",
      "userId": "01298664065762991749"
     },
     "user_tz": -540
    },
    "id": "5LWp5w5bvuWx",
    "outputId": "ea383af3-bdcf-494f-9831-e0d5a84f8249"
   },
   "outputs": [],
   "source": [
    "# from google.colab import drive\n",
    "\n",
    "# drive.mount('/gdrive')"
   ]
  },
  {
   "cell_type": "markdown",
   "metadata": {
    "id": "ITq7PLUG3d5e"
   },
   "source": [
    "기본적인 EDA 과정은 \n",
    "\n",
    "\n",
    "https://dacon.io/competitions/official/235836/codeshare/3594?page=1&dtype=recent\n",
    "를 기반으로 하였습니다.\n",
    "\n",
    "위의 코드에서 2가지 직관을 얻을 수 있었습니다.\n",
    "\n",
    "1) 데이터의 수가 적다 -> K-fold로 학습을 수행하면, K를 너무 작게 주면 데이터 수의 부족으로 인해서 적절한 모델이 만들어질 수 없겠다.\n",
    "\n",
    "해결책 : loocv를 사용해서 모델의 데이터를 최대한 유지하자.\n",
    "\n",
    "2) 꽃의 종류에 따라 구분되는 특징이 존재한다. -> 꽃의 종류에 따른 각각의 학습 모델을 만들자."
   ]
  },
  {
   "cell_type": "code",
   "execution_count": 1,
   "metadata": {
    "executionInfo": {
     "elapsed": 1003,
     "status": "ok",
     "timestamp": 1635729759493,
     "user": {
      "displayName": "정재용",
      "photoUrl": "https://lh3.googleusercontent.com/a/default-user=s64",
      "userId": "01298664065762991749"
     },
     "user_tz": -540
    },
    "id": "6ec76BGMvymI"
   },
   "outputs": [],
   "source": [
    "import pandas as pd\n",
    "from sklearn.linear_model import LinearRegression\n",
    "import numpy as np\n",
    "from sklearn.ensemble import RandomForestRegressor"
   ]
  },
  {
   "cell_type": "code",
   "execution_count": 2,
   "metadata": {
    "executionInfo": {
     "elapsed": 20,
     "status": "ok",
     "timestamp": 1635729760024,
     "user": {
      "displayName": "정재용",
      "photoUrl": "https://lh3.googleusercontent.com/a/default-user=s64",
      "userId": "01298664065762991749"
     },
     "user_tz": -540
    },
    "id": "Nh33HCBGv-hJ"
   },
   "outputs": [],
   "source": [
    "train = pd.read_csv('../data/iris_train.csv')"
   ]
  },
  {
   "cell_type": "markdown",
   "metadata": {
    "id": "xVZ2s_0S3dP1"
   },
   "source": [
    "# 꽃의 종류별로 나누고 상관관계 분석"
   ]
  },
  {
   "cell_type": "code",
   "execution_count": 3,
   "metadata": {
    "colab": {
     "base_uri": "https://localhost:8080/",
     "height": 205
    },
    "executionInfo": {
     "elapsed": 20,
     "status": "ok",
     "timestamp": 1635729760025,
     "user": {
      "displayName": "정재용",
      "photoUrl": "https://lh3.googleusercontent.com/a/default-user=s64",
      "userId": "01298664065762991749"
     },
     "user_tz": -540
    },
    "id": "metydEjUwvBb",
    "outputId": "d6c5a743-efa5-4bbe-c435-4a645db99f4d"
   },
   "outputs": [
    {
     "data": {
      "text/html": [
       "<div>\n",
       "<style scoped>\n",
       "    .dataframe tbody tr th:only-of-type {\n",
       "        vertical-align: middle;\n",
       "    }\n",
       "\n",
       "    .dataframe tbody tr th {\n",
       "        vertical-align: top;\n",
       "    }\n",
       "\n",
       "    .dataframe thead th {\n",
       "        text-align: right;\n",
       "    }\n",
       "</style>\n",
       "<table border=\"1\" class=\"dataframe\">\n",
       "  <thead>\n",
       "    <tr style=\"text-align: right;\">\n",
       "      <th></th>\n",
       "      <th>id</th>\n",
       "      <th>sepal length (cm)</th>\n",
       "      <th>petal length (cm)</th>\n",
       "      <th>sepal width (cm)</th>\n",
       "      <th>petal width (cm)</th>\n",
       "    </tr>\n",
       "  </thead>\n",
       "  <tbody>\n",
       "    <tr>\n",
       "      <th>id</th>\n",
       "      <td>1.000000</td>\n",
       "      <td>0.105284</td>\n",
       "      <td>0.325071</td>\n",
       "      <td>0.208995</td>\n",
       "      <td>-0.035156</td>\n",
       "    </tr>\n",
       "    <tr>\n",
       "      <th>sepal length (cm)</th>\n",
       "      <td>0.105284</td>\n",
       "      <td>1.000000</td>\n",
       "      <td>0.214368</td>\n",
       "      <td>0.861071</td>\n",
       "      <td>0.332405</td>\n",
       "    </tr>\n",
       "    <tr>\n",
       "      <th>petal length (cm)</th>\n",
       "      <td>0.325071</td>\n",
       "      <td>0.214368</td>\n",
       "      <td>1.000000</td>\n",
       "      <td>0.219777</td>\n",
       "      <td>0.512989</td>\n",
       "    </tr>\n",
       "    <tr>\n",
       "      <th>sepal width (cm)</th>\n",
       "      <td>0.208995</td>\n",
       "      <td>0.861071</td>\n",
       "      <td>0.219777</td>\n",
       "      <td>1.000000</td>\n",
       "      <td>0.576726</td>\n",
       "    </tr>\n",
       "    <tr>\n",
       "      <th>petal width (cm)</th>\n",
       "      <td>-0.035156</td>\n",
       "      <td>0.332405</td>\n",
       "      <td>0.512989</td>\n",
       "      <td>0.576726</td>\n",
       "      <td>1.000000</td>\n",
       "    </tr>\n",
       "  </tbody>\n",
       "</table>\n",
       "</div>"
      ],
      "text/plain": [
       "                         id  sepal length (cm)  petal length (cm)  \\\n",
       "id                 1.000000           0.105284           0.325071   \n",
       "sepal length (cm)  0.105284           1.000000           0.214368   \n",
       "petal length (cm)  0.325071           0.214368           1.000000   \n",
       "sepal width (cm)   0.208995           0.861071           0.219777   \n",
       "petal width (cm)  -0.035156           0.332405           0.512989   \n",
       "\n",
       "                   sepal width (cm)  petal width (cm)  \n",
       "id                         0.208995         -0.035156  \n",
       "sepal length (cm)          0.861071          0.332405  \n",
       "petal length (cm)          0.219777          0.512989  \n",
       "sepal width (cm)           1.000000          0.576726  \n",
       "petal width (cm)           0.576726          1.000000  "
      ]
     },
     "execution_count": 3,
     "metadata": {},
     "output_type": "execute_result"
    }
   ],
   "source": [
    "train1 = train[train.species=='setosa']\n",
    "train1.corr() # 상관계수 나타냄"
   ]
  },
  {
   "cell_type": "code",
   "execution_count": 4,
   "metadata": {
    "colab": {
     "base_uri": "https://localhost:8080/",
     "height": 205
    },
    "executionInfo": {
     "elapsed": 19,
     "status": "ok",
     "timestamp": 1635729760026,
     "user": {
      "displayName": "정재용",
      "photoUrl": "https://lh3.googleusercontent.com/a/default-user=s64",
      "userId": "01298664065762991749"
     },
     "user_tz": -540
    },
    "id": "3CEvEUWUwLEU",
    "outputId": "624ec3df-ccc9-49bb-a741-a3271c24b11e"
   },
   "outputs": [
    {
     "data": {
      "text/html": [
       "<div>\n",
       "<style scoped>\n",
       "    .dataframe tbody tr th:only-of-type {\n",
       "        vertical-align: middle;\n",
       "    }\n",
       "\n",
       "    .dataframe tbody tr th {\n",
       "        vertical-align: top;\n",
       "    }\n",
       "\n",
       "    .dataframe thead th {\n",
       "        text-align: right;\n",
       "    }\n",
       "</style>\n",
       "<table border=\"1\" class=\"dataframe\">\n",
       "  <thead>\n",
       "    <tr style=\"text-align: right;\">\n",
       "      <th></th>\n",
       "      <th>id</th>\n",
       "      <th>sepal length (cm)</th>\n",
       "      <th>petal length (cm)</th>\n",
       "      <th>sepal width (cm)</th>\n",
       "      <th>petal width (cm)</th>\n",
       "    </tr>\n",
       "  </thead>\n",
       "  <tbody>\n",
       "    <tr>\n",
       "      <th>id</th>\n",
       "      <td>1.000000</td>\n",
       "      <td>-0.116576</td>\n",
       "      <td>-0.115439</td>\n",
       "      <td>-0.102846</td>\n",
       "      <td>-0.129484</td>\n",
       "    </tr>\n",
       "    <tr>\n",
       "      <th>sepal length (cm)</th>\n",
       "      <td>-0.116576</td>\n",
       "      <td>1.000000</td>\n",
       "      <td>0.769562</td>\n",
       "      <td>0.569564</td>\n",
       "      <td>0.495648</td>\n",
       "    </tr>\n",
       "    <tr>\n",
       "      <th>petal length (cm)</th>\n",
       "      <td>-0.115439</td>\n",
       "      <td>0.769562</td>\n",
       "      <td>1.000000</td>\n",
       "      <td>0.564314</td>\n",
       "      <td>0.751556</td>\n",
       "    </tr>\n",
       "    <tr>\n",
       "      <th>sepal width (cm)</th>\n",
       "      <td>-0.102846</td>\n",
       "      <td>0.569564</td>\n",
       "      <td>0.564314</td>\n",
       "      <td>1.000000</td>\n",
       "      <td>0.639143</td>\n",
       "    </tr>\n",
       "    <tr>\n",
       "      <th>petal width (cm)</th>\n",
       "      <td>-0.129484</td>\n",
       "      <td>0.495648</td>\n",
       "      <td>0.751556</td>\n",
       "      <td>0.639143</td>\n",
       "      <td>1.000000</td>\n",
       "    </tr>\n",
       "  </tbody>\n",
       "</table>\n",
       "</div>"
      ],
      "text/plain": [
       "                         id  sepal length (cm)  petal length (cm)  \\\n",
       "id                 1.000000          -0.116576          -0.115439   \n",
       "sepal length (cm) -0.116576           1.000000           0.769562   \n",
       "petal length (cm) -0.115439           0.769562           1.000000   \n",
       "sepal width (cm)  -0.102846           0.569564           0.564314   \n",
       "petal width (cm)  -0.129484           0.495648           0.751556   \n",
       "\n",
       "                   sepal width (cm)  petal width (cm)  \n",
       "id                        -0.102846         -0.129484  \n",
       "sepal length (cm)          0.569564          0.495648  \n",
       "petal length (cm)          0.564314          0.751556  \n",
       "sepal width (cm)           1.000000          0.639143  \n",
       "petal width (cm)           0.639143          1.000000  "
      ]
     },
     "execution_count": 4,
     "metadata": {},
     "output_type": "execute_result"
    }
   ],
   "source": [
    "train2 = train[train.species=='versicolor']\n",
    "train2.corr()"
   ]
  },
  {
   "cell_type": "code",
   "execution_count": 5,
   "metadata": {
    "colab": {
     "base_uri": "https://localhost:8080/",
     "height": 205
    },
    "executionInfo": {
     "elapsed": 20,
     "status": "ok",
     "timestamp": 1635729760027,
     "user": {
      "displayName": "정재용",
      "photoUrl": "https://lh3.googleusercontent.com/a/default-user=s64",
      "userId": "01298664065762991749"
     },
     "user_tz": -540
    },
    "id": "QArlA5NVwenz",
    "outputId": "9a1a3593-10ef-47a6-8872-050c3373eaa6"
   },
   "outputs": [
    {
     "data": {
      "text/html": [
       "<div>\n",
       "<style scoped>\n",
       "    .dataframe tbody tr th:only-of-type {\n",
       "        vertical-align: middle;\n",
       "    }\n",
       "\n",
       "    .dataframe tbody tr th {\n",
       "        vertical-align: top;\n",
       "    }\n",
       "\n",
       "    .dataframe thead th {\n",
       "        text-align: right;\n",
       "    }\n",
       "</style>\n",
       "<table border=\"1\" class=\"dataframe\">\n",
       "  <thead>\n",
       "    <tr style=\"text-align: right;\">\n",
       "      <th></th>\n",
       "      <th>id</th>\n",
       "      <th>sepal length (cm)</th>\n",
       "      <th>petal length (cm)</th>\n",
       "      <th>sepal width (cm)</th>\n",
       "      <th>petal width (cm)</th>\n",
       "    </tr>\n",
       "  </thead>\n",
       "  <tbody>\n",
       "    <tr>\n",
       "      <th>id</th>\n",
       "      <td>1.000000</td>\n",
       "      <td>-0.364443</td>\n",
       "      <td>-0.318217</td>\n",
       "      <td>-0.076079</td>\n",
       "      <td>-0.157974</td>\n",
       "    </tr>\n",
       "    <tr>\n",
       "      <th>sepal length (cm)</th>\n",
       "      <td>-0.364443</td>\n",
       "      <td>1.000000</td>\n",
       "      <td>0.909107</td>\n",
       "      <td>0.473749</td>\n",
       "      <td>0.247149</td>\n",
       "    </tr>\n",
       "    <tr>\n",
       "      <th>petal length (cm)</th>\n",
       "      <td>-0.318217</td>\n",
       "      <td>0.909107</td>\n",
       "      <td>1.000000</td>\n",
       "      <td>0.418791</td>\n",
       "      <td>0.386929</td>\n",
       "    </tr>\n",
       "    <tr>\n",
       "      <th>sepal width (cm)</th>\n",
       "      <td>-0.076079</td>\n",
       "      <td>0.473749</td>\n",
       "      <td>0.418791</td>\n",
       "      <td>1.000000</td>\n",
       "      <td>0.549109</td>\n",
       "    </tr>\n",
       "    <tr>\n",
       "      <th>petal width (cm)</th>\n",
       "      <td>-0.157974</td>\n",
       "      <td>0.247149</td>\n",
       "      <td>0.386929</td>\n",
       "      <td>0.549109</td>\n",
       "      <td>1.000000</td>\n",
       "    </tr>\n",
       "  </tbody>\n",
       "</table>\n",
       "</div>"
      ],
      "text/plain": [
       "                         id  sepal length (cm)  petal length (cm)  \\\n",
       "id                 1.000000          -0.364443          -0.318217   \n",
       "sepal length (cm) -0.364443           1.000000           0.909107   \n",
       "petal length (cm) -0.318217           0.909107           1.000000   \n",
       "sepal width (cm)  -0.076079           0.473749           0.418791   \n",
       "petal width (cm)  -0.157974           0.247149           0.386929   \n",
       "\n",
       "                   sepal width (cm)  petal width (cm)  \n",
       "id                        -0.076079         -0.157974  \n",
       "sepal length (cm)          0.473749          0.247149  \n",
       "petal length (cm)          0.418791          0.386929  \n",
       "sepal width (cm)           1.000000          0.549109  \n",
       "petal width (cm)           0.549109          1.000000  "
      ]
     },
     "execution_count": 5,
     "metadata": {},
     "output_type": "execute_result"
    }
   ],
   "source": [
    "train3 = train[train.species=='virginica']\n",
    "train3.corr()"
   ]
  },
  {
   "cell_type": "code",
   "execution_count": 6,
   "metadata": {},
   "outputs": [
    {
     "data": {
      "text/html": [
       "<div>\n",
       "<style scoped>\n",
       "    .dataframe tbody tr th:only-of-type {\n",
       "        vertical-align: middle;\n",
       "    }\n",
       "\n",
       "    .dataframe tbody tr th {\n",
       "        vertical-align: top;\n",
       "    }\n",
       "\n",
       "    .dataframe thead th {\n",
       "        text-align: right;\n",
       "    }\n",
       "</style>\n",
       "<table border=\"1\" class=\"dataframe\">\n",
       "  <thead>\n",
       "    <tr style=\"text-align: right;\">\n",
       "      <th></th>\n",
       "      <th>id</th>\n",
       "      <th>species</th>\n",
       "      <th>sepal length (cm)</th>\n",
       "      <th>petal length (cm)</th>\n",
       "      <th>sepal width (cm)</th>\n",
       "      <th>petal width (cm)</th>\n",
       "    </tr>\n",
       "  </thead>\n",
       "  <tbody>\n",
       "    <tr>\n",
       "      <th>2</th>\n",
       "      <td>2</td>\n",
       "      <td>virginica</td>\n",
       "      <td>6.2</td>\n",
       "      <td>4.8</td>\n",
       "      <td>2.8</td>\n",
       "      <td>1.8</td>\n",
       "    </tr>\n",
       "    <tr>\n",
       "      <th>3</th>\n",
       "      <td>3</td>\n",
       "      <td>virginica</td>\n",
       "      <td>7.2</td>\n",
       "      <td>6.1</td>\n",
       "      <td>3.6</td>\n",
       "      <td>2.5</td>\n",
       "    </tr>\n",
       "    <tr>\n",
       "      <th>5</th>\n",
       "      <td>5</td>\n",
       "      <td>virginica</td>\n",
       "      <td>6.5</td>\n",
       "      <td>5.8</td>\n",
       "      <td>3.0</td>\n",
       "      <td>2.2</td>\n",
       "    </tr>\n",
       "    <tr>\n",
       "      <th>11</th>\n",
       "      <td>11</td>\n",
       "      <td>virginica</td>\n",
       "      <td>6.3</td>\n",
       "      <td>4.9</td>\n",
       "      <td>2.7</td>\n",
       "      <td>1.8</td>\n",
       "    </tr>\n",
       "    <tr>\n",
       "      <th>15</th>\n",
       "      <td>15</td>\n",
       "      <td>virginica</td>\n",
       "      <td>7.6</td>\n",
       "      <td>6.6</td>\n",
       "      <td>3.0</td>\n",
       "      <td>2.1</td>\n",
       "    </tr>\n",
       "    <tr>\n",
       "      <th>16</th>\n",
       "      <td>16</td>\n",
       "      <td>virginica</td>\n",
       "      <td>7.7</td>\n",
       "      <td>6.9</td>\n",
       "      <td>2.6</td>\n",
       "      <td>2.3</td>\n",
       "    </tr>\n",
       "    <tr>\n",
       "      <th>17</th>\n",
       "      <td>17</td>\n",
       "      <td>virginica</td>\n",
       "      <td>7.1</td>\n",
       "      <td>5.9</td>\n",
       "      <td>3.0</td>\n",
       "      <td>2.1</td>\n",
       "    </tr>\n",
       "    <tr>\n",
       "      <th>23</th>\n",
       "      <td>23</td>\n",
       "      <td>virginica</td>\n",
       "      <td>6.0</td>\n",
       "      <td>5.0</td>\n",
       "      <td>2.2</td>\n",
       "      <td>1.5</td>\n",
       "    </tr>\n",
       "    <tr>\n",
       "      <th>24</th>\n",
       "      <td>24</td>\n",
       "      <td>virginica</td>\n",
       "      <td>6.8</td>\n",
       "      <td>5.5</td>\n",
       "      <td>3.0</td>\n",
       "      <td>2.1</td>\n",
       "    </tr>\n",
       "    <tr>\n",
       "      <th>25</th>\n",
       "      <td>25</td>\n",
       "      <td>virginica</td>\n",
       "      <td>7.3</td>\n",
       "      <td>6.3</td>\n",
       "      <td>2.9</td>\n",
       "      <td>1.8</td>\n",
       "    </tr>\n",
       "    <tr>\n",
       "      <th>26</th>\n",
       "      <td>26</td>\n",
       "      <td>virginica</td>\n",
       "      <td>6.9</td>\n",
       "      <td>5.7</td>\n",
       "      <td>3.2</td>\n",
       "      <td>2.3</td>\n",
       "    </tr>\n",
       "    <tr>\n",
       "      <th>27</th>\n",
       "      <td>27</td>\n",
       "      <td>virginica</td>\n",
       "      <td>4.9</td>\n",
       "      <td>4.5</td>\n",
       "      <td>2.5</td>\n",
       "      <td>1.7</td>\n",
       "    </tr>\n",
       "    <tr>\n",
       "      <th>28</th>\n",
       "      <td>28</td>\n",
       "      <td>virginica</td>\n",
       "      <td>6.4</td>\n",
       "      <td>5.6</td>\n",
       "      <td>2.8</td>\n",
       "      <td>2.1</td>\n",
       "    </tr>\n",
       "    <tr>\n",
       "      <th>29</th>\n",
       "      <td>29</td>\n",
       "      <td>virginica</td>\n",
       "      <td>7.7</td>\n",
       "      <td>6.7</td>\n",
       "      <td>3.8</td>\n",
       "      <td>2.2</td>\n",
       "    </tr>\n",
       "    <tr>\n",
       "      <th>32</th>\n",
       "      <td>32</td>\n",
       "      <td>virginica</td>\n",
       "      <td>6.3</td>\n",
       "      <td>6.0</td>\n",
       "      <td>3.3</td>\n",
       "      <td>2.5</td>\n",
       "    </tr>\n",
       "    <tr>\n",
       "      <th>33</th>\n",
       "      <td>33</td>\n",
       "      <td>virginica</td>\n",
       "      <td>6.7</td>\n",
       "      <td>5.8</td>\n",
       "      <td>2.5</td>\n",
       "      <td>1.8</td>\n",
       "    </tr>\n",
       "    <tr>\n",
       "      <th>34</th>\n",
       "      <td>34</td>\n",
       "      <td>virginica</td>\n",
       "      <td>6.5</td>\n",
       "      <td>5.1</td>\n",
       "      <td>3.2</td>\n",
       "      <td>2.0</td>\n",
       "    </tr>\n",
       "    <tr>\n",
       "      <th>35</th>\n",
       "      <td>35</td>\n",
       "      <td>virginica</td>\n",
       "      <td>7.7</td>\n",
       "      <td>6.7</td>\n",
       "      <td>2.8</td>\n",
       "      <td>2.0</td>\n",
       "    </tr>\n",
       "    <tr>\n",
       "      <th>36</th>\n",
       "      <td>36</td>\n",
       "      <td>virginica</td>\n",
       "      <td>7.2</td>\n",
       "      <td>6.0</td>\n",
       "      <td>3.2</td>\n",
       "      <td>1.8</td>\n",
       "    </tr>\n",
       "    <tr>\n",
       "      <th>41</th>\n",
       "      <td>41</td>\n",
       "      <td>virginica</td>\n",
       "      <td>6.4</td>\n",
       "      <td>5.3</td>\n",
       "      <td>2.7</td>\n",
       "      <td>1.9</td>\n",
       "    </tr>\n",
       "    <tr>\n",
       "      <th>44</th>\n",
       "      <td>44</td>\n",
       "      <td>virginica</td>\n",
       "      <td>6.3</td>\n",
       "      <td>5.6</td>\n",
       "      <td>2.9</td>\n",
       "      <td>1.8</td>\n",
       "    </tr>\n",
       "    <tr>\n",
       "      <th>56</th>\n",
       "      <td>56</td>\n",
       "      <td>virginica</td>\n",
       "      <td>6.7</td>\n",
       "      <td>5.7</td>\n",
       "      <td>3.3</td>\n",
       "      <td>2.1</td>\n",
       "    </tr>\n",
       "    <tr>\n",
       "      <th>58</th>\n",
       "      <td>58</td>\n",
       "      <td>virginica</td>\n",
       "      <td>6.5</td>\n",
       "      <td>5.5</td>\n",
       "      <td>3.0</td>\n",
       "      <td>1.8</td>\n",
       "    </tr>\n",
       "    <tr>\n",
       "      <th>59</th>\n",
       "      <td>59</td>\n",
       "      <td>virginica</td>\n",
       "      <td>6.4</td>\n",
       "      <td>5.3</td>\n",
       "      <td>3.2</td>\n",
       "      <td>2.3</td>\n",
       "    </tr>\n",
       "    <tr>\n",
       "      <th>60</th>\n",
       "      <td>60</td>\n",
       "      <td>virginica</td>\n",
       "      <td>5.6</td>\n",
       "      <td>4.9</td>\n",
       "      <td>2.8</td>\n",
       "      <td>2.0</td>\n",
       "    </tr>\n",
       "    <tr>\n",
       "      <th>61</th>\n",
       "      <td>61</td>\n",
       "      <td>virginica</td>\n",
       "      <td>5.8</td>\n",
       "      <td>5.1</td>\n",
       "      <td>2.8</td>\n",
       "      <td>2.4</td>\n",
       "    </tr>\n",
       "    <tr>\n",
       "      <th>62</th>\n",
       "      <td>62</td>\n",
       "      <td>virginica</td>\n",
       "      <td>7.2</td>\n",
       "      <td>5.8</td>\n",
       "      <td>3.0</td>\n",
       "      <td>1.6</td>\n",
       "    </tr>\n",
       "    <tr>\n",
       "      <th>63</th>\n",
       "      <td>63</td>\n",
       "      <td>virginica</td>\n",
       "      <td>5.8</td>\n",
       "      <td>5.1</td>\n",
       "      <td>2.7</td>\n",
       "      <td>1.9</td>\n",
       "    </tr>\n",
       "    <tr>\n",
       "      <th>65</th>\n",
       "      <td>65</td>\n",
       "      <td>virginica</td>\n",
       "      <td>6.1</td>\n",
       "      <td>4.9</td>\n",
       "      <td>3.0</td>\n",
       "      <td>1.8</td>\n",
       "    </tr>\n",
       "    <tr>\n",
       "      <th>69</th>\n",
       "      <td>69</td>\n",
       "      <td>virginica</td>\n",
       "      <td>5.7</td>\n",
       "      <td>5.0</td>\n",
       "      <td>2.5</td>\n",
       "      <td>2.0</td>\n",
       "    </tr>\n",
       "  </tbody>\n",
       "</table>\n",
       "</div>"
      ],
      "text/plain": [
       "    id    species  sepal length (cm)  petal length (cm)  sepal width (cm)  \\\n",
       "2    2  virginica                6.2                4.8               2.8   \n",
       "3    3  virginica                7.2                6.1               3.6   \n",
       "5    5  virginica                6.5                5.8               3.0   \n",
       "11  11  virginica                6.3                4.9               2.7   \n",
       "15  15  virginica                7.6                6.6               3.0   \n",
       "16  16  virginica                7.7                6.9               2.6   \n",
       "17  17  virginica                7.1                5.9               3.0   \n",
       "23  23  virginica                6.0                5.0               2.2   \n",
       "24  24  virginica                6.8                5.5               3.0   \n",
       "25  25  virginica                7.3                6.3               2.9   \n",
       "26  26  virginica                6.9                5.7               3.2   \n",
       "27  27  virginica                4.9                4.5               2.5   \n",
       "28  28  virginica                6.4                5.6               2.8   \n",
       "29  29  virginica                7.7                6.7               3.8   \n",
       "32  32  virginica                6.3                6.0               3.3   \n",
       "33  33  virginica                6.7                5.8               2.5   \n",
       "34  34  virginica                6.5                5.1               3.2   \n",
       "35  35  virginica                7.7                6.7               2.8   \n",
       "36  36  virginica                7.2                6.0               3.2   \n",
       "41  41  virginica                6.4                5.3               2.7   \n",
       "44  44  virginica                6.3                5.6               2.9   \n",
       "56  56  virginica                6.7                5.7               3.3   \n",
       "58  58  virginica                6.5                5.5               3.0   \n",
       "59  59  virginica                6.4                5.3               3.2   \n",
       "60  60  virginica                5.6                4.9               2.8   \n",
       "61  61  virginica                5.8                5.1               2.8   \n",
       "62  62  virginica                7.2                5.8               3.0   \n",
       "63  63  virginica                5.8                5.1               2.7   \n",
       "65  65  virginica                6.1                4.9               3.0   \n",
       "69  69  virginica                5.7                5.0               2.5   \n",
       "\n",
       "    petal width (cm)  \n",
       "2                1.8  \n",
       "3                2.5  \n",
       "5                2.2  \n",
       "11               1.8  \n",
       "15               2.1  \n",
       "16               2.3  \n",
       "17               2.1  \n",
       "23               1.5  \n",
       "24               2.1  \n",
       "25               1.8  \n",
       "26               2.3  \n",
       "27               1.7  \n",
       "28               2.1  \n",
       "29               2.2  \n",
       "32               2.5  \n",
       "33               1.8  \n",
       "34               2.0  \n",
       "35               2.0  \n",
       "36               1.8  \n",
       "41               1.9  \n",
       "44               1.8  \n",
       "56               2.1  \n",
       "58               1.8  \n",
       "59               2.3  \n",
       "60               2.0  \n",
       "61               2.4  \n",
       "62               1.6  \n",
       "63               1.9  \n",
       "65               1.8  \n",
       "69               2.0  "
      ]
     },
     "execution_count": 6,
     "metadata": {},
     "output_type": "execute_result"
    }
   ],
   "source": [
    "train3"
   ]
  },
  {
   "cell_type": "code",
   "execution_count": 7,
   "metadata": {
    "colab": {
     "base_uri": "https://localhost:8080/"
    },
    "executionInfo": {
     "elapsed": 20,
     "status": "ok",
     "timestamp": 1635729760028,
     "user": {
      "displayName": "정재용",
      "photoUrl": "https://lh3.googleusercontent.com/a/default-user=s64",
      "userId": "01298664065762991749"
     },
     "user_tz": -540
    },
    "id": "0p6jCmB3x1Nq",
    "outputId": "ad8bd49b-7e27-416b-c8c2-efd36a6284f6"
   },
   "outputs": [
    {
     "name": "stderr",
     "output_type": "stream",
     "text": [
      "c:\\users\\yc yoon\\desktop\\githup\\dacon\\venv\\lib\\site-packages\\pandas\\core\\frame.py:4906: SettingWithCopyWarning: \n",
      "A value is trying to be set on a copy of a slice from a DataFrame\n",
      "\n",
      "See the caveats in the documentation: https://pandas.pydata.org/pandas-docs/stable/user_guide/indexing.html#returning-a-view-versus-a-copy\n",
      "  return super().drop(\n"
     ]
    }
   ],
   "source": [
    "train1.drop(['id','species'], axis=1,  inplace=True)\n",
    "train2.drop(['id','species'], axis=1,  inplace=True)\n",
    "train3.drop(['id','species'], axis=1,  inplace=True)"
   ]
  },
  {
   "cell_type": "code",
   "execution_count": 8,
   "metadata": {},
   "outputs": [
    {
     "name": "stdout",
     "output_type": "stream",
     "text": [
      "    sepal length (cm)  petal length (cm)  sepal width (cm)  petal width (cm)\n",
      "2                 6.2                4.8               2.8               1.8\n",
      "3                 7.2                6.1               3.6               2.5\n",
      "5                 6.5                5.8               3.0               2.2\n",
      "11                6.3                4.9               2.7               1.8\n",
      "15                7.6                6.6               3.0               2.1\n",
      "16                7.7                6.9               2.6               2.3\n",
      "17                7.1                5.9               3.0               2.1\n",
      "23                6.0                5.0               2.2               1.5\n",
      "24                6.8                5.5               3.0               2.1\n",
      "25                7.3                6.3               2.9               1.8\n",
      "26                6.9                5.7               3.2               2.3\n",
      "27                4.9                4.5               2.5               1.7\n",
      "28                6.4                5.6               2.8               2.1\n",
      "29                7.7                6.7               3.8               2.2\n",
      "32                6.3                6.0               3.3               2.5\n",
      "33                6.7                5.8               2.5               1.8\n",
      "34                6.5                5.1               3.2               2.0\n",
      "35                7.7                6.7               2.8               2.0\n",
      "36                7.2                6.0               3.2               1.8\n",
      "41                6.4                5.3               2.7               1.9\n",
      "44                6.3                5.6               2.9               1.8\n",
      "56                6.7                5.7               3.3               2.1\n",
      "58                6.5                5.5               3.0               1.8\n",
      "59                6.4                5.3               3.2               2.3\n",
      "60                5.6                4.9               2.8               2.0\n",
      "61                5.8                5.1               2.8               2.4\n",
      "62                7.2                5.8               3.0               1.6\n",
      "63                5.8                5.1               2.7               1.9\n",
      "65                6.1                4.9               3.0               1.8\n",
      "69                5.7                5.0               2.5               2.0\n"
     ]
    }
   ],
   "source": [
    "print(train3)"
   ]
  },
  {
   "cell_type": "markdown",
   "metadata": {
    "id": "5oMfsy1K6YX8"
   },
   "source": [
    "# 꽃의 종류별로 상관관계와 데이터분포 확인\n",
    "\n",
    "1) 상관관계가 높은 feature들은 대부분 선형적인 특성이 나타나지만, 상관관계가 낮으면 그래프로 특징을 찾기가 힘들다.\n",
    "\n",
    "2) 데이터가 적고, feature가 적기 때문에 모델은 최대한 단순해야 한다.\n",
    "\n",
    "-> 그래프에서 선형이 보이면 LinearRegression 모델을 사용하고, 그 외에는 비선형관계를 표현 가능한 RandomForestRegressor 모델을 사용한다."
   ]
  },
  {
   "cell_type": "code",
   "execution_count": 9,
   "metadata": {
    "colab": {
     "base_uri": "https://localhost:8080/",
     "height": 175
    },
    "executionInfo": {
     "elapsed": 16,
     "status": "ok",
     "timestamp": 1635729760028,
     "user": {
      "displayName": "정재용",
      "photoUrl": "https://lh3.googleusercontent.com/a/default-user=s64",
      "userId": "01298664065762991749"
     },
     "user_tz": -540
    },
    "id": "o6X1ol6Lyxa5",
    "outputId": "793db353-77d8-4286-805a-64f0001e4a5b"
   },
   "outputs": [
    {
     "data": {
      "text/html": [
       "<div>\n",
       "<style scoped>\n",
       "    .dataframe tbody tr th:only-of-type {\n",
       "        vertical-align: middle;\n",
       "    }\n",
       "\n",
       "    .dataframe tbody tr th {\n",
       "        vertical-align: top;\n",
       "    }\n",
       "\n",
       "    .dataframe thead th {\n",
       "        text-align: right;\n",
       "    }\n",
       "</style>\n",
       "<table border=\"1\" class=\"dataframe\">\n",
       "  <thead>\n",
       "    <tr style=\"text-align: right;\">\n",
       "      <th></th>\n",
       "      <th>sepal length (cm)</th>\n",
       "      <th>petal length (cm)</th>\n",
       "      <th>sepal width (cm)</th>\n",
       "      <th>petal width (cm)</th>\n",
       "    </tr>\n",
       "  </thead>\n",
       "  <tbody>\n",
       "    <tr>\n",
       "      <th>sepal length (cm)</th>\n",
       "      <td>1.000000</td>\n",
       "      <td>0.214368</td>\n",
       "      <td>0.861071</td>\n",
       "      <td>0.332405</td>\n",
       "    </tr>\n",
       "    <tr>\n",
       "      <th>petal length (cm)</th>\n",
       "      <td>0.214368</td>\n",
       "      <td>1.000000</td>\n",
       "      <td>0.219777</td>\n",
       "      <td>0.512989</td>\n",
       "    </tr>\n",
       "    <tr>\n",
       "      <th>sepal width (cm)</th>\n",
       "      <td>0.861071</td>\n",
       "      <td>0.219777</td>\n",
       "      <td>1.000000</td>\n",
       "      <td>0.576726</td>\n",
       "    </tr>\n",
       "    <tr>\n",
       "      <th>petal width (cm)</th>\n",
       "      <td>0.332405</td>\n",
       "      <td>0.512989</td>\n",
       "      <td>0.576726</td>\n",
       "      <td>1.000000</td>\n",
       "    </tr>\n",
       "  </tbody>\n",
       "</table>\n",
       "</div>"
      ],
      "text/plain": [
       "                   sepal length (cm)  petal length (cm)  sepal width (cm)  \\\n",
       "sepal length (cm)           1.000000           0.214368          0.861071   \n",
       "petal length (cm)           0.214368           1.000000          0.219777   \n",
       "sepal width (cm)            0.861071           0.219777          1.000000   \n",
       "petal width (cm)            0.332405           0.512989          0.576726   \n",
       "\n",
       "                   petal width (cm)  \n",
       "sepal length (cm)          0.332405  \n",
       "petal length (cm)          0.512989  \n",
       "sepal width (cm)           0.576726  \n",
       "petal width (cm)           1.000000  "
      ]
     },
     "execution_count": 9,
     "metadata": {},
     "output_type": "execute_result"
    }
   ],
   "source": [
    "train1.corr()"
   ]
  },
  {
   "cell_type": "code",
   "execution_count": 10,
   "metadata": {
    "colab": {
     "base_uri": "https://localhost:8080/",
     "height": 283
    },
    "executionInfo": {
     "elapsed": 534,
     "status": "ok",
     "timestamp": 1635729760547,
     "user": {
      "displayName": "정재용",
      "photoUrl": "https://lh3.googleusercontent.com/a/default-user=s64",
      "userId": "01298664065762991749"
     },
     "user_tz": -540
    },
    "id": "gLywP1PlwO4r",
    "outputId": "55925d88-94ac-4e37-f2c4-198eb9d9aa43"
   },
   "outputs": [
    {
     "data": {
      "text/plain": [
       "<matplotlib.collections.PathCollection at 0x1c8804ee520>"
      ]
     },
     "execution_count": 10,
     "metadata": {},
     "output_type": "execute_result"
    },
    {
     "data": {
      "image/png": "[encoded data removed]",
      "text/plain": [
       "<Figure size 432x288 with 1 Axes>"
      ]
     },
     "metadata": {
      "needs_background": "light"
     },
     "output_type": "display_data"
    }
   ],
   "source": [
    "import matplotlib.pyplot as plt\n",
    "plt.scatter(train1['sepal length (cm)'],train1['sepal width (cm)'] ) # 선형성 확인"
   ]
  },
  {
   "cell_type": "code",
   "execution_count": 11,
   "metadata": {
    "colab": {
     "base_uri": "https://localhost:8080/",
     "height": 283
    },
    "executionInfo": {
     "elapsed": 12,
     "status": "ok",
     "timestamp": 1635729760548,
     "user": {
      "displayName": "정재용",
      "photoUrl": "https://lh3.googleusercontent.com/a/default-user=s64",
      "userId": "01298664065762991749"
     },
     "user_tz": -540
    },
    "id": "WIBzfAwmy8U3",
    "outputId": "56720526-11f7-4300-e278-f538cad69f7f"
   },
   "outputs": [
    {
     "data": {
      "text/plain": [
       "<matplotlib.collections.PathCollection at 0x1c821b37880>"
      ]
     },
     "execution_count": 11,
     "metadata": {},
     "output_type": "execute_result"
    },
    {
     "data": {
      "image/png": "[encoded data removed]",
      "text/plain": [
       "<Figure size 432x288 with 1 Axes>"
      ]
     },
     "metadata": {
      "needs_background": "light"
     },
     "output_type": "display_data"
    }
   ],
   "source": [
    "plt.scatter(train1['petal length (cm)'],train1['petal width (cm)'] )"
   ]
  },
  {
   "cell_type": "code",
   "execution_count": 12,
   "metadata": {
    "colab": {
     "base_uri": "https://localhost:8080/",
     "height": 175
    },
    "executionInfo": {
     "elapsed": 589,
     "status": "ok",
     "timestamp": 1635729761130,
     "user": {
      "displayName": "정재용",
      "photoUrl": "https://lh3.googleusercontent.com/a/default-user=s64",
      "userId": "01298664065762991749"
     },
     "user_tz": -540
    },
    "id": "2EAaMbhSzSPI",
    "outputId": "96ffff42-39a4-40ce-ef3e-66884949c2c8"
   },
   "outputs": [
    {
     "data": {
      "text/html": [
       "<div>\n",
       "<style scoped>\n",
       "    .dataframe tbody tr th:only-of-type {\n",
       "        vertical-align: middle;\n",
       "    }\n",
       "\n",
       "    .dataframe tbody tr th {\n",
       "        vertical-align: top;\n",
       "    }\n",
       "\n",
       "    .dataframe thead th {\n",
       "        text-align: right;\n",
       "    }\n",
       "</style>\n",
       "<table border=\"1\" class=\"dataframe\">\n",
       "  <thead>\n",
       "    <tr style=\"text-align: right;\">\n",
       "      <th></th>\n",
       "      <th>sepal length (cm)</th>\n",
       "      <th>petal length (cm)</th>\n",
       "      <th>sepal width (cm)</th>\n",
       "      <th>petal width (cm)</th>\n",
       "    </tr>\n",
       "  </thead>\n",
       "  <tbody>\n",
       "    <tr>\n",
       "      <th>sepal length (cm)</th>\n",
       "      <td>1.000000</td>\n",
       "      <td>0.769562</td>\n",
       "      <td>0.569564</td>\n",
       "      <td>0.495648</td>\n",
       "    </tr>\n",
       "    <tr>\n",
       "      <th>petal length (cm)</th>\n",
       "      <td>0.769562</td>\n",
       "      <td>1.000000</td>\n",
       "      <td>0.564314</td>\n",
       "      <td>0.751556</td>\n",
       "    </tr>\n",
       "    <tr>\n",
       "      <th>sepal width (cm)</th>\n",
       "      <td>0.569564</td>\n",
       "      <td>0.564314</td>\n",
       "      <td>1.000000</td>\n",
       "      <td>0.639143</td>\n",
       "    </tr>\n",
       "    <tr>\n",
       "      <th>petal width (cm)</th>\n",
       "      <td>0.495648</td>\n",
       "      <td>0.751556</td>\n",
       "      <td>0.639143</td>\n",
       "      <td>1.000000</td>\n",
       "    </tr>\n",
       "  </tbody>\n",
       "</table>\n",
       "</div>"
      ],
      "text/plain": [
       "                   sepal length (cm)  petal length (cm)  sepal width (cm)  \\\n",
       "sepal length (cm)           1.000000           0.769562          0.569564   \n",
       "petal length (cm)           0.769562           1.000000          0.564314   \n",
       "sepal width (cm)            0.569564           0.564314          1.000000   \n",
       "petal width (cm)            0.495648           0.751556          0.639143   \n",
       "\n",
       "                   petal width (cm)  \n",
       "sepal length (cm)          0.495648  \n",
       "petal length (cm)          0.751556  \n",
       "sepal width (cm)           0.639143  \n",
       "petal width (cm)           1.000000  "
      ]
     },
     "execution_count": 12,
     "metadata": {},
     "output_type": "execute_result"
    }
   ],
   "source": [
    "train2.corr()"
   ]
  },
  {
   "cell_type": "code",
   "execution_count": 13,
   "metadata": {
    "colab": {
     "base_uri": "https://localhost:8080/",
     "height": 283
    },
    "executionInfo": {
     "elapsed": 17,
     "status": "ok",
     "timestamp": 1635729761131,
     "user": {
      "displayName": "정재용",
      "photoUrl": "https://lh3.googleusercontent.com/a/default-user=s64",
      "userId": "01298664065762991749"
     },
     "user_tz": -540
    },
    "id": "-ZoPaBE2zSNI",
    "outputId": "94f5cd36-0d40-4bb2-f6d2-5dc1409e4941"
   },
   "outputs": [
    {
     "data": {
      "text/plain": [
       "<matplotlib.collections.PathCollection at 0x1c8806771c0>"
      ]
     },
     "execution_count": 13,
     "metadata": {},
     "output_type": "execute_result"
    },
    {
     "data": {
      "image/png": "[encoded data removed]",
      "text/plain": [
       "<Figure size 432x288 with 1 Axes>"
      ]
     },
     "metadata": {
      "needs_background": "light"
     },
     "output_type": "display_data"
    }
   ],
   "source": [
    "plt.scatter(train2['sepal length (cm)'],train2['sepal width (cm)'] )"
   ]
  },
  {
   "cell_type": "code",
   "execution_count": 14,
   "metadata": {
    "colab": {
     "base_uri": "https://localhost:8080/",
     "height": 283
    },
    "executionInfo": {
     "elapsed": 14,
     "status": "ok",
     "timestamp": 1635729761132,
     "user": {
      "displayName": "정재용",
      "photoUrl": "https://lh3.googleusercontent.com/a/default-user=s64",
      "userId": "01298664065762991749"
     },
     "user_tz": -540
    },
    "id": "oPomYN2azSKv",
    "outputId": "7c708738-92da-4bc7-85bc-ac305420de92"
   },
   "outputs": [
    {
     "data": {
      "text/plain": [
       "<matplotlib.collections.PathCollection at 0x1c8806d2940>"
      ]
     },
     "execution_count": 14,
     "metadata": {},
     "output_type": "execute_result"
    },
    {
     "data": {
      "image/png": "[encoded data removed]",
      "text/plain": [
       "<Figure size 432x288 with 1 Axes>"
      ]
     },
     "metadata": {
      "needs_background": "light"
     },
     "output_type": "display_data"
    }
   ],
   "source": [
    "plt.scatter(train2['petal length (cm)'],train2['petal width (cm)'] )"
   ]
  },
  {
   "cell_type": "code",
   "execution_count": 15,
   "metadata": {
    "colab": {
     "base_uri": "https://localhost:8080/",
     "height": 175
    },
    "executionInfo": {
     "elapsed": 13,
     "status": "ok",
     "timestamp": 1635729761133,
     "user": {
      "displayName": "정재용",
      "photoUrl": "https://lh3.googleusercontent.com/a/default-user=s64",
      "userId": "01298664065762991749"
     },
     "user_tz": -540
    },
    "id": "K6Siy_4hzSIf",
    "outputId": "2db3b815-90f9-4ef3-d4cf-fddcb74fefc6"
   },
   "outputs": [
    {
     "data": {
      "text/html": [
       "<div>\n",
       "<style scoped>\n",
       "    .dataframe tbody tr th:only-of-type {\n",
       "        vertical-align: middle;\n",
       "    }\n",
       "\n",
       "    .dataframe tbody tr th {\n",
       "        vertical-align: top;\n",
       "    }\n",
       "\n",
       "    .dataframe thead th {\n",
       "        text-align: right;\n",
       "    }\n",
       "</style>\n",
       "<table border=\"1\" class=\"dataframe\">\n",
       "  <thead>\n",
       "    <tr style=\"text-align: right;\">\n",
       "      <th></th>\n",
       "      <th>sepal length (cm)</th>\n",
       "      <th>petal length (cm)</th>\n",
       "      <th>sepal width (cm)</th>\n",
       "      <th>petal width (cm)</th>\n",
       "    </tr>\n",
       "  </thead>\n",
       "  <tbody>\n",
       "    <tr>\n",
       "      <th>sepal length (cm)</th>\n",
       "      <td>1.000000</td>\n",
       "      <td>0.909107</td>\n",
       "      <td>0.473749</td>\n",
       "      <td>0.247149</td>\n",
       "    </tr>\n",
       "    <tr>\n",
       "      <th>petal length (cm)</th>\n",
       "      <td>0.909107</td>\n",
       "      <td>1.000000</td>\n",
       "      <td>0.418791</td>\n",
       "      <td>0.386929</td>\n",
       "    </tr>\n",
       "    <tr>\n",
       "      <th>sepal width (cm)</th>\n",
       "      <td>0.473749</td>\n",
       "      <td>0.418791</td>\n",
       "      <td>1.000000</td>\n",
       "      <td>0.549109</td>\n",
       "    </tr>\n",
       "    <tr>\n",
       "      <th>petal width (cm)</th>\n",
       "      <td>0.247149</td>\n",
       "      <td>0.386929</td>\n",
       "      <td>0.549109</td>\n",
       "      <td>1.000000</td>\n",
       "    </tr>\n",
       "  </tbody>\n",
       "</table>\n",
       "</div>"
      ],
      "text/plain": [
       "                   sepal length (cm)  petal length (cm)  sepal width (cm)  \\\n",
       "sepal length (cm)           1.000000           0.909107          0.473749   \n",
       "petal length (cm)           0.909107           1.000000          0.418791   \n",
       "sepal width (cm)            0.473749           0.418791          1.000000   \n",
       "petal width (cm)            0.247149           0.386929          0.549109   \n",
       "\n",
       "                   petal width (cm)  \n",
       "sepal length (cm)          0.247149  \n",
       "petal length (cm)          0.386929  \n",
       "sepal width (cm)           0.549109  \n",
       "petal width (cm)           1.000000  "
      ]
     },
     "execution_count": 15,
     "metadata": {},
     "output_type": "execute_result"
    }
   ],
   "source": [
    "train3.corr()"
   ]
  },
  {
   "cell_type": "code",
   "execution_count": 16,
   "metadata": {
    "colab": {
     "base_uri": "https://localhost:8080/",
     "height": 283
    },
    "executionInfo": {
     "elapsed": 544,
     "status": "ok",
     "timestamp": 1635729761665,
     "user": {
      "displayName": "정재용",
      "photoUrl": "https://lh3.googleusercontent.com/a/default-user=s64",
      "userId": "01298664065762991749"
     },
     "user_tz": -540
    },
    "id": "Ge95Rj8RzSGI",
    "outputId": "943e1473-9f83-401c-dbec-100bb45e305f"
   },
   "outputs": [
    {
     "data": {
      "text/plain": [
       "<matplotlib.collections.PathCollection at 0x1c88073be80>"
      ]
     },
     "execution_count": 16,
     "metadata": {},
     "output_type": "execute_result"
    },
    {
     "data": {
      "image/png": "[encoded data removed]",
      "text/plain": [
       "<Figure size 432x288 with 1 Axes>"
      ]
     },
     "metadata": {
      "needs_background": "light"
     },
     "output_type": "display_data"
    }
   ],
   "source": [
    "plt.scatter(train3['sepal length (cm)'],train3['sepal width (cm)'] )"
   ]
  },
  {
   "cell_type": "code",
   "execution_count": 17,
   "metadata": {
    "colab": {
     "base_uri": "https://localhost:8080/",
     "height": 283
    },
    "executionInfo": {
     "elapsed": 8,
     "status": "ok",
     "timestamp": 1635729761665,
     "user": {
      "displayName": "정재용",
      "photoUrl": "https://lh3.googleusercontent.com/a/default-user=s64",
      "userId": "01298664065762991749"
     },
     "user_tz": -540
    },
    "id": "xnAlxFjRzyfA",
    "outputId": "06abd5a6-fbcd-4c78-c8e8-c98e91f91c42"
   },
   "outputs": [
    {
     "data": {
      "text/plain": [
       "<matplotlib.collections.PathCollection at 0x1c8807ab6a0>"
      ]
     },
     "execution_count": 17,
     "metadata": {},
     "output_type": "execute_result"
    },
    {
     "data": {
      "image/png": "[encoded data removed]",
      "text/plain": [
       "<Figure size 432x288 with 1 Axes>"
      ]
     },
     "metadata": {
      "needs_background": "light"
     },
     "output_type": "display_data"
    }
   ],
   "source": [
    "plt.scatter(train3['petal length (cm)'],train3['petal width (cm)'] )"
   ]
  },
  {
   "cell_type": "markdown",
   "metadata": {
    "id": "TuVvK-qT6jh7"
   },
   "source": [
    "# 모델은 최대한 단순하게 구성하고 결과 확인\n",
    "\n",
    "1) 선형관계 존재 -> LinearRegression()\n",
    "\n",
    "2) RandomForestRegressor -> max_depth = 1\n",
    "\n",
    "\n",
    "\n",
    "1), 2)로 모델을 만들고 실제로 적용해 보았을 때, 예측의 수행이 어느 정도 정확한지 loocv를 통해 관찰한다.\n",
    "\n",
    "(빨간색 : 이상치,   파란색 : 실제 데이터,   초록색 : 예측)"
   ]
  },
  {
   "cell_type": "code",
   "execution_count": 18,
   "metadata": {
    "executionInfo": {
     "elapsed": 2111,
     "status": "ok",
     "timestamp": 1635729763772,
     "user": {
      "displayName": "정재용",
      "photoUrl": "https://lh3.googleusercontent.com/a/default-user=s64",
      "userId": "01298664065762991749"
     },
     "user_tz": -540
    },
    "id": "iXxakW8U1dnV"
   },
   "outputs": [
    {
     "name": "stderr",
     "output_type": "stream",
     "text": [
      "c:\\users\\yc yoon\\desktop\\githup\\dacon\\venv\\lib\\site-packages\\sklearn\\ensemble\\_forest.py:394: FutureWarning: Criterion 'mae' was deprecated in v1.0 and will be removed in version 1.2. Use `criterion='absolute_error'` which is equivalent.\n",
      "  warn(\n",
      "c:\\users\\yc yoon\\desktop\\githup\\dacon\\venv\\lib\\site-packages\\sklearn\\ensemble\\_forest.py:394: FutureWarning: Criterion 'mae' was deprecated in v1.0 and will be removed in version 1.2. Use `criterion='absolute_error'` which is equivalent.\n",
      "  warn(\n",
      "c:\\users\\yc yoon\\desktop\\githup\\dacon\\venv\\lib\\site-packages\\sklearn\\ensemble\\_forest.py:394: FutureWarning: Criterion 'mae' was deprecated in v1.0 and will be removed in version 1.2. Use `criterion='absolute_error'` which is equivalent.\n",
      "  warn(\n",
      "c:\\users\\yc yoon\\desktop\\githup\\dacon\\venv\\lib\\site-packages\\sklearn\\ensemble\\_forest.py:394: FutureWarning: Criterion 'mae' was deprecated in v1.0 and will be removed in version 1.2. Use `criterion='absolute_error'` which is equivalent.\n",
      "  warn(\n",
      "c:\\users\\yc yoon\\desktop\\githup\\dacon\\venv\\lib\\site-packages\\sklearn\\ensemble\\_forest.py:394: FutureWarning: Criterion 'mae' was deprecated in v1.0 and will be removed in version 1.2. Use `criterion='absolute_error'` which is equivalent.\n",
      "  warn(\n",
      "c:\\users\\yc yoon\\desktop\\githup\\dacon\\venv\\lib\\site-packages\\sklearn\\ensemble\\_forest.py:394: FutureWarning: Criterion 'mae' was deprecated in v1.0 and will be removed in version 1.2. Use `criterion='absolute_error'` which is equivalent.\n",
      "  warn(\n",
      "c:\\users\\yc yoon\\desktop\\githup\\dacon\\venv\\lib\\site-packages\\sklearn\\ensemble\\_forest.py:394: FutureWarning: Criterion 'mae' was deprecated in v1.0 and will be removed in version 1.2. Use `criterion='absolute_error'` which is equivalent.\n",
      "  warn(\n",
      "c:\\users\\yc yoon\\desktop\\githup\\dacon\\venv\\lib\\site-packages\\sklearn\\ensemble\\_forest.py:394: FutureWarning: Criterion 'mae' was deprecated in v1.0 and will be removed in version 1.2. Use `criterion='absolute_error'` which is equivalent.\n",
      "  warn(\n",
      "c:\\users\\yc yoon\\desktop\\githup\\dacon\\venv\\lib\\site-packages\\sklearn\\ensemble\\_forest.py:394: FutureWarning: Criterion 'mae' was deprecated in v1.0 and will be removed in version 1.2. Use `criterion='absolute_error'` which is equivalent.\n",
      "  warn(\n",
      "c:\\users\\yc yoon\\desktop\\githup\\dacon\\venv\\lib\\site-packages\\sklearn\\ensemble\\_forest.py:394: FutureWarning: Criterion 'mae' was deprecated in v1.0 and will be removed in version 1.2. Use `criterion='absolute_error'` which is equivalent.\n",
      "  warn(\n",
      "c:\\users\\yc yoon\\desktop\\githup\\dacon\\venv\\lib\\site-packages\\sklearn\\ensemble\\_forest.py:394: FutureWarning: Criterion 'mae' was deprecated in v1.0 and will be removed in version 1.2. Use `criterion='absolute_error'` which is equivalent.\n",
      "  warn(\n",
      "c:\\users\\yc yoon\\desktop\\githup\\dacon\\venv\\lib\\site-packages\\sklearn\\ensemble\\_forest.py:394: FutureWarning: Criterion 'mae' was deprecated in v1.0 and will be removed in version 1.2. Use `criterion='absolute_error'` which is equivalent.\n",
      "  warn(\n",
      "c:\\users\\yc yoon\\desktop\\githup\\dacon\\venv\\lib\\site-packages\\sklearn\\ensemble\\_forest.py:394: FutureWarning: Criterion 'mae' was deprecated in v1.0 and will be removed in version 1.2. Use `criterion='absolute_error'` which is equivalent.\n",
      "  warn(\n",
      "c:\\users\\yc yoon\\desktop\\githup\\dacon\\venv\\lib\\site-packages\\sklearn\\ensemble\\_forest.py:394: FutureWarning: Criterion 'mae' was deprecated in v1.0 and will be removed in version 1.2. Use `criterion='absolute_error'` which is equivalent.\n",
      "  warn(\n",
      "c:\\users\\yc yoon\\desktop\\githup\\dacon\\venv\\lib\\site-packages\\sklearn\\ensemble\\_forest.py:394: FutureWarning: Criterion 'mae' was deprecated in v1.0 and will be removed in version 1.2. Use `criterion='absolute_error'` which is equivalent.\n",
      "  warn(\n"
     ]
    }
   ],
   "source": [
    "train1 = np.array(train1)\n",
    "\n",
    "pre_list1 = []\n",
    "pre_list2 = []\n",
    "\n",
    "ans1 = []\n",
    "ans2 = []\n",
    "\n",
    "models_1_1 = []\n",
    "models_1_2 = []\n",
    "\n",
    "for i in range(len(train1)):\n",
    "    if i==0:\n",
    "      tmp_data = train1[i+1:]\n",
    "    else:\n",
    "      tmp_data = np.append(train1[i+1:], train1[:i-1], axis = 0)\n",
    "\n",
    "    model_1_1= LinearRegression()\n",
    "    model_1_1.fit(tmp_data[:,0].reshape(-1,1), tmp_data[:,2])\n",
    "    models_1_1.append(model_1_1)\n",
    "\n",
    "    model_1_2= RandomForestRegressor(max_depth = 1, criterion = 'mae', random_state=0)\n",
    "    model_1_2.fit(tmp_data[:,:2], tmp_data[:,3])\n",
    "    models_1_2.append(model_1_2)\n",
    "\n",
    "    ans1.append(model_1_1.predict(train1[i][0].reshape(-1,1)))\n",
    "    ans2.append(model_1_2.predict(train1[i][:2].reshape(-1,2)))\n",
    "\n",
    "    pre_list1.append(abs(train1[i][2] - model_1_1.predict(train1[i][0].reshape(-1,1))))\n",
    "    pre_list2.append(abs(train1[i][3] - model_1_2.predict(train1[i][:2].reshape(-1,2))))\n"
   ]
  },
  {
   "cell_type": "code",
   "execution_count": 23,
   "metadata": {},
   "outputs": [
    {
     "data": {
      "text/plain": [
       "array([[4.4, 1.4, 2.9, 0.2],\n",
       "       [4.9, 1.4, 3. , 0.2],\n",
       "       [4.3, 1.1, 3. , 0.1],\n",
       "       [4.6, 1.5, 3.1, 0.2],\n",
       "       [5.8, 1.2, 4. , 0.2],\n",
       "       [5.1, 1.4, 3.5, 0.2],\n",
       "       [5.4, 1.7, 3.9, 0.4],\n",
       "       [5. , 1.5, 3.4, 0.2],\n",
       "       [4.9, 1.5, 3.1, 0.1],\n",
       "       [4.7, 1.3, 3.2, 0.2],\n",
       "       [4.6, 1.4, 3.4, 0.3],\n",
       "       [5. , 1.4, 3.6, 0.2],\n",
       "       [5.4, 1.5, 3.7, 0.2],\n",
       "       [4.8, 1.4, 3. , 0.1],\n",
       "       [4.8, 1.6, 3.4, 0.2]])"
      ]
     },
     "execution_count": 23,
     "metadata": {},
     "output_type": "execute_result"
    }
   ],
   "source": [
    "train1"
   ]
  },
  {
   "cell_type": "code",
   "execution_count": 19,
   "metadata": {
    "colab": {
     "base_uri": "https://localhost:8080/"
    },
    "executionInfo": {
     "elapsed": 29,
     "status": "ok",
     "timestamp": 1635729763772,
     "user": {
      "displayName": "정재용",
      "photoUrl": "https://lh3.googleusercontent.com/a/default-user=s64",
      "userId": "01298664065762991749"
     },
     "user_tz": -540
    },
    "id": "4t1KMrUHeRbS",
    "outputId": "c4ade98d-f372-4b3b-ea42-e5e7df265363"
   },
   "outputs": [
    {
     "data": {
      "text/plain": [
       "0.13824770626605715"
      ]
     },
     "execution_count": 19,
     "metadata": {},
     "output_type": "execute_result"
    }
   ],
   "source": [
    "np.mean(pre_list1) "
   ]
  },
  {
   "cell_type": "code",
   "execution_count": 20,
   "metadata": {
    "colab": {
     "base_uri": "https://localhost:8080/"
    },
    "executionInfo": {
     "elapsed": 22,
     "status": "ok",
     "timestamp": 1635729763773,
     "user": {
      "displayName": "정재용",
      "photoUrl": "https://lh3.googleusercontent.com/a/default-user=s64",
      "userId": "01298664065762991749"
     },
     "user_tz": -540
    },
    "id": "1Jib-XggdRui",
    "outputId": "bec1b6ae-c61c-4831-bacc-7eb084c10231"
   },
   "outputs": [
    {
     "data": {
      "text/plain": [
       "0.047700000000000006"
      ]
     },
     "execution_count": 20,
     "metadata": {},
     "output_type": "execute_result"
    }
   ],
   "source": [
    "np.mean(pre_list2) "
   ]
  },
  {
   "cell_type": "code",
   "execution_count": 21,
   "metadata": {
    "colab": {
     "base_uri": "https://localhost:8080/",
     "height": 301
    },
    "executionInfo": {
     "elapsed": 389,
     "status": "ok",
     "timestamp": 1635729764146,
     "user": {
      "displayName": "정재용",
      "photoUrl": "https://lh3.googleusercontent.com/a/default-user=s64",
      "userId": "01298664065762991749"
     },
     "user_tz": -540
    },
    "id": "4VEIha0e3ohh",
    "outputId": "c27dad3f-1aba-40fc-a4e5-2d56c37156a3"
   },
   "outputs": [
    {
     "name": "stdout",
     "output_type": "stream",
     "text": [
      "1\n",
      "10\n"
     ]
    },
    {
     "data": {
      "image/png": "[encoded data removed]",
      "text/plain": [
       "<Figure size 432x288 with 1 Axes>"
      ]
     },
     "metadata": {
      "needs_background": "light"
     },
     "output_type": "display_data"
    }
   ],
   "source": [
    "\n",
    "for i in range(len(pre_list1)):\n",
    "    \n",
    "    plt.scatter(train1[i][0], ans1[i], color='g')\n",
    "    if np.abs(pre_list1[i])<0.3:\n",
    "        plt.scatter(train1[i][0], train1[i][2], color='b')\n",
    "    else:\n",
    "        print(i)\n",
    "        plt.scatter(train1[i][0], train1[i][2], color='r')\n"
   ]
  },
  {
   "cell_type": "code",
   "execution_count": 22,
   "metadata": {
    "colab": {
     "base_uri": "https://localhost:8080/",
     "height": 319
    },
    "executionInfo": {
     "elapsed": 684,
     "status": "ok",
     "timestamp": 1635729764826,
     "user": {
      "displayName": "정재용",
      "photoUrl": "https://lh3.googleusercontent.com/a/default-user=s64",
      "userId": "01298664065762991749"
     },
     "user_tz": -540
    },
    "id": "YRilt288aFF-",
    "outputId": "64d82d90-0948-4f01-d0c7-0f54bb810fc5"
   },
   "outputs": [
    {
     "name": "stdout",
     "output_type": "stream",
     "text": [
      "2\n",
      "6\n",
      "10\n"
     ]
    },
    {
     "data": {
      "image/png": "[encoded data removed]",
      "text/plain": [
       "<Figure size 432x288 with 1 Axes>"
      ]
     },
     "metadata": {
      "needs_background": "light"
     },
     "output_type": "display_data"
    }
   ],
   "source": [
    "for i in range(len(pre_list2)):\n",
    "    plt.scatter(train1[i][0], ans2[i], color='g')\n",
    "    if np.abs(pre_list2[i])<0.1:\n",
    "        plt.scatter(train1[i][0], train1[i][3], color='b')\n",
    "    else:\n",
    "        print(i)\n",
    "        plt.scatter(train1[i][0], train1[i][3], color='r')"
   ]
  },
  {
   "cell_type": "code",
   "execution_count": 24,
   "metadata": {
    "executionInfo": {
     "elapsed": 3849,
     "status": "ok",
     "timestamp": 1635729768671,
     "user": {
      "displayName": "정재용",
      "photoUrl": "https://lh3.googleusercontent.com/a/default-user=s64",
      "userId": "01298664065762991749"
     },
     "user_tz": -540
    },
    "id": "X5vzMkTycnF0"
   },
   "outputs": [
    {
     "name": "stderr",
     "output_type": "stream",
     "text": [
      "c:\\users\\yc yoon\\desktop\\githup\\dacon\\venv\\lib\\site-packages\\sklearn\\ensemble\\_forest.py:394: FutureWarning: Criterion 'mae' was deprecated in v1.0 and will be removed in version 1.2. Use `criterion='absolute_error'` which is equivalent.\n",
      "  warn(\n",
      "c:\\users\\yc yoon\\desktop\\githup\\dacon\\venv\\lib\\site-packages\\sklearn\\ensemble\\_forest.py:394: FutureWarning: Criterion 'mae' was deprecated in v1.0 and will be removed in version 1.2. Use `criterion='absolute_error'` which is equivalent.\n",
      "  warn(\n",
      "c:\\users\\yc yoon\\desktop\\githup\\dacon\\venv\\lib\\site-packages\\sklearn\\ensemble\\_forest.py:394: FutureWarning: Criterion 'mae' was deprecated in v1.0 and will be removed in version 1.2. Use `criterion='absolute_error'` which is equivalent.\n",
      "  warn(\n",
      "c:\\users\\yc yoon\\desktop\\githup\\dacon\\venv\\lib\\site-packages\\sklearn\\ensemble\\_forest.py:394: FutureWarning: Criterion 'mae' was deprecated in v1.0 and will be removed in version 1.2. Use `criterion='absolute_error'` which is equivalent.\n",
      "  warn(\n",
      "c:\\users\\yc yoon\\desktop\\githup\\dacon\\venv\\lib\\site-packages\\sklearn\\ensemble\\_forest.py:394: FutureWarning: Criterion 'mae' was deprecated in v1.0 and will be removed in version 1.2. Use `criterion='absolute_error'` which is equivalent.\n",
      "  warn(\n",
      "c:\\users\\yc yoon\\desktop\\githup\\dacon\\venv\\lib\\site-packages\\sklearn\\ensemble\\_forest.py:394: FutureWarning: Criterion 'mae' was deprecated in v1.0 and will be removed in version 1.2. Use `criterion='absolute_error'` which is equivalent.\n",
      "  warn(\n",
      "c:\\users\\yc yoon\\desktop\\githup\\dacon\\venv\\lib\\site-packages\\sklearn\\ensemble\\_forest.py:394: FutureWarning: Criterion 'mae' was deprecated in v1.0 and will be removed in version 1.2. Use `criterion='absolute_error'` which is equivalent.\n",
      "  warn(\n",
      "c:\\users\\yc yoon\\desktop\\githup\\dacon\\venv\\lib\\site-packages\\sklearn\\ensemble\\_forest.py:394: FutureWarning: Criterion 'mae' was deprecated in v1.0 and will be removed in version 1.2. Use `criterion='absolute_error'` which is equivalent.\n",
      "  warn(\n",
      "c:\\users\\yc yoon\\desktop\\githup\\dacon\\venv\\lib\\site-packages\\sklearn\\ensemble\\_forest.py:394: FutureWarning: Criterion 'mae' was deprecated in v1.0 and will be removed in version 1.2. Use `criterion='absolute_error'` which is equivalent.\n",
      "  warn(\n",
      "c:\\users\\yc yoon\\desktop\\githup\\dacon\\venv\\lib\\site-packages\\sklearn\\ensemble\\_forest.py:394: FutureWarning: Criterion 'mae' was deprecated in v1.0 and will be removed in version 1.2. Use `criterion='absolute_error'` which is equivalent.\n",
      "  warn(\n",
      "c:\\users\\yc yoon\\desktop\\githup\\dacon\\venv\\lib\\site-packages\\sklearn\\ensemble\\_forest.py:394: FutureWarning: Criterion 'mae' was deprecated in v1.0 and will be removed in version 1.2. Use `criterion='absolute_error'` which is equivalent.\n",
      "  warn(\n",
      "c:\\users\\yc yoon\\desktop\\githup\\dacon\\venv\\lib\\site-packages\\sklearn\\ensemble\\_forest.py:394: FutureWarning: Criterion 'mae' was deprecated in v1.0 and will be removed in version 1.2. Use `criterion='absolute_error'` which is equivalent.\n",
      "  warn(\n",
      "c:\\users\\yc yoon\\desktop\\githup\\dacon\\venv\\lib\\site-packages\\sklearn\\ensemble\\_forest.py:394: FutureWarning: Criterion 'mae' was deprecated in v1.0 and will be removed in version 1.2. Use `criterion='absolute_error'` which is equivalent.\n",
      "  warn(\n",
      "c:\\users\\yc yoon\\desktop\\githup\\dacon\\venv\\lib\\site-packages\\sklearn\\ensemble\\_forest.py:394: FutureWarning: Criterion 'mae' was deprecated in v1.0 and will be removed in version 1.2. Use `criterion='absolute_error'` which is equivalent.\n",
      "  warn(\n",
      "c:\\users\\yc yoon\\desktop\\githup\\dacon\\venv\\lib\\site-packages\\sklearn\\ensemble\\_forest.py:394: FutureWarning: Criterion 'mae' was deprecated in v1.0 and will be removed in version 1.2. Use `criterion='absolute_error'` which is equivalent.\n",
      "  warn(\n",
      "c:\\users\\yc yoon\\desktop\\githup\\dacon\\venv\\lib\\site-packages\\sklearn\\ensemble\\_forest.py:394: FutureWarning: Criterion 'mae' was deprecated in v1.0 and will be removed in version 1.2. Use `criterion='absolute_error'` which is equivalent.\n",
      "  warn(\n",
      "c:\\users\\yc yoon\\desktop\\githup\\dacon\\venv\\lib\\site-packages\\sklearn\\ensemble\\_forest.py:394: FutureWarning: Criterion 'mae' was deprecated in v1.0 and will be removed in version 1.2. Use `criterion='absolute_error'` which is equivalent.\n",
      "  warn(\n",
      "c:\\users\\yc yoon\\desktop\\githup\\dacon\\venv\\lib\\site-packages\\sklearn\\ensemble\\_forest.py:394: FutureWarning: Criterion 'mae' was deprecated in v1.0 and will be removed in version 1.2. Use `criterion='absolute_error'` which is equivalent.\n",
      "  warn(\n",
      "c:\\users\\yc yoon\\desktop\\githup\\dacon\\venv\\lib\\site-packages\\sklearn\\ensemble\\_forest.py:394: FutureWarning: Criterion 'mae' was deprecated in v1.0 and will be removed in version 1.2. Use `criterion='absolute_error'` which is equivalent.\n",
      "  warn(\n",
      "c:\\users\\yc yoon\\desktop\\githup\\dacon\\venv\\lib\\site-packages\\sklearn\\ensemble\\_forest.py:394: FutureWarning: Criterion 'mae' was deprecated in v1.0 and will be removed in version 1.2. Use `criterion='absolute_error'` which is equivalent.\n",
      "  warn(\n",
      "c:\\users\\yc yoon\\desktop\\githup\\dacon\\venv\\lib\\site-packages\\sklearn\\ensemble\\_forest.py:394: FutureWarning: Criterion 'mae' was deprecated in v1.0 and will be removed in version 1.2. Use `criterion='absolute_error'` which is equivalent.\n",
      "  warn(\n",
      "c:\\users\\yc yoon\\desktop\\githup\\dacon\\venv\\lib\\site-packages\\sklearn\\ensemble\\_forest.py:394: FutureWarning: Criterion 'mae' was deprecated in v1.0 and will be removed in version 1.2. Use `criterion='absolute_error'` which is equivalent.\n",
      "  warn(\n",
      "c:\\users\\yc yoon\\desktop\\githup\\dacon\\venv\\lib\\site-packages\\sklearn\\ensemble\\_forest.py:394: FutureWarning: Criterion 'mae' was deprecated in v1.0 and will be removed in version 1.2. Use `criterion='absolute_error'` which is equivalent.\n",
      "  warn(\n",
      "c:\\users\\yc yoon\\desktop\\githup\\dacon\\venv\\lib\\site-packages\\sklearn\\ensemble\\_forest.py:394: FutureWarning: Criterion 'mae' was deprecated in v1.0 and will be removed in version 1.2. Use `criterion='absolute_error'` which is equivalent.\n",
      "  warn(\n",
      "c:\\users\\yc yoon\\desktop\\githup\\dacon\\venv\\lib\\site-packages\\sklearn\\ensemble\\_forest.py:394: FutureWarning: Criterion 'mae' was deprecated in v1.0 and will be removed in version 1.2. Use `criterion='absolute_error'` which is equivalent.\n",
      "  warn(\n",
      "c:\\users\\yc yoon\\desktop\\githup\\dacon\\venv\\lib\\site-packages\\sklearn\\ensemble\\_forest.py:394: FutureWarning: Criterion 'mae' was deprecated in v1.0 and will be removed in version 1.2. Use `criterion='absolute_error'` which is equivalent.\n",
      "  warn(\n",
      "c:\\users\\yc yoon\\desktop\\githup\\dacon\\venv\\lib\\site-packages\\sklearn\\ensemble\\_forest.py:394: FutureWarning: Criterion 'mae' was deprecated in v1.0 and will be removed in version 1.2. Use `criterion='absolute_error'` which is equivalent.\n",
      "  warn(\n",
      "c:\\users\\yc yoon\\desktop\\githup\\dacon\\venv\\lib\\site-packages\\sklearn\\ensemble\\_forest.py:394: FutureWarning: Criterion 'mae' was deprecated in v1.0 and will be removed in version 1.2. Use `criterion='absolute_error'` which is equivalent.\n",
      "  warn(\n",
      "c:\\users\\yc yoon\\desktop\\githup\\dacon\\venv\\lib\\site-packages\\sklearn\\ensemble\\_forest.py:394: FutureWarning: Criterion 'mae' was deprecated in v1.0 and will be removed in version 1.2. Use `criterion='absolute_error'` which is equivalent.\n",
      "  warn(\n",
      "c:\\users\\yc yoon\\desktop\\githup\\dacon\\venv\\lib\\site-packages\\sklearn\\ensemble\\_forest.py:394: FutureWarning: Criterion 'mae' was deprecated in v1.0 and will be removed in version 1.2. Use `criterion='absolute_error'` which is equivalent.\n",
      "  warn(\n"
     ]
    }
   ],
   "source": [
    "train2 = np.array(train2)\n",
    "\n",
    "pre_list1 = []\n",
    "pre_list2 = []\n",
    "\n",
    "ans1 = []\n",
    "ans2 = []\n",
    "\n",
    "models_2_1 = []\n",
    "models_2_2 = []\n",
    "\n",
    "for i in range(len(train2)):\n",
    "    if i==0:\n",
    "      tmp_data = train2[i+1:]\n",
    "    else:\n",
    "      tmp_data = np.append(train2[i+1:], train2[:i-1], axis = 0)\n",
    "\n",
    "    \n",
    "    model_2_1= RandomForestRegressor(max_depth =1, criterion = 'mae', random_state=0)#\n",
    "    model_2_1.fit(tmp_data[:,:2], tmp_data[:,2])\n",
    "    models_2_1.append(model_2_1)\n",
    "\n",
    "    model_2_2= LinearRegression()\n",
    "    model_2_2.fit(tmp_data[:,1].reshape(-1,1), tmp_data[:,3])\n",
    "    models_2_2.append(model_2_2)\n",
    "    \n",
    "    ans1.append(model_2_1.predict(train2[i][:2].reshape(-1,2)))\n",
    "    ans2.append(model_2_2.predict(train2[i][1].reshape(-1,1)))\n",
    "\n",
    "    pre_list1.append(abs(train2[i][2] - model_2_1.predict(train2[i][:2].reshape(-1,2))))\n",
    "    pre_list2.append(abs(train2[i][3] - model_2_2.predict(train2[i][1].reshape(-1,1))))\n"
   ]
  },
  {
   "cell_type": "code",
   "execution_count": 25,
   "metadata": {
    "colab": {
     "base_uri": "https://localhost:8080/"
    },
    "executionInfo": {
     "elapsed": 36,
     "status": "ok",
     "timestamp": 1635729768673,
     "user": {
      "displayName": "정재용",
      "photoUrl": "https://lh3.googleusercontent.com/a/default-user=s64",
      "userId": "01298664065762991749"
     },
     "user_tz": -540
    },
    "id": "FHXDCnPufxkb",
    "outputId": "45fc8060-69f8-4ee0-e959-5f872d8a9069"
   },
   "outputs": [
    {
     "data": {
      "text/plain": [
       "0.22479999999999994"
      ]
     },
     "execution_count": 25,
     "metadata": {},
     "output_type": "execute_result"
    }
   ],
   "source": [
    "np.mean(pre_list1)"
   ]
  },
  {
   "cell_type": "code",
   "execution_count": 26,
   "metadata": {
    "colab": {
     "base_uri": "https://localhost:8080/",
     "height": 283
    },
    "executionInfo": {
     "elapsed": 605,
     "status": "ok",
     "timestamp": 1635729769256,
     "user": {
      "displayName": "정재용",
      "photoUrl": "https://lh3.googleusercontent.com/a/default-user=s64",
      "userId": "01298664065762991749"
     },
     "user_tz": -540
    },
    "id": "eUWbWAGWgoIR",
    "outputId": "0bf8fbb0-84fc-47f8-a271-7748d89d7fb6"
   },
   "outputs": [
    {
     "name": "stdout",
     "output_type": "stream",
     "text": [
      "21\n"
     ]
    },
    {
     "data": {
      "image/png": "[encoded data removed]",
      "text/plain": [
       "<Figure size 432x288 with 1 Axes>"
      ]
     },
     "metadata": {
      "needs_background": "light"
     },
     "output_type": "display_data"
    }
   ],
   "source": [
    "for i in range(len(pre_list1)):\n",
    "    \n",
    "    plt.scatter(train2[i][0], ans1[i], color='g')\n",
    "    if np.abs(pre_list2[i])<0.3:\n",
    "        plt.scatter(train2[i][0], train2[i][2], color='b')\n",
    "    else:\n",
    "        print(i)\n",
    "        plt.scatter(train2[i][0], train2[i][2], color='r')\n"
   ]
  },
  {
   "cell_type": "code",
   "execution_count": 27,
   "metadata": {
    "colab": {
     "base_uri": "https://localhost:8080/"
    },
    "executionInfo": {
     "elapsed": 14,
     "status": "ok",
     "timestamp": 1635729769256,
     "user": {
      "displayName": "정재용",
      "photoUrl": "https://lh3.googleusercontent.com/a/default-user=s64",
      "userId": "01298664065762991749"
     },
     "user_tz": -540
    },
    "id": "Vt_5CLm7f0MQ",
    "outputId": "d274ba04-2a0d-4612-ea25-39b6b094d7d4"
   },
   "outputs": [
    {
     "data": {
      "text/plain": [
       "0.1205785786588805"
      ]
     },
     "execution_count": 27,
     "metadata": {},
     "output_type": "execute_result"
    }
   ],
   "source": [
    "np.mean(pre_list2)"
   ]
  },
  {
   "cell_type": "code",
   "execution_count": 28,
   "metadata": {
    "colab": {
     "base_uri": "https://localhost:8080/",
     "height": 428
    },
    "executionInfo": {
     "elapsed": 11,
     "status": "ok",
     "timestamp": 1635729769257,
     "user": {
      "displayName": "정재용",
      "photoUrl": "https://lh3.googleusercontent.com/a/default-user=s64",
      "userId": "01298664065762991749"
     },
     "user_tz": -540
    },
    "id": "_voj9PYBf6wL",
    "outputId": "7c97b891-862f-4706-fb0e-ab1e20420f6f"
   },
   "outputs": [
    {
     "name": "stdout",
     "output_type": "stream",
     "text": [
      "0\n",
      "4\n",
      "5\n",
      "7\n",
      "14\n",
      "20\n",
      "21\n",
      "26\n",
      "27\n"
     ]
    },
    {
     "data": {
      "image/png": "[encoded data removed]",
      "text/plain": [
       "<Figure size 432x288 with 1 Axes>"
      ]
     },
     "metadata": {
      "needs_background": "light"
     },
     "output_type": "display_data"
    }
   ],
   "source": [
    "for i in range(len(pre_list1)):\n",
    "    \n",
    "    plt.scatter(train2[i][1], ans2[i], color='g')\n",
    "    if np.abs(pre_list1[i])<0.3:\n",
    "        plt.scatter(train2[i][1], train2[i][3], color='b')\n",
    "    else:\n",
    "        print(i)\n",
    "        plt.scatter(train2[i][1], train2[i][3], color='r')"
   ]
  },
  {
   "cell_type": "code",
   "execution_count": 29,
   "metadata": {
    "executionInfo": {
     "elapsed": 8425,
     "status": "ok",
     "timestamp": 1635729777676,
     "user": {
      "displayName": "정재용",
      "photoUrl": "https://lh3.googleusercontent.com/a/default-user=s64",
      "userId": "01298664065762991749"
     },
     "user_tz": -540
    },
    "id": "MiDbbOM_f9fr"
   },
   "outputs": [
    {
     "name": "stderr",
     "output_type": "stream",
     "text": [
      "c:\\users\\yc yoon\\desktop\\githup\\dacon\\venv\\lib\\site-packages\\sklearn\\ensemble\\_forest.py:394: FutureWarning: Criterion 'mae' was deprecated in v1.0 and will be removed in version 1.2. Use `criterion='absolute_error'` which is equivalent.\n",
      "  warn(\n",
      "c:\\users\\yc yoon\\desktop\\githup\\dacon\\venv\\lib\\site-packages\\sklearn\\ensemble\\_forest.py:394: FutureWarning: Criterion 'mae' was deprecated in v1.0 and will be removed in version 1.2. Use `criterion='absolute_error'` which is equivalent.\n",
      "  warn(\n",
      "c:\\users\\yc yoon\\desktop\\githup\\dacon\\venv\\lib\\site-packages\\sklearn\\ensemble\\_forest.py:394: FutureWarning: Criterion 'mae' was deprecated in v1.0 and will be removed in version 1.2. Use `criterion='absolute_error'` which is equivalent.\n",
      "  warn(\n",
      "c:\\users\\yc yoon\\desktop\\githup\\dacon\\venv\\lib\\site-packages\\sklearn\\ensemble\\_forest.py:394: FutureWarning: Criterion 'mae' was deprecated in v1.0 and will be removed in version 1.2. Use `criterion='absolute_error'` which is equivalent.\n",
      "  warn(\n",
      "c:\\users\\yc yoon\\desktop\\githup\\dacon\\venv\\lib\\site-packages\\sklearn\\ensemble\\_forest.py:394: FutureWarning: Criterion 'mae' was deprecated in v1.0 and will be removed in version 1.2. Use `criterion='absolute_error'` which is equivalent.\n",
      "  warn(\n",
      "c:\\users\\yc yoon\\desktop\\githup\\dacon\\venv\\lib\\site-packages\\sklearn\\ensemble\\_forest.py:394: FutureWarning: Criterion 'mae' was deprecated in v1.0 and will be removed in version 1.2. Use `criterion='absolute_error'` which is equivalent.\n",
      "  warn(\n",
      "c:\\users\\yc yoon\\desktop\\githup\\dacon\\venv\\lib\\site-packages\\sklearn\\ensemble\\_forest.py:394: FutureWarning: Criterion 'mae' was deprecated in v1.0 and will be removed in version 1.2. Use `criterion='absolute_error'` which is equivalent.\n",
      "  warn(\n",
      "c:\\users\\yc yoon\\desktop\\githup\\dacon\\venv\\lib\\site-packages\\sklearn\\ensemble\\_forest.py:394: FutureWarning: Criterion 'mae' was deprecated in v1.0 and will be removed in version 1.2. Use `criterion='absolute_error'` which is equivalent.\n",
      "  warn(\n",
      "c:\\users\\yc yoon\\desktop\\githup\\dacon\\venv\\lib\\site-packages\\sklearn\\ensemble\\_forest.py:394: FutureWarning: Criterion 'mae' was deprecated in v1.0 and will be removed in version 1.2. Use `criterion='absolute_error'` which is equivalent.\n",
      "  warn(\n",
      "c:\\users\\yc yoon\\desktop\\githup\\dacon\\venv\\lib\\site-packages\\sklearn\\ensemble\\_forest.py:394: FutureWarning: Criterion 'mae' was deprecated in v1.0 and will be removed in version 1.2. Use `criterion='absolute_error'` which is equivalent.\n",
      "  warn(\n",
      "c:\\users\\yc yoon\\desktop\\githup\\dacon\\venv\\lib\\site-packages\\sklearn\\ensemble\\_forest.py:394: FutureWarning: Criterion 'mae' was deprecated in v1.0 and will be removed in version 1.2. Use `criterion='absolute_error'` which is equivalent.\n",
      "  warn(\n",
      "c:\\users\\yc yoon\\desktop\\githup\\dacon\\venv\\lib\\site-packages\\sklearn\\ensemble\\_forest.py:394: FutureWarning: Criterion 'mae' was deprecated in v1.0 and will be removed in version 1.2. Use `criterion='absolute_error'` which is equivalent.\n",
      "  warn(\n",
      "c:\\users\\yc yoon\\desktop\\githup\\dacon\\venv\\lib\\site-packages\\sklearn\\ensemble\\_forest.py:394: FutureWarning: Criterion 'mae' was deprecated in v1.0 and will be removed in version 1.2. Use `criterion='absolute_error'` which is equivalent.\n",
      "  warn(\n",
      "c:\\users\\yc yoon\\desktop\\githup\\dacon\\venv\\lib\\site-packages\\sklearn\\ensemble\\_forest.py:394: FutureWarning: Criterion 'mae' was deprecated in v1.0 and will be removed in version 1.2. Use `criterion='absolute_error'` which is equivalent.\n",
      "  warn(\n",
      "c:\\users\\yc yoon\\desktop\\githup\\dacon\\venv\\lib\\site-packages\\sklearn\\ensemble\\_forest.py:394: FutureWarning: Criterion 'mae' was deprecated in v1.0 and will be removed in version 1.2. Use `criterion='absolute_error'` which is equivalent.\n",
      "  warn(\n",
      "c:\\users\\yc yoon\\desktop\\githup\\dacon\\venv\\lib\\site-packages\\sklearn\\ensemble\\_forest.py:394: FutureWarning: Criterion 'mae' was deprecated in v1.0 and will be removed in version 1.2. Use `criterion='absolute_error'` which is equivalent.\n",
      "  warn(\n",
      "c:\\users\\yc yoon\\desktop\\githup\\dacon\\venv\\lib\\site-packages\\sklearn\\ensemble\\_forest.py:394: FutureWarning: Criterion 'mae' was deprecated in v1.0 and will be removed in version 1.2. Use `criterion='absolute_error'` which is equivalent.\n",
      "  warn(\n",
      "c:\\users\\yc yoon\\desktop\\githup\\dacon\\venv\\lib\\site-packages\\sklearn\\ensemble\\_forest.py:394: FutureWarning: Criterion 'mae' was deprecated in v1.0 and will be removed in version 1.2. Use `criterion='absolute_error'` which is equivalent.\n",
      "  warn(\n",
      "c:\\users\\yc yoon\\desktop\\githup\\dacon\\venv\\lib\\site-packages\\sklearn\\ensemble\\_forest.py:394: FutureWarning: Criterion 'mae' was deprecated in v1.0 and will be removed in version 1.2. Use `criterion='absolute_error'` which is equivalent.\n",
      "  warn(\n",
      "c:\\users\\yc yoon\\desktop\\githup\\dacon\\venv\\lib\\site-packages\\sklearn\\ensemble\\_forest.py:394: FutureWarning: Criterion 'mae' was deprecated in v1.0 and will be removed in version 1.2. Use `criterion='absolute_error'` which is equivalent.\n",
      "  warn(\n",
      "c:\\users\\yc yoon\\desktop\\githup\\dacon\\venv\\lib\\site-packages\\sklearn\\ensemble\\_forest.py:394: FutureWarning: Criterion 'mae' was deprecated in v1.0 and will be removed in version 1.2. Use `criterion='absolute_error'` which is equivalent.\n",
      "  warn(\n",
      "c:\\users\\yc yoon\\desktop\\githup\\dacon\\venv\\lib\\site-packages\\sklearn\\ensemble\\_forest.py:394: FutureWarning: Criterion 'mae' was deprecated in v1.0 and will be removed in version 1.2. Use `criterion='absolute_error'` which is equivalent.\n",
      "  warn(\n",
      "c:\\users\\yc yoon\\desktop\\githup\\dacon\\venv\\lib\\site-packages\\sklearn\\ensemble\\_forest.py:394: FutureWarning: Criterion 'mae' was deprecated in v1.0 and will be removed in version 1.2. Use `criterion='absolute_error'` which is equivalent.\n",
      "  warn(\n",
      "c:\\users\\yc yoon\\desktop\\githup\\dacon\\venv\\lib\\site-packages\\sklearn\\ensemble\\_forest.py:394: FutureWarning: Criterion 'mae' was deprecated in v1.0 and will be removed in version 1.2. Use `criterion='absolute_error'` which is equivalent.\n",
      "  warn(\n",
      "c:\\users\\yc yoon\\desktop\\githup\\dacon\\venv\\lib\\site-packages\\sklearn\\ensemble\\_forest.py:394: FutureWarning: Criterion 'mae' was deprecated in v1.0 and will be removed in version 1.2. Use `criterion='absolute_error'` which is equivalent.\n",
      "  warn(\n",
      "c:\\users\\yc yoon\\desktop\\githup\\dacon\\venv\\lib\\site-packages\\sklearn\\ensemble\\_forest.py:394: FutureWarning: Criterion 'mae' was deprecated in v1.0 and will be removed in version 1.2. Use `criterion='absolute_error'` which is equivalent.\n",
      "  warn(\n",
      "c:\\users\\yc yoon\\desktop\\githup\\dacon\\venv\\lib\\site-packages\\sklearn\\ensemble\\_forest.py:394: FutureWarning: Criterion 'mae' was deprecated in v1.0 and will be removed in version 1.2. Use `criterion='absolute_error'` which is equivalent.\n",
      "  warn(\n",
      "c:\\users\\yc yoon\\desktop\\githup\\dacon\\venv\\lib\\site-packages\\sklearn\\ensemble\\_forest.py:394: FutureWarning: Criterion 'mae' was deprecated in v1.0 and will be removed in version 1.2. Use `criterion='absolute_error'` which is equivalent.\n",
      "  warn(\n",
      "c:\\users\\yc yoon\\desktop\\githup\\dacon\\venv\\lib\\site-packages\\sklearn\\ensemble\\_forest.py:394: FutureWarning: Criterion 'mae' was deprecated in v1.0 and will be removed in version 1.2. Use `criterion='absolute_error'` which is equivalent.\n",
      "  warn(\n",
      "c:\\users\\yc yoon\\desktop\\githup\\dacon\\venv\\lib\\site-packages\\sklearn\\ensemble\\_forest.py:394: FutureWarning: Criterion 'mae' was deprecated in v1.0 and will be removed in version 1.2. Use `criterion='absolute_error'` which is equivalent.\n",
      "  warn(\n",
      "c:\\users\\yc yoon\\desktop\\githup\\dacon\\venv\\lib\\site-packages\\sklearn\\ensemble\\_forest.py:394: FutureWarning: Criterion 'mae' was deprecated in v1.0 and will be removed in version 1.2. Use `criterion='absolute_error'` which is equivalent.\n",
      "  warn(\n",
      "c:\\users\\yc yoon\\desktop\\githup\\dacon\\venv\\lib\\site-packages\\sklearn\\ensemble\\_forest.py:394: FutureWarning: Criterion 'mae' was deprecated in v1.0 and will be removed in version 1.2. Use `criterion='absolute_error'` which is equivalent.\n",
      "  warn(\n",
      "c:\\users\\yc yoon\\desktop\\githup\\dacon\\venv\\lib\\site-packages\\sklearn\\ensemble\\_forest.py:394: FutureWarning: Criterion 'mae' was deprecated in v1.0 and will be removed in version 1.2. Use `criterion='absolute_error'` which is equivalent.\n",
      "  warn(\n",
      "c:\\users\\yc yoon\\desktop\\githup\\dacon\\venv\\lib\\site-packages\\sklearn\\ensemble\\_forest.py:394: FutureWarning: Criterion 'mae' was deprecated in v1.0 and will be removed in version 1.2. Use `criterion='absolute_error'` which is equivalent.\n",
      "  warn(\n",
      "c:\\users\\yc yoon\\desktop\\githup\\dacon\\venv\\lib\\site-packages\\sklearn\\ensemble\\_forest.py:394: FutureWarning: Criterion 'mae' was deprecated in v1.0 and will be removed in version 1.2. Use `criterion='absolute_error'` which is equivalent.\n",
      "  warn(\n",
      "c:\\users\\yc yoon\\desktop\\githup\\dacon\\venv\\lib\\site-packages\\sklearn\\ensemble\\_forest.py:394: FutureWarning: Criterion 'mae' was deprecated in v1.0 and will be removed in version 1.2. Use `criterion='absolute_error'` which is equivalent.\n",
      "  warn(\n"
     ]
    },
    {
     "name": "stderr",
     "output_type": "stream",
     "text": [
      "c:\\users\\yc yoon\\desktop\\githup\\dacon\\venv\\lib\\site-packages\\sklearn\\ensemble\\_forest.py:394: FutureWarning: Criterion 'mae' was deprecated in v1.0 and will be removed in version 1.2. Use `criterion='absolute_error'` which is equivalent.\n",
      "  warn(\n",
      "c:\\users\\yc yoon\\desktop\\githup\\dacon\\venv\\lib\\site-packages\\sklearn\\ensemble\\_forest.py:394: FutureWarning: Criterion 'mae' was deprecated in v1.0 and will be removed in version 1.2. Use `criterion='absolute_error'` which is equivalent.\n",
      "  warn(\n",
      "c:\\users\\yc yoon\\desktop\\githup\\dacon\\venv\\lib\\site-packages\\sklearn\\ensemble\\_forest.py:394: FutureWarning: Criterion 'mae' was deprecated in v1.0 and will be removed in version 1.2. Use `criterion='absolute_error'` which is equivalent.\n",
      "  warn(\n",
      "c:\\users\\yc yoon\\desktop\\githup\\dacon\\venv\\lib\\site-packages\\sklearn\\ensemble\\_forest.py:394: FutureWarning: Criterion 'mae' was deprecated in v1.0 and will be removed in version 1.2. Use `criterion='absolute_error'` which is equivalent.\n",
      "  warn(\n",
      "c:\\users\\yc yoon\\desktop\\githup\\dacon\\venv\\lib\\site-packages\\sklearn\\ensemble\\_forest.py:394: FutureWarning: Criterion 'mae' was deprecated in v1.0 and will be removed in version 1.2. Use `criterion='absolute_error'` which is equivalent.\n",
      "  warn(\n",
      "c:\\users\\yc yoon\\desktop\\githup\\dacon\\venv\\lib\\site-packages\\sklearn\\ensemble\\_forest.py:394: FutureWarning: Criterion 'mae' was deprecated in v1.0 and will be removed in version 1.2. Use `criterion='absolute_error'` which is equivalent.\n",
      "  warn(\n",
      "c:\\users\\yc yoon\\desktop\\githup\\dacon\\venv\\lib\\site-packages\\sklearn\\ensemble\\_forest.py:394: FutureWarning: Criterion 'mae' was deprecated in v1.0 and will be removed in version 1.2. Use `criterion='absolute_error'` which is equivalent.\n",
      "  warn(\n",
      "c:\\users\\yc yoon\\desktop\\githup\\dacon\\venv\\lib\\site-packages\\sklearn\\ensemble\\_forest.py:394: FutureWarning: Criterion 'mae' was deprecated in v1.0 and will be removed in version 1.2. Use `criterion='absolute_error'` which is equivalent.\n",
      "  warn(\n",
      "c:\\users\\yc yoon\\desktop\\githup\\dacon\\venv\\lib\\site-packages\\sklearn\\ensemble\\_forest.py:394: FutureWarning: Criterion 'mae' was deprecated in v1.0 and will be removed in version 1.2. Use `criterion='absolute_error'` which is equivalent.\n",
      "  warn(\n",
      "c:\\users\\yc yoon\\desktop\\githup\\dacon\\venv\\lib\\site-packages\\sklearn\\ensemble\\_forest.py:394: FutureWarning: Criterion 'mae' was deprecated in v1.0 and will be removed in version 1.2. Use `criterion='absolute_error'` which is equivalent.\n",
      "  warn(\n",
      "c:\\users\\yc yoon\\desktop\\githup\\dacon\\venv\\lib\\site-packages\\sklearn\\ensemble\\_forest.py:394: FutureWarning: Criterion 'mae' was deprecated in v1.0 and will be removed in version 1.2. Use `criterion='absolute_error'` which is equivalent.\n",
      "  warn(\n",
      "c:\\users\\yc yoon\\desktop\\githup\\dacon\\venv\\lib\\site-packages\\sklearn\\ensemble\\_forest.py:394: FutureWarning: Criterion 'mae' was deprecated in v1.0 and will be removed in version 1.2. Use `criterion='absolute_error'` which is equivalent.\n",
      "  warn(\n",
      "c:\\users\\yc yoon\\desktop\\githup\\dacon\\venv\\lib\\site-packages\\sklearn\\ensemble\\_forest.py:394: FutureWarning: Criterion 'mae' was deprecated in v1.0 and will be removed in version 1.2. Use `criterion='absolute_error'` which is equivalent.\n",
      "  warn(\n",
      "c:\\users\\yc yoon\\desktop\\githup\\dacon\\venv\\lib\\site-packages\\sklearn\\ensemble\\_forest.py:394: FutureWarning: Criterion 'mae' was deprecated in v1.0 and will be removed in version 1.2. Use `criterion='absolute_error'` which is equivalent.\n",
      "  warn(\n",
      "c:\\users\\yc yoon\\desktop\\githup\\dacon\\venv\\lib\\site-packages\\sklearn\\ensemble\\_forest.py:394: FutureWarning: Criterion 'mae' was deprecated in v1.0 and will be removed in version 1.2. Use `criterion='absolute_error'` which is equivalent.\n",
      "  warn(\n",
      "c:\\users\\yc yoon\\desktop\\githup\\dacon\\venv\\lib\\site-packages\\sklearn\\ensemble\\_forest.py:394: FutureWarning: Criterion 'mae' was deprecated in v1.0 and will be removed in version 1.2. Use `criterion='absolute_error'` which is equivalent.\n",
      "  warn(\n",
      "c:\\users\\yc yoon\\desktop\\githup\\dacon\\venv\\lib\\site-packages\\sklearn\\ensemble\\_forest.py:394: FutureWarning: Criterion 'mae' was deprecated in v1.0 and will be removed in version 1.2. Use `criterion='absolute_error'` which is equivalent.\n",
      "  warn(\n",
      "c:\\users\\yc yoon\\desktop\\githup\\dacon\\venv\\lib\\site-packages\\sklearn\\ensemble\\_forest.py:394: FutureWarning: Criterion 'mae' was deprecated in v1.0 and will be removed in version 1.2. Use `criterion='absolute_error'` which is equivalent.\n",
      "  warn(\n",
      "c:\\users\\yc yoon\\desktop\\githup\\dacon\\venv\\lib\\site-packages\\sklearn\\ensemble\\_forest.py:394: FutureWarning: Criterion 'mae' was deprecated in v1.0 and will be removed in version 1.2. Use `criterion='absolute_error'` which is equivalent.\n",
      "  warn(\n",
      "c:\\users\\yc yoon\\desktop\\githup\\dacon\\venv\\lib\\site-packages\\sklearn\\ensemble\\_forest.py:394: FutureWarning: Criterion 'mae' was deprecated in v1.0 and will be removed in version 1.2. Use `criterion='absolute_error'` which is equivalent.\n",
      "  warn(\n",
      "c:\\users\\yc yoon\\desktop\\githup\\dacon\\venv\\lib\\site-packages\\sklearn\\ensemble\\_forest.py:394: FutureWarning: Criterion 'mae' was deprecated in v1.0 and will be removed in version 1.2. Use `criterion='absolute_error'` which is equivalent.\n",
      "  warn(\n",
      "c:\\users\\yc yoon\\desktop\\githup\\dacon\\venv\\lib\\site-packages\\sklearn\\ensemble\\_forest.py:394: FutureWarning: Criterion 'mae' was deprecated in v1.0 and will be removed in version 1.2. Use `criterion='absolute_error'` which is equivalent.\n",
      "  warn(\n",
      "c:\\users\\yc yoon\\desktop\\githup\\dacon\\venv\\lib\\site-packages\\sklearn\\ensemble\\_forest.py:394: FutureWarning: Criterion 'mae' was deprecated in v1.0 and will be removed in version 1.2. Use `criterion='absolute_error'` which is equivalent.\n",
      "  warn(\n",
      "c:\\users\\yc yoon\\desktop\\githup\\dacon\\venv\\lib\\site-packages\\sklearn\\ensemble\\_forest.py:394: FutureWarning: Criterion 'mae' was deprecated in v1.0 and will be removed in version 1.2. Use `criterion='absolute_error'` which is equivalent.\n",
      "  warn(\n"
     ]
    }
   ],
   "source": [
    "train3 = np.array(train3)\n",
    "\n",
    "pre_list1 = []\n",
    "pre_list2 = []\n",
    "\n",
    "ans1 = []\n",
    "ans2 = []\n",
    "\n",
    "models_3_1 = []\n",
    "models_3_2 = []\n",
    "\n",
    "for i in range(len(train3)):\n",
    "    if i==0:\n",
    "      tmp_data = train3[i+1:]\n",
    "    else:\n",
    "      tmp_data = np.append(train3[i+1:], train3[:i-1], axis = 0)\n",
    "\n",
    "    \n",
    "    model_3_1= RandomForestRegressor(max_depth = 1, criterion = 'mae', random_state=0)#\n",
    "    model_3_1.fit(tmp_data[:,:2], tmp_data[:,2])\n",
    "    models_3_1.append(model_3_1)\n",
    "\n",
    "    model_3_2= RandomForestRegressor(max_depth = 1, criterion = 'mae', random_state=0)#\n",
    "    model_3_2.fit(tmp_data[:,:2], tmp_data[:,3])\n",
    "    models_3_2.append(model_3_2)\n",
    "    \n",
    "    ans1.append(model_3_1.predict(train3[i][:2].reshape(-1,2)))\n",
    "    ans2.append(model_3_2.predict(train3[i][:2].reshape(-1,2)))\n",
    "\n",
    "    pre_list1.append(abs(train3[i][2] - model_3_1.predict(train3[i][:2].reshape(-1,2))))\n",
    "    pre_list2.append(abs(train3[i][3] - model_3_2.predict(train3[i][:2].reshape(-1,2))))"
   ]
  },
  {
   "cell_type": "code",
   "execution_count": 30,
   "metadata": {
    "colab": {
     "base_uri": "https://localhost:8080/"
    },
    "executionInfo": {
     "elapsed": 15,
     "status": "ok",
     "timestamp": 1635729777678,
     "user": {
      "displayName": "정재용",
      "photoUrl": "https://lh3.googleusercontent.com/a/default-user=s64",
      "userId": "01298664065762991749"
     },
     "user_tz": -540
    },
    "id": "ME9bA05PjnR8",
    "outputId": "2fa47346-931f-4ec3-c249-bba7c4a46d46"
   },
   "outputs": [
    {
     "data": {
      "text/plain": [
       "0.24541666666666664"
      ]
     },
     "execution_count": 30,
     "metadata": {},
     "output_type": "execute_result"
    }
   ],
   "source": [
    "np.mean(pre_list1)"
   ]
  },
  {
   "cell_type": "code",
   "execution_count": 31,
   "metadata": {
    "colab": {
     "base_uri": "https://localhost:8080/",
     "height": 537
    },
    "executionInfo": {
     "elapsed": 552,
     "status": "ok",
     "timestamp": 1635729778221,
     "user": {
      "displayName": "정재용",
      "photoUrl": "https://lh3.googleusercontent.com/a/default-user=s64",
      "userId": "01298664065762991749"
     },
     "user_tz": -540
    },
    "id": "braU-omMkGFL",
    "outputId": "3f4d06ca-505a-47a6-92ef-89e6e2b11157"
   },
   "outputs": [
    {
     "name": "stdout",
     "output_type": "stream",
     "text": [
      "1\n",
      "3\n",
      "5\n",
      "7\n",
      "11\n",
      "13\n",
      "14\n",
      "15\n",
      "16\n",
      "17\n",
      "19\n",
      "21\n",
      "23\n",
      "28\n",
      "29\n"
     ]
    },
    {
     "data": {
      "image/png": "[encoded data removed]",
      "text/plain": [
       "<Figure size 432x288 with 1 Axes>"
      ]
     },
     "metadata": {
      "needs_background": "light"
     },
     "output_type": "display_data"
    }
   ],
   "source": [
    "for i in range(len(pre_list1)):\n",
    "    \n",
    "    plt.scatter(train3[i][0], ans1[i], color='g')\n",
    "    if np.abs(pre_list1[i])<0.2:\n",
    "        plt.scatter(train3[i][0], train3[i][2], color='b')\n",
    "    else:\n",
    "        print(i)\n",
    "        plt.scatter(train3[i][0], train3[i][2], color='r')\n"
   ]
  },
  {
   "cell_type": "code",
   "execution_count": 32,
   "metadata": {
    "colab": {
     "base_uri": "https://localhost:8080/"
    },
    "executionInfo": {
     "elapsed": 11,
     "status": "ok",
     "timestamp": 1635729778222,
     "user": {
      "displayName": "정재용",
      "photoUrl": "https://lh3.googleusercontent.com/a/default-user=s64",
      "userId": "01298664065762991749"
     },
     "user_tz": -540
    },
    "id": "3HgyWu14jnJ0",
    "outputId": "90aa51a7-5e3f-489a-d4a6-eb0fa7d315e6"
   },
   "outputs": [
    {
     "data": {
      "text/plain": [
       "0.21658333333333324"
      ]
     },
     "execution_count": 32,
     "metadata": {},
     "output_type": "execute_result"
    }
   ],
   "source": [
    "np.mean(pre_list2)"
   ]
  },
  {
   "cell_type": "code",
   "execution_count": 33,
   "metadata": {
    "colab": {
     "base_uri": "https://localhost:8080/",
     "height": 537
    },
    "executionInfo": {
     "elapsed": 502,
     "status": "ok",
     "timestamp": 1635729778716,
     "user": {
      "displayName": "정재용",
      "photoUrl": "https://lh3.googleusercontent.com/a/default-user=s64",
      "userId": "01298664065762991749"
     },
     "user_tz": -540
    },
    "id": "r-1lRoR8jnDe",
    "outputId": "c98c4018-3280-41bf-8db1-201eee64d18f"
   },
   "outputs": [
    {
     "name": "stdout",
     "output_type": "stream",
     "text": [
      "1\n",
      "3\n",
      "5\n",
      "7\n",
      "11\n",
      "13\n",
      "14\n",
      "15\n",
      "16\n",
      "17\n",
      "19\n",
      "21\n",
      "23\n",
      "28\n",
      "29\n"
     ]
    },
    {
     "data": {
      "image/png": "[encoded data removed]",
      "text/plain": [
       "<Figure size 432x288 with 1 Axes>"
      ]
     },
     "metadata": {
      "needs_background": "light"
     },
     "output_type": "display_data"
    }
   ],
   "source": [
    "for i in range(len(pre_list1)):\n",
    "    \n",
    "    if np.abs(pre_list1[i])<0.2:\n",
    "        plt.scatter(train3[i][0], train3[i][3], color='b')\n",
    "    else:\n",
    "        print(i)\n",
    "        plt.scatter(train3[i][0], train3[i][3], color='r')\n",
    "        \n",
    "    plt.scatter(train3[i][0], ans2[i], color='g')"
   ]
  },
  {
   "cell_type": "markdown",
   "metadata": {
    "id": "tEOTe-TT6_TT"
   },
   "source": [
    "# 추론"
   ]
  },
  {
   "cell_type": "code",
   "execution_count": 34,
   "metadata": {
    "executionInfo": {
     "elapsed": 6,
     "status": "ok",
     "timestamp": 1635729778718,
     "user": {
      "displayName": "정재용",
      "photoUrl": "https://lh3.googleusercontent.com/a/default-user=s64",
      "userId": "01298664065762991749"
     },
     "user_tz": -540
    },
    "id": "Ri4ktUCTwOyT"
   },
   "outputs": [],
   "source": [
    "test = pd.read_csv('../data/iris_test.csv')"
   ]
  },
  {
   "cell_type": "code",
   "execution_count": 35,
   "metadata": {
    "colab": {
     "base_uri": "https://localhost:8080/",
     "height": 422
    },
    "executionInfo": {
     "elapsed": 5,
     "status": "ok",
     "timestamp": 1635729778718,
     "user": {
      "displayName": "정재용",
      "photoUrl": "https://lh3.googleusercontent.com/a/default-user=s64",
      "userId": "01298664065762991749"
     },
     "user_tz": -540
    },
    "id": "fWVahAkB5-wJ",
    "outputId": "8eebc445-cec0-4671-91d8-9e616b809a94"
   },
   "outputs": [
    {
     "data": {
      "text/html": [
       "<div>\n",
       "<style scoped>\n",
       "    .dataframe tbody tr th:only-of-type {\n",
       "        vertical-align: middle;\n",
       "    }\n",
       "\n",
       "    .dataframe tbody tr th {\n",
       "        vertical-align: top;\n",
       "    }\n",
       "\n",
       "    .dataframe thead th {\n",
       "        text-align: right;\n",
       "    }\n",
       "</style>\n",
       "<table border=\"1\" class=\"dataframe\">\n",
       "  <thead>\n",
       "    <tr style=\"text-align: right;\">\n",
       "      <th></th>\n",
       "      <th>id</th>\n",
       "      <th>species</th>\n",
       "      <th>sepal length (cm)</th>\n",
       "      <th>petal length (cm)</th>\n",
       "    </tr>\n",
       "  </thead>\n",
       "  <tbody>\n",
       "    <tr>\n",
       "      <th>0</th>\n",
       "      <td>0</td>\n",
       "      <td>setosa</td>\n",
       "      <td>5.4</td>\n",
       "      <td>1.7</td>\n",
       "    </tr>\n",
       "    <tr>\n",
       "      <th>1</th>\n",
       "      <td>1</td>\n",
       "      <td>setosa</td>\n",
       "      <td>5.7</td>\n",
       "      <td>1.5</td>\n",
       "    </tr>\n",
       "    <tr>\n",
       "      <th>2</th>\n",
       "      <td>2</td>\n",
       "      <td>setosa</td>\n",
       "      <td>5.3</td>\n",
       "      <td>1.5</td>\n",
       "    </tr>\n",
       "    <tr>\n",
       "      <th>3</th>\n",
       "      <td>3</td>\n",
       "      <td>setosa</td>\n",
       "      <td>5.1</td>\n",
       "      <td>1.9</td>\n",
       "    </tr>\n",
       "    <tr>\n",
       "      <th>4</th>\n",
       "      <td>4</td>\n",
       "      <td>virginica</td>\n",
       "      <td>6.0</td>\n",
       "      <td>4.8</td>\n",
       "    </tr>\n",
       "    <tr>\n",
       "      <th>...</th>\n",
       "      <td>...</td>\n",
       "      <td>...</td>\n",
       "      <td>...</td>\n",
       "      <td>...</td>\n",
       "    </tr>\n",
       "    <tr>\n",
       "      <th>70</th>\n",
       "      <td>70</td>\n",
       "      <td>versicolor</td>\n",
       "      <td>5.8</td>\n",
       "      <td>4.0</td>\n",
       "    </tr>\n",
       "    <tr>\n",
       "      <th>71</th>\n",
       "      <td>71</td>\n",
       "      <td>setosa</td>\n",
       "      <td>4.4</td>\n",
       "      <td>1.3</td>\n",
       "    </tr>\n",
       "    <tr>\n",
       "      <th>72</th>\n",
       "      <td>72</td>\n",
       "      <td>virginica</td>\n",
       "      <td>6.3</td>\n",
       "      <td>5.6</td>\n",
       "    </tr>\n",
       "    <tr>\n",
       "      <th>73</th>\n",
       "      <td>73</td>\n",
       "      <td>versicolor</td>\n",
       "      <td>5.1</td>\n",
       "      <td>3.0</td>\n",
       "    </tr>\n",
       "    <tr>\n",
       "      <th>74</th>\n",
       "      <td>74</td>\n",
       "      <td>virginica</td>\n",
       "      <td>5.9</td>\n",
       "      <td>5.1</td>\n",
       "    </tr>\n",
       "  </tbody>\n",
       "</table>\n",
       "<p>75 rows × 4 columns</p>\n",
       "</div>"
      ],
      "text/plain": [
       "    id     species  sepal length (cm)  petal length (cm)\n",
       "0    0      setosa                5.4                1.7\n",
       "1    1      setosa                5.7                1.5\n",
       "2    2      setosa                5.3                1.5\n",
       "3    3      setosa                5.1                1.9\n",
       "4    4   virginica                6.0                4.8\n",
       "..  ..         ...                ...                ...\n",
       "70  70  versicolor                5.8                4.0\n",
       "71  71      setosa                4.4                1.3\n",
       "72  72   virginica                6.3                5.6\n",
       "73  73  versicolor                5.1                3.0\n",
       "74  74   virginica                5.9                5.1\n",
       "\n",
       "[75 rows x 4 columns]"
      ]
     },
     "execution_count": 35,
     "metadata": {},
     "output_type": "execute_result"
    }
   ],
   "source": [
    "test"
   ]
  },
  {
   "cell_type": "code",
   "execution_count": 36,
   "metadata": {
    "executionInfo": {
     "elapsed": 5,
     "status": "ok",
     "timestamp": 1635729778719,
     "user": {
      "displayName": "정재용",
      "photoUrl": "https://lh3.googleusercontent.com/a/default-user=s64",
      "userId": "01298664065762991749"
     },
     "user_tz": -540
    },
    "id": "263J8iGDwS4_"
   },
   "outputs": [],
   "source": [
    "test2 = np.array(test)\n",
    "test3 = np.array(test2[:,2:]).astype(np.float64)"
   ]
  },
  {
   "cell_type": "markdown",
   "metadata": {
    "id": "gGeH7UK--OLo"
   },
   "source": [
    "#loocv를 이용하여 만든 모델들을 앙상블\n",
    "\n",
    "만약 데이터에 이상치가 존재한다면 중앙값을 사용하고, 존재하지 않는다면 평균을 사용(각각 사용해서 2개의 제출 파일을 만들어서 제출하였습니다)\n",
    "\n",
    "(평가 기준이 MSE가 아닌 MAE이기 때문에, 데이터에 이상치가 존재할 가능성이 높고 중앙값을 사용하는 것이 더 적절할 수 있다고 생각합니다.)"
   ]
  },
  {
   "cell_type": "code",
   "execution_count": 37,
   "metadata": {
    "executionInfo": {
     "elapsed": 14393,
     "status": "ok",
     "timestamp": 1635729793107,
     "user": {
      "displayName": "정재용",
      "photoUrl": "https://lh3.googleusercontent.com/a/default-user=s64",
      "userId": "01298664065762991749"
     },
     "user_tz": -540
    },
    "id": "enWwCamo5Hwx"
   },
   "outputs": [],
   "source": [
    "ans = np.zeros((len(test2), 2))\n",
    "\n",
    "for i in range(len(ans)):\n",
    "    \n",
    "    #model1\n",
    "    if test2[i][1]=='setosa':\n",
    "        tmp1 = []\n",
    "        tmp2 = []\n",
    "        for j in range(len(models_1_1)):\n",
    "            ans_tmp1 = models_1_1[j].predict(test3[i][0].reshape(-1, 1))\n",
    "            ans_tmp2 = model_1_2[j].predict(test3[i].reshape(-1, 2))\n",
    "            tmp1.append(ans_tmp1)\n",
    "            tmp2.append(ans_tmp2)\n",
    "\n",
    "        ans[i][0] = np.mean(tmp1)#\n",
    "        ans[i][1] = np.mean(tmp2)#\n",
    "\n",
    "\n",
    "    #model2\n",
    "    elif test2[i][1]=='versicolor':\n",
    "        tmp1 = []\n",
    "        tmp2 = []\n",
    "        for j in range(len(models_2_1)):\n",
    "            ans_tmp1 = models_2_1[j].predict(test3[i].reshape(-1, 2))\n",
    "            ans_tmp2 = models_2_2[j].predict(test3[i][1].reshape(-1, 1))\n",
    "            tmp1.append(ans_tmp1)\n",
    "            tmp2.append(ans_tmp2)\n",
    "        \n",
    "        ans[i][0] = np.mean(tmp1)\n",
    "        ans[i][1] = np.mean(tmp2)\n",
    "\n",
    "    else:\n",
    "        tmp1 = []\n",
    "        tmp2 = []\n",
    "        for j in range(len(models_3_1)):\n",
    "            ans_tmp1 = models_3_1[j].predict(test3[i].reshape(-1, 2))\n",
    "            ans_tmp2 = models_3_2[j].predict(test3[i].reshape(-1, 2))\n",
    "            tmp1.append(ans_tmp1)\n",
    "            tmp2.append(ans_tmp2)\n",
    "        \n",
    "        ans[i][0] = np.mean(tmp1)\n",
    "        ans[i][1] = np.mean(tmp2)\n"
   ]
  },
  {
   "cell_type": "code",
   "execution_count": null,
   "metadata": {
    "executionInfo": {
     "elapsed": 16,
     "status": "ok",
     "timestamp": 1635729793109,
     "user": {
      "displayName": "정재용",
      "photoUrl": "https://lh3.googleusercontent.com/a/default-user=s64",
      "userId": "01298664065762991749"
     },
     "user_tz": -540
    },
    "id": "TQwZzA9m8JGd"
   },
   "outputs": [],
   "source": [
    "submission = pd.read_csv('/gdrive/My Drive/dacon/iris/sample_submission.csv')\n",
    "submission['sepal width (cm)'] = ans[:,0]\n",
    "submission['petal width (cm)'] = ans[:,1]"
   ]
  },
  {
   "cell_type": "code",
   "execution_count": null,
   "metadata": {
    "executionInfo": {
     "elapsed": 525,
     "status": "ok",
     "timestamp": 1635729793622,
     "user": {
      "displayName": "정재용",
      "photoUrl": "https://lh3.googleusercontent.com/a/default-user=s64",
      "userId": "01298664065762991749"
     },
     "user_tz": -540
    },
    "id": "ieZHSktA5VIl"
   },
   "outputs": [],
   "source": [
    "submission.to_csv('/gdrive/My Drive/dacon/iris/second_submission_MAE_mean.csv', index=False)"
   ]
  },
  {
   "cell_type": "code",
   "execution_count": null,
   "metadata": {
    "colab": {
     "base_uri": "https://localhost:8080/",
     "height": 422
    },
    "executionInfo": {
     "elapsed": 8,
     "status": "ok",
     "timestamp": 1635729793623,
     "user": {
      "displayName": "정재용",
      "photoUrl": "https://lh3.googleusercontent.com/a/default-user=s64",
      "userId": "01298664065762991749"
     },
     "user_tz": -540
    },
    "id": "mQcq8tQDki7g",
    "outputId": "e400fd67-2c68-4e67-b1b0-687e0808aba5"
   },
   "outputs": [],
   "source": [
    "submission"
   ]
  },
  {
   "cell_type": "code",
   "execution_count": null,
   "metadata": {
    "executionInfo": {
     "elapsed": 6,
     "status": "ok",
     "timestamp": 1635729793623,
     "user": {
      "displayName": "정재용",
      "photoUrl": "https://lh3.googleusercontent.com/a/default-user=s64",
      "userId": "01298664065762991749"
     },
     "user_tz": -540
    },
    "id": "Pw0vCoVPlaQk"
   },
   "outputs": [],
   "source": [
    "test = pd.read_csv('/gdrive/My Drive/dacon/iris/iris_test.csv')"
   ]
  },
  {
   "cell_type": "code",
   "execution_count": null,
   "metadata": {
    "executionInfo": {
     "elapsed": 6,
     "status": "ok",
     "timestamp": 1635729793624,
     "user": {
      "displayName": "정재용",
      "photoUrl": "https://lh3.googleusercontent.com/a/default-user=s64",
      "userId": "01298664065762991749"
     },
     "user_tz": -540
    },
    "id": "9xcPH7Z9FcWG"
   },
   "outputs": [],
   "source": [
    "test2 = np.array(test)\n",
    "test3 = np.array(test2[:,2:]).astype(np.float64)"
   ]
  },
  {
   "cell_type": "code",
   "execution_count": null,
   "metadata": {
    "executionInfo": {
     "elapsed": 14532,
     "status": "ok",
     "timestamp": 1635729808150,
     "user": {
      "displayName": "정재용",
      "photoUrl": "https://lh3.googleusercontent.com/a/default-user=s64",
      "userId": "01298664065762991749"
     },
     "user_tz": -540
    },
    "id": "kXE3NZo_FcTG"
   },
   "outputs": [],
   "source": [
    "ans = np.zeros((len(test2), 2))\n",
    "\n",
    "for i in range(len(ans)):\n",
    "    \n",
    "    #model1\n",
    "    if test2[i][1]=='setosa':\n",
    "        tmp1 = []\n",
    "        tmp2 = []\n",
    "        for j in range(len(models_1_1)):\n",
    "            ans_tmp1 = models_1_1[j].predict(test3[i][0].reshape(-1, 1))\n",
    "            ans_tmp2 = model_1_2[j].predict(test3[i].reshape(-1, 2))\n",
    "            tmp1.append(ans_tmp1)\n",
    "            tmp2.append(ans_tmp2)\n",
    "\n",
    "        ans[i][0] = np.median(tmp1)#\n",
    "        ans[i][1] = np.median(tmp2)#\n",
    "\n",
    "\n",
    "    #model2\n",
    "    elif test2[i][1]=='versicolor':\n",
    "        tmp1 = []\n",
    "        tmp2 = []\n",
    "        for j in range(len(models_2_1)):\n",
    "            ans_tmp1 = models_2_1[j].predict(test3[i].reshape(-1, 2))\n",
    "            ans_tmp2 = models_2_2[j].predict(test3[i][1].reshape(-1, 1))\n",
    "            tmp1.append(ans_tmp1)\n",
    "            tmp2.append(ans_tmp2)\n",
    "        \n",
    "        ans[i][0] = np.median(tmp1)\n",
    "        ans[i][1] = np.median(tmp2)\n",
    "\n",
    "    else:\n",
    "        tmp1 = []\n",
    "        tmp2 = []\n",
    "        for j in range(len(models_3_1)):\n",
    "            ans_tmp1 = models_3_1[j].predict(test3[i].reshape(-1, 2))\n",
    "            ans_tmp2 = models_3_2[j].predict(test3[i].reshape(-1, 2))\n",
    "            tmp1.append(ans_tmp1)\n",
    "            tmp2.append(ans_tmp2)\n",
    "        \n",
    "        ans[i][0] = np.median(tmp1)\n",
    "        ans[i][1] = np.median(tmp2)"
   ]
  },
  {
   "cell_type": "code",
   "execution_count": null,
   "metadata": {
    "executionInfo": {
     "elapsed": 36,
     "status": "ok",
     "timestamp": 1635729808151,
     "user": {
      "displayName": "정재용",
      "photoUrl": "https://lh3.googleusercontent.com/a/default-user=s64",
      "userId": "01298664065762991749"
     },
     "user_tz": -540
    },
    "id": "9oHkYpR5FcQx"
   },
   "outputs": [],
   "source": [
    "submission = pd.read_csv('/gdrive/My Drive/dacon/iris/sample_submission.csv')\n",
    "submission['sepal width (cm)'] = ans[:,0]\n",
    "submission['petal width (cm)'] = ans[:,1]"
   ]
  },
  {
   "cell_type": "code",
   "execution_count": null,
   "metadata": {
    "executionInfo": {
     "elapsed": 34,
     "status": "ok",
     "timestamp": 1635729808152,
     "user": {
      "displayName": "정재용",
      "photoUrl": "https://lh3.googleusercontent.com/a/default-user=s64",
      "userId": "01298664065762991749"
     },
     "user_tz": -540
    },
    "id": "5Gr0KcH0FcOQ"
   },
   "outputs": [],
   "source": [
    "submission.to_csv('/gdrive/My Drive/dacon/iris/second_submission_MAE_median.csv', index=False)#"
   ]
  }
 ],
 "metadata": {
  "colab": {
   "authorship_tag": "ABX9TyPikkzg1lMB5ob0nJ6Zwvkp",
   "collapsed_sections": [],
   "name": "q.ipynb",
   "provenance": []
  },
  "kernelspec": {
   "display_name": "Python 3 (ipykernel)",
   "language": "python",
   "name": "python3"
  },
  "language_info": {
   "codemirror_mode": {
    "name": "ipython",
    "version": 3
   },
   "file_extension": ".py",
   "mimetype": "text/x-python",
   "name": "python",
   "nbconvert_exporter": "python",
   "pygments_lexer": "ipython3",
   "version": "3.9.6"
  },
  "toc": {
   "base_numbering": 1,
   "nav_menu": {},
   "number_sections": true,
   "sideBar": true,
   "skip_h1_title": false,
   "title_cell": "Table of Contents",
   "title_sidebar": "Contents",
   "toc_cell": false,
   "toc_position": {},
   "toc_section_display": true,
   "toc_window_display": false
  }
 },
 "nbformat": 4,
 "nbformat_minor": 1
}
